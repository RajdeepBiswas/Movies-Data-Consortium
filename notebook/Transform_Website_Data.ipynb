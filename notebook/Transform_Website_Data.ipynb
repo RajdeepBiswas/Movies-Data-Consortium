{
 "cells": [
  {
   "cell_type": "markdown",
   "metadata": {
    "nteract": {
     "transient": {
      "deleting": false
     }
    }
   },
   "source": [
    "### Table of Contents\n",
    "\n",
    "* [Initial Configurations](#IC)\n",
    "    * [Import Libraries](#IL)\n",
    "    * [Autheticate the AML Workspace](#AML)\n",
    "* [Get Data (Bronze)](#GD)\n",
    "    * [Setup Directory Structure](#SD)\n",
    "    * [Get Wiki data](#WD)\n",
    "    * [Parse Wiki data](#PD)\n",
    "    * [Write the RAW parsed data](#WD)\n",
    "    * [Check the uploaded files](#UF)\n",
    "    * [Read the wiki country and language data](#MD)\n",
    "    * [Features](#F)    \n",
    "* [Data Wrangling](#DW)\n",
    "    * [Step1. Rename Columns to a standard format](#S1)\n",
    "    * [Step2. Remove rows based on value of certain features](#S2)\n",
    "    * [Step3. Fix column types](#S3)\n",
    "    * [Step4. Handle null values](#S4)\n",
    "    * [Step5. Check for duplicates and handle if present](#S5)\n",
    "    * [Step6. Text data clean (NLP): Clean up the string attributes](#S6)\n",
    "    * [Step7. Drop the old columns, rename the cleaned columns](#S7)\n",
    "    * [Step8. Fix casing of Country column](#S8)\n",
    "    * [Step9. Fix null columns and data type after the new column additions](#S9)\n",
    "* [Put Data (Silver)](#PS)\n",
    "    * [Write the transformed dataframe to the silver zone](#WS)\n",
    "    * [Read silver zone country and language file](#RS)\n"
   ]
  },
  {
   "cell_type": "markdown",
   "metadata": {},
   "source": [
    "### Initial Configurations <a class=\"anchor\" id=\"IC\"></a>"
   ]
  },
  {
   "cell_type": "markdown",
   "metadata": {},
   "source": [
    "#### Import Libraries <a class=\"anchor\" id=\"IL\"></a>"
   ]
  },
  {
   "cell_type": "code",
   "execution_count": 5,
   "metadata": {
    "collapsed": true,
    "gather": {
     "logged": 1620574951022
    },
    "jupyter": {
     "outputs_hidden": false,
     "source_hidden": false
    },
    "nteract": {
     "transient": {
      "deleting": false
     }
    }
   },
   "outputs": [],
   "source": [
    "#Import required Libraries\n",
    "import os\n",
    "\n",
    "import numpy as np # linear algebra\n",
    "import pandas as pd # data processing, CSV file I/O (e.g. pd.read_csv)\n",
    "import seaborn as sns\n",
    "import matplotlib.pyplot as plt\n",
    "%matplotlib inline\n",
    "\n",
    "import warnings\n",
    "warnings.filterwarnings(\"ignore\")\n",
    "\n",
    "from bs4 import BeautifulSoup\n",
    "import urllib3\n",
    "\n",
    "import azureml.core\n",
    "import azureml.automl\n",
    "#from azureml.core.experiment import Experiment\n",
    "from azureml.core import Workspace, Dataset, Datastore"
   ]
  },
  {
   "cell_type": "markdown",
   "metadata": {
    "nteract": {
     "transient": {
      "deleting": false
     }
    }
   },
   "source": [
    "#### Autheticate the AML Workspace <a class=\"anchor\" id=\"AML\"></a>"
   ]
  },
  {
   "cell_type": "code",
   "execution_count": 2,
   "metadata": {
    "gather": {
     "logged": 1620574560317
    },
    "jupyter": {
     "outputs_hidden": false,
     "source_hidden": false
    },
    "nteract": {
     "transient": {
      "deleting": false
     }
    }
   },
   "outputs": [
    {
     "data": {
      "text/html": [
       "<div>\n",
       "<style scoped>\n",
       "    .dataframe tbody tr th:only-of-type {\n",
       "        vertical-align: middle;\n",
       "    }\n",
       "\n",
       "    .dataframe tbody tr th {\n",
       "        vertical-align: top;\n",
       "    }\n",
       "\n",
       "    .dataframe thead th {\n",
       "        text-align: right;\n",
       "    }\n",
       "</style>\n",
       "<table border=\"1\" class=\"dataframe\">\n",
       "  <thead>\n",
       "    <tr style=\"text-align: right;\">\n",
       "      <th></th>\n",
       "      <th></th>\n",
       "    </tr>\n",
       "  </thead>\n",
       "  <tbody>\n",
       "    <tr>\n",
       "      <th>Subscription ID</th>\n",
       "      <td>7ca151c5-e4f7-4663-9583-834f4e0e6ed4</td>\n",
       "    </tr>\n",
       "    <tr>\n",
       "      <th>Workspace Name</th>\n",
       "      <td>houston-techsummit-workspace</td>\n",
       "    </tr>\n",
       "    <tr>\n",
       "      <th>Resource Group</th>\n",
       "      <td>calcutta_demos</td>\n",
       "    </tr>\n",
       "    <tr>\n",
       "      <th>Location</th>\n",
       "      <td>eastus2</td>\n",
       "    </tr>\n",
       "  </tbody>\n",
       "</table>\n",
       "</div>"
      ],
      "text/plain": [
       "                                                     \n",
       "Subscription ID  7ca151c5-e4f7-4663-9583-834f4e0e6ed4\n",
       "Workspace Name   houston-techsummit-workspace        \n",
       "Resource Group   calcutta_demos                      \n",
       "Location         eastus2                             "
      ]
     },
     "execution_count": 2,
     "metadata": {},
     "output_type": "execute_result"
    }
   ],
   "source": [
    "#Autheticate the AML Workspace\n",
    "workspace = Workspace.from_config()\n",
    "output = {}\n",
    "output['Subscription ID'] = workspace.subscription_id\n",
    "output['Workspace Name'] = workspace.name\n",
    "output['Resource Group'] = workspace.resource_group\n",
    "output['Location'] = workspace.location\n",
    "pd.set_option('display.max_colwidth', -1)\n",
    "outputDf = pd.DataFrame(data = output, index = [''])\n",
    "outputDf.T"
   ]
  },
  {
   "cell_type": "markdown",
   "metadata": {
    "nteract": {
     "transient": {
      "deleting": false
     }
    }
   },
   "source": [
    "### Get Data (Bronze) <a class=\"anchor\" id=\"GD\"></a>\n",
    "- Raw data extraction for the file, API based and web datasets. Let us call this __Bronze Layer__.\n",
    "- Data transformation using python from Raw to Processed stage. We will call this __Silver Layer__.\n",
    "- Finally store the processed data using standard taxonomy in a SQL based serving layer. We will call this __Gold Layer__."
   ]
  },
  {
   "cell_type": "markdown",
   "metadata": {
    "nteract": {
     "transient": {
      "deleting": false
     }
    }
   },
   "source": [
    "#### Setup Directory Structure <a class=\"anchor\" id=\"SD\"></a>"
   ]
  },
  {
   "cell_type": "code",
   "execution_count": 3,
   "metadata": {
    "collapsed": true,
    "gather": {
     "logged": 1620574633073
    },
    "jupyter": {
     "outputs_hidden": false,
     "source_hidden": false
    },
    "nteract": {
     "transient": {
      "deleting": false
     }
    }
   },
   "outputs": [],
   "source": [
    "data_folder = os.path.join(os.getcwd(), 'data')\n",
    "#'/mnt/batch/tasks/shared/LS_root/mounts/clusters/compute-cpu-ds12-v2/code/Users/rabiswas/Movies_Data_Consortium/data'\n",
    "\n",
    "#Create the data directory\n",
    "os.makedirs(data_folder, exist_ok=True)\n",
    "\n",
    "#Create the bronze, silver and gold folders\n",
    "bronze_data_folder = data_folder +\"/bronze\"\n",
    "os.makedirs(bronze_data_folder, exist_ok=True)\n",
    "\n",
    "silver_data_folder = data_folder +\"/silver\"\n",
    "os.makedirs(silver_data_folder, exist_ok=True)\n",
    "\n",
    "gold_data_folder = data_folder +\"/gold\"\n",
    "os.makedirs(gold_data_folder, exist_ok=True)\n",
    "\n",
    "\n",
    "#Create sub folder\n",
    "#'/mnt/batch/tasks/shared/LS_root/mounts/clusters/compute-cpu-ds12-v2/code/Users/rabiswas/Movies_Data_Consortium/data/bronze/flat_file'\n",
    "file_data_bronze = bronze_data_folder +\"/website_file\"\n",
    "os.makedirs(file_data_bronze, exist_ok=True)\n",
    "\n",
    "#Manually upload the folders from Kaggle"
   ]
  },
  {
   "cell_type": "code",
   "execution_count": 4,
   "metadata": {
    "gather": {
     "logged": 1620574638727
    },
    "jupyter": {
     "outputs_hidden": false,
     "source_hidden": false
    },
    "nteract": {
     "transient": {
      "deleting": false
     }
    }
   },
   "outputs": [
    {
     "data": {
      "text/plain": [
       "'/mnt/batch/tasks/shared/LS_root/mounts/clusters/compute-cpu-ds12-v2/code/Users/rabiswas/Movies_Data_Consortium/data/bronze/website_file'"
      ]
     },
     "execution_count": 4,
     "metadata": {},
     "output_type": "execute_result"
    }
   ],
   "source": [
    "file_data_bronze"
   ]
  },
  {
   "cell_type": "markdown",
   "metadata": {
    "nteract": {
     "transient": {
      "deleting": false
     }
    }
   },
   "source": [
    "#### Get Wiki data <a class=\"anchor\" id=\"WD\"></a>"
   ]
  },
  {
   "cell_type": "code",
   "execution_count": 7,
   "metadata": {
    "collapsed": true,
    "gather": {
     "logged": 1620575027748
    },
    "jupyter": {
     "outputs_hidden": false,
     "source_hidden": false
    },
    "nteract": {
     "transient": {
      "deleting": false
     }
    }
   },
   "outputs": [],
   "source": [
    "#Make a http get request to the wiki\n",
    "#We need a PoolManager instance to make requests. \n",
    "#This object handles all of the details of connection pooling and thread safety so that you don’t have to:\n",
    "http = urllib3.PoolManager()\n",
    "\n",
    "#To make a request use request():\n",
    "r = http.request('GET', 'https://en.wikipedia.org/wiki/List_of_official_languages_by_country_and_territory')\n",
    "#r.data"
   ]
  },
  {
   "cell_type": "code",
   "execution_count": 124,
   "metadata": {
    "collapsed": true,
    "gather": {
     "logged": 1620591182565
    },
    "jupyter": {
     "outputs_hidden": false,
     "source_hidden": false
    },
    "nteract": {
     "transient": {
      "deleting": false
     }
    }
   },
   "outputs": [],
   "source": [
    "#r.data"
   ]
  },
  {
   "cell_type": "markdown",
   "metadata": {
    "nteract": {
     "transient": {
      "deleting": false
     }
    }
   },
   "source": [
    "#### Parse Wiki data <a class=\"anchor\" id=\"PD\"></a>"
   ]
  },
  {
   "cell_type": "code",
   "execution_count": 11,
   "metadata": {
    "collapsed": true,
    "gather": {
     "logged": 1620575209502
    },
    "jupyter": {
     "outputs_hidden": false,
     "source_hidden": false
    },
    "nteract": {
     "transient": {
      "deleting": false
     }
    }
   },
   "outputs": [],
   "source": [
    "#Read the html payload using BeautifulSoup\n",
    "# query the website and return the html to the variable ‘page’\n",
    "page = r.data\n",
    "\n",
    "#Finally, parse the page into BeautifulSoup format so we can use BeautifulSoup to work on it.\n",
    "# parse the html using beautiful soup and store in variable 'soup'\n",
    "soup = BeautifulSoup(page, 'html.parser')"
   ]
  },
  {
   "cell_type": "code",
   "execution_count": 12,
   "metadata": {
    "collapsed": true,
    "gather": {
     "logged": 1620575294135
    },
    "jupyter": {
     "outputs_hidden": false,
     "source_hidden": false
    },
    "nteract": {
     "transient": {
      "deleting": false
     }
    }
   },
   "outputs": [
    {
     "name": "stdout",
     "output_type": "stream",
     "text": [
      "Total number of tables are 9 \n"
     ]
    }
   ],
   "source": [
    "#Find the table structure you will need to deal with (how many tables there are?) \n",
    "all_tables = soup.find_all(\"table\")\n",
    "print(\"Total number of tables are {} \".format(len(all_tables)))"
   ]
  },
  {
   "cell_type": "code",
   "execution_count": 14,
   "metadata": {
    "collapsed": true,
    "gather": {
     "logged": 1620575674059
    },
    "jupyter": {
     "outputs_hidden": false,
     "source_hidden": false
    },
    "nteract": {
     "transient": {
      "deleting": false
     }
    }
   },
   "outputs": [
    {
     "name": "stdout",
     "output_type": "stream",
     "text": [
      "<class 'bs4.element.Tag'>\n"
     ]
    }
   ],
   "source": [
    "#Find the right table using bs4 \n",
    "# We used the  the class attribute\n",
    "data_table = soup.find('table', attrs={'class': 'wikitable'})\n",
    "print(type(data_table))"
   ]
  },
  {
   "cell_type": "code",
   "execution_count": 125,
   "metadata": {
    "collapsed": true,
    "gather": {
     "logged": 1620591218731
    },
    "jupyter": {
     "outputs_hidden": false,
     "source_hidden": false
    },
    "nteract": {
     "transient": {
      "deleting": false
     }
    }
   },
   "outputs": [],
   "source": [
    "#data_table"
   ]
  },
  {
   "cell_type": "code",
   "execution_count": 20,
   "metadata": {
    "collapsed": true,
    "gather": {
     "logged": 1620575988692
    },
    "jupyter": {
     "outputs_hidden": false,
     "source_hidden": false
    },
    "nteract": {
     "transient": {
      "deleting": false
     }
    }
   },
   "outputs": [],
   "source": [
    "#The <table> tag defines an HTML table.\n",
    "\n",
    "#Each table row is defined with a <tr> tag. Each table header is defined with a <th> tag. \n",
    "#Each table data\n",
    "\n",
    "#data_table\n",
    "\n",
    "#<table class=\"wikitable sortable\">\n",
    "#<tbody><tr>\n",
    "#<th><span class=\"anchor\" id=\"A\"></span>Country\n",
    "#</th>\n",
    "#<th width=\"300pt\">Official language\n",
    "#</th>\n",
    "#<th width=\"300pt\">Regional language\n",
    "#</th>\n",
    "#<th>Minority language\n",
    "#</th>\n",
    "#<th>National language\n",
    "#</th>\n",
    "#<th>Widely spoken\n",
    "#</th></tr>\n",
    "#<tr>\n",
    "#<td><span class=\"flagicon\"><img alt=\"\" class=\"thumbborder\" data-file-height=\"300\" data-file-width=\"600\" decoding=\"async\" height=\"12\" src=\"//upload.wikimedia.org/wikipedia/commons/thumb/7/7a/Flag_of_the_Republic_of_Abkhazia.svg/23px-Flag_of_the_Republic_of_Abkhazia.svg.png\" srcset=\"//upload.wikimedia.org/wikipedia/commons/thumb/7/7a/Flag_of_the_Republic_of_Abkhazia.svg/35px-Flag_of_the_Republic_of_Abkhazia.svg.png 1.5x, //upload.wikimedia.org/wikipedia/commons/thumb/7/7a/Flag_of_the_Republic_of_Abkhazia.svg/46px-Flag_of_the_Republic_of_Abkhazia.svg.png 2x\" width=\"23\"/></span> <a class=\"mw-redirect\" href=\"/wiki/Languages_of_Abkhazia\" title=\"Languages of Abkhazia\">Abkhazia</a><sup class=\"reference\" id=\"cite_ref-DT_1-0\"><a href=\"#cite_note-DT-1\">[a]</a></sup>\n",
    "#</td>\n",
    "#<td>\n",
    "#<ul><li><a href=\"/wiki/Abkhaz_language\" title=\"Abkhaz language\">Abkhaz</a></li>\n",
    "#<li><a href=\"/wiki/Russian_language\" title=\"Russian language\">Russian</a></li></ul>\n",
    "#</td>\n",
    "#<td>\n",
    "#</td>\n",
    "#<td><a href=\"/wiki/Georgian_language\" title=\"Georgian language\">Georgian</a>\n",
    "#</td>\n",
    "#<td><a href=\"/wiki/Abkhaz_language\" title=\"Abkhaz language\">Abkhaz</a>\n",
    "#</td>\n",
    "#<td>\n",
    "#</td></tr>"
   ]
  },
  {
   "cell_type": "code",
   "execution_count": 32,
   "metadata": {
    "collapsed": true,
    "gather": {
     "logged": 1620576945498
    },
    "jupyter": {
     "outputs_hidden": false,
     "source_hidden": false
    },
    "nteract": {
     "transient": {
      "deleting": false
     }
    }
   },
   "outputs": [
    {
     "data": {
      "text/plain": [
       "<tr>\n",
       "<th><span class=\"anchor\" id=\"A\"></span>Country\n",
       "</th>\n",
       "<th width=\"300pt\">Official language\n",
       "</th>\n",
       "<th width=\"300pt\">Regional language\n",
       "</th>\n",
       "<th>Minority language\n",
       "</th>\n",
       "<th>National language\n",
       "</th>\n",
       "<th>Widely spoken\n",
       "</th></tr>"
      ]
     },
     "execution_count": 32,
     "metadata": {},
     "output_type": "execute_result"
    }
   ],
   "source": [
    "#Get the first row since that contains the header of the table\n",
    "header_table = data_table.tbody.findAll('tr', recursive=False)[0]\n",
    "header_table"
   ]
  },
  {
   "cell_type": "code",
   "execution_count": 34,
   "metadata": {
    "collapsed": true,
    "gather": {
     "logged": 1620577031181
    },
    "jupyter": {
     "outputs_hidden": false,
     "source_hidden": false
    },
    "nteract": {
     "transient": {
      "deleting": false
     }
    }
   },
   "outputs": [
    {
     "data": {
      "text/plain": [
       "['Country',\n",
       " 'Official language',\n",
       " 'Regional language',\n",
       " 'Minority language',\n",
       " 'National language',\n",
       " 'Widely spoken']"
      ]
     },
     "execution_count": 34,
     "metadata": {},
     "output_type": "execute_result"
    }
   ],
   "source": [
    "#Extract the header from the table\n",
    "header = [th.getText().strip() for th in header_table.findAll('th')]\n",
    "header"
   ]
  },
  {
   "cell_type": "code",
   "execution_count": null,
   "metadata": {},
   "outputs": [],
   "source": [
    "data = data_table.tbody.findAll('tr', recursive=False)"
   ]
  },
  {
   "cell_type": "code",
   "execution_count": 46,
   "metadata": {
    "collapsed": true,
    "gather": {
     "logged": 1620578198002
    },
    "jupyter": {
     "outputs_hidden": false,
     "source_hidden": false
    },
    "nteract": {
     "transient": {
      "deleting": false
     }
    }
   },
   "outputs": [
    {
     "data": {
      "text/plain": [
       "<tr>\n",
       "<td><span class=\"flagicon\"><img alt=\"\" class=\"thumbborder\" data-file-height=\"300\" data-file-width=\"600\" decoding=\"async\" height=\"12\" src=\"//upload.wikimedia.org/wikipedia/commons/thumb/7/7a/Flag_of_the_Republic_of_Abkhazia.svg/23px-Flag_of_the_Republic_of_Abkhazia.svg.png\" srcset=\"//upload.wikimedia.org/wikipedia/commons/thumb/7/7a/Flag_of_the_Republic_of_Abkhazia.svg/35px-Flag_of_the_Republic_of_Abkhazia.svg.png 1.5x, //upload.wikimedia.org/wikipedia/commons/thumb/7/7a/Flag_of_the_Republic_of_Abkhazia.svg/46px-Flag_of_the_Republic_of_Abkhazia.svg.png 2x\" width=\"23\"/></span> <a class=\"mw-redirect\" href=\"/wiki/Languages_of_Abkhazia\" title=\"Languages of Abkhazia\">Abkhazia</a><sup class=\"reference\" id=\"cite_ref-DT_1-0\"><a href=\"#cite_note-DT-1\">[a]</a></sup>\n",
       "</td>\n",
       "<td>\n",
       "<ul><li><a href=\"/wiki/Abkhaz_language\" title=\"Abkhaz language\">Abkhaz</a></li>\n",
       "<li><a href=\"/wiki/Russian_language\" title=\"Russian language\">Russian</a></li></ul>\n",
       "</td>\n",
       "<td>\n",
       "</td>\n",
       "<td><a href=\"/wiki/Georgian_language\" title=\"Georgian language\">Georgian</a>\n",
       "</td>\n",
       "<td><a href=\"/wiki/Abkhaz_language\" title=\"Abkhaz language\">Abkhaz</a>\n",
       "</td>\n",
       "<td>\n",
       "</td></tr>"
      ]
     },
     "execution_count": 46,
     "metadata": {},
     "output_type": "execute_result"
    }
   ],
   "source": [
    "td = data[1]\n",
    "td"
   ]
  },
  {
   "cell_type": "code",
   "execution_count": 47,
   "metadata": {
    "collapsed": true,
    "gather": {
     "logged": 1620578212520
    },
    "jupyter": {
     "outputs_hidden": false,
     "source_hidden": false
    },
    "nteract": {
     "transient": {
      "deleting": false
     }
    }
   },
   "outputs": [
    {
     "data": {
      "text/plain": [
       "'Abkhazia[a]\\n\\n\\nAbkhaz\\nRussian\\n\\n\\n\\nGeorgian\\n\\nAbkhaz'"
      ]
     },
     "execution_count": 47,
     "metadata": {},
     "output_type": "execute_result"
    }
   ],
   "source": [
    "td.getText().strip()"
   ]
  },
  {
   "cell_type": "code",
   "execution_count": 48,
   "metadata": {
    "collapsed": true,
    "gather": {
     "logged": 1620578513795
    },
    "jupyter": {
     "outputs_hidden": false,
     "source_hidden": false
    },
    "nteract": {
     "transient": {
      "deleting": false
     }
    }
   },
   "outputs": [
    {
     "data": {
      "text/plain": [
       "['Abkhazia[a]', '\\nAbkhaz\\nRussian', '', 'Georgian', 'Abkhaz']"
      ]
     },
     "execution_count": 48,
     "metadata": {},
     "output_type": "execute_result"
    }
   ],
   "source": [
    "td.getText().strip().split(\"\\n\\n\", 5)"
   ]
  },
  {
   "cell_type": "code",
   "execution_count": 49,
   "metadata": {
    "collapsed": true,
    "gather": {
     "logged": 1620578563220
    },
    "jupyter": {
     "outputs_hidden": false,
     "source_hidden": false
    },
    "nteract": {
     "transient": {
      "deleting": false
     }
    }
   },
   "outputs": [
    {
     "data": {
      "text/plain": [
       "['Afghanistan[1]',\n",
       " '\\nPashto\\nDari',\n",
       " '\\nUzbek[b]\\nTurkmen[b]\\nPashai[b]\\nNuristani[b]\\nBalochi[b]\\nPamiri[b]',\n",
       " '',\n",
       " 'Pashto']"
      ]
     },
     "execution_count": 49,
     "metadata": {},
     "output_type": "execute_result"
    }
   ],
   "source": [
    "td = data[2]\n",
    "td.getText().strip().split(\"\\n\\n\", 5)"
   ]
  },
  {
   "cell_type": "code",
   "execution_count": 52,
   "metadata": {
    "collapsed": true,
    "gather": {
     "logged": 1620578796258
    },
    "jupyter": {
     "outputs_hidden": false,
     "source_hidden": false
    },
    "nteract": {
     "transient": {
      "deleting": false
     }
    }
   },
   "outputs": [
    {
     "data": {
      "text/plain": [
       "['Algeria[3]', '\\nArabic\\nTamazight', '', '', '\\nArabic\\nTamazight', 'French']"
      ]
     },
     "execution_count": 52,
     "metadata": {},
     "output_type": "execute_result"
    }
   ],
   "source": [
    "data_rows = []\n",
    "#Loop from 1st row since 0th row is header\n",
    "for i in range (1,len(data)):\n",
    "    td = data[i]\n",
    "    data_rows.append(td.getText().strip().split(\"\\n\\n\", 5))\n",
    "data_rows[3]"
   ]
  },
  {
   "cell_type": "code",
   "execution_count": 53,
   "metadata": {
    "collapsed": true,
    "gather": {
     "logged": 1620578860247
    },
    "jupyter": {
     "outputs_hidden": false,
     "source_hidden": false
    },
    "nteract": {
     "transient": {
      "deleting": false
     }
    }
   },
   "outputs": [
    {
     "data": {
      "text/html": [
       "<div>\n",
       "<style scoped>\n",
       "    .dataframe tbody tr th:only-of-type {\n",
       "        vertical-align: middle;\n",
       "    }\n",
       "\n",
       "    .dataframe tbody tr th {\n",
       "        vertical-align: top;\n",
       "    }\n",
       "\n",
       "    .dataframe thead th {\n",
       "        text-align: right;\n",
       "    }\n",
       "</style>\n",
       "<table border=\"1\" class=\"dataframe\">\n",
       "  <thead>\n",
       "    <tr style=\"text-align: right;\">\n",
       "      <th></th>\n",
       "      <th>Country</th>\n",
       "      <th>Official language</th>\n",
       "      <th>Regional language</th>\n",
       "      <th>Minority language</th>\n",
       "      <th>National language</th>\n",
       "      <th>Widely spoken</th>\n",
       "    </tr>\n",
       "  </thead>\n",
       "  <tbody>\n",
       "    <tr>\n",
       "      <th>0</th>\n",
       "      <td>Abkhazia[a]</td>\n",
       "      <td>\\nAbkhaz\\nRussian</td>\n",
       "      <td></td>\n",
       "      <td>Georgian</td>\n",
       "      <td>Abkhaz</td>\n",
       "      <td>None</td>\n",
       "    </tr>\n",
       "    <tr>\n",
       "      <th>1</th>\n",
       "      <td>Afghanistan[1]</td>\n",
       "      <td>\\nPashto\\nDari</td>\n",
       "      <td>\\nUzbek[b]\\nTurkmen[b]\\nPashai[b]\\nNuristani[b]\\nBalochi[b]\\nPamiri[b]</td>\n",
       "      <td></td>\n",
       "      <td>Pashto</td>\n",
       "      <td>None</td>\n",
       "    </tr>\n",
       "    <tr>\n",
       "      <th>2</th>\n",
       "      <td>Albania[2]</td>\n",
       "      <td>Albanian</td>\n",
       "      <td></td>\n",
       "      <td>\\nGreek\\nMacedonian\\nAromanian</td>\n",
       "      <td></td>\n",
       "      <td>Italian</td>\n",
       "    </tr>\n",
       "    <tr>\n",
       "      <th>3</th>\n",
       "      <td>Algeria[3]</td>\n",
       "      <td>\\nArabic\\nTamazight</td>\n",
       "      <td></td>\n",
       "      <td></td>\n",
       "      <td>\\nArabic\\nTamazight</td>\n",
       "      <td>French</td>\n",
       "    </tr>\n",
       "    <tr>\n",
       "      <th>4</th>\n",
       "      <td>Andorra</td>\n",
       "      <td>Catalan[4]</td>\n",
       "      <td></td>\n",
       "      <td>\\nSpanish\\nFrench\\nPortuguese</td>\n",
       "      <td>None</td>\n",
       "      <td>None</td>\n",
       "    </tr>\n",
       "  </tbody>\n",
       "</table>\n",
       "</div>"
      ],
      "text/plain": [
       "          Country    Official language  \\\n",
       "0  Abkhazia[a]     \\nAbkhaz\\nRussian     \n",
       "1  Afghanistan[1]  \\nPashto\\nDari        \n",
       "2  Albania[2]      Albanian              \n",
       "3  Algeria[3]      \\nArabic\\nTamazight   \n",
       "4  Andorra         Catalan[4]            \n",
       "\n",
       "                                                        Regional language  \\\n",
       "0                                                                           \n",
       "1  \\nUzbek[b]\\nTurkmen[b]\\nPashai[b]\\nNuristani[b]\\nBalochi[b]\\nPamiri[b]   \n",
       "2                                                                           \n",
       "3                                                                           \n",
       "4                                                                           \n",
       "\n",
       "                Minority language    National language Widely spoken  \n",
       "0  Georgian                        Abkhaz               None          \n",
       "1                                  Pashto               None          \n",
       "2  \\nGreek\\nMacedonian\\nAromanian                       Italian       \n",
       "3                                  \\nArabic\\nTamazight  French        \n",
       "4  \\nSpanish\\nFrench\\nPortuguese   None                 None          "
      ]
     },
     "execution_count": 53,
     "metadata": {},
     "output_type": "execute_result"
    }
   ],
   "source": [
    "df_website_data = pd.DataFrame(data_rows, columns=header)\n",
    "df_website_data.head()"
   ]
  },
  {
   "cell_type": "code",
   "execution_count": 69,
   "metadata": {
    "collapsed": true,
    "gather": {
     "logged": 1620579762003
    },
    "jupyter": {
     "outputs_hidden": false,
     "source_hidden": false
    },
    "nteract": {
     "transient": {
      "deleting": false
     }
    }
   },
   "outputs": [
    {
     "data": {
      "text/html": [
       "<div>\n",
       "<style scoped>\n",
       "    .dataframe tbody tr th:only-of-type {\n",
       "        vertical-align: middle;\n",
       "    }\n",
       "\n",
       "    .dataframe tbody tr th {\n",
       "        vertical-align: top;\n",
       "    }\n",
       "\n",
       "    .dataframe thead th {\n",
       "        text-align: right;\n",
       "    }\n",
       "</style>\n",
       "<table border=\"1\" class=\"dataframe\">\n",
       "  <thead>\n",
       "    <tr style=\"text-align: right;\">\n",
       "      <th></th>\n",
       "      <th>Country</th>\n",
       "      <th>Official language</th>\n",
       "      <th>Regional language</th>\n",
       "      <th>Minority language</th>\n",
       "      <th>National language</th>\n",
       "      <th>Widely spoken</th>\n",
       "    </tr>\n",
       "  </thead>\n",
       "  <tbody>\n",
       "    <tr>\n",
       "      <th>232</th>\n",
       "      <td>Zambia</td>\n",
       "      <td>English</td>\n",
       "      <td>None</td>\n",
       "      <td>None</td>\n",
       "      <td>None</td>\n",
       "      <td>None</td>\n",
       "    </tr>\n",
       "    <tr>\n",
       "      <th>233</th>\n",
       "      <td>Zimbabwe</td>\n",
       "      <td>\\nChewa\\nChibarwe\\nEnglish\\nKalanga\\nKhoisan[g][77]\\nNambya\\nNdau\\nNdebele\\nShangani\\nShona\\nSign language[h]\\nSotho\\nTonga\\nTswana\\nVenda\\nXhosa</td>\n",
       "      <td>None</td>\n",
       "      <td>None</td>\n",
       "      <td>None</td>\n",
       "      <td>None</td>\n",
       "    </tr>\n",
       "  </tbody>\n",
       "</table>\n",
       "</div>"
      ],
      "text/plain": [
       "      Country  \\\n",
       "232  Zambia     \n",
       "233  Zimbabwe   \n",
       "\n",
       "                                                                                                                                     Official language  \\\n",
       "232  English                                                                                                                                             \n",
       "233  \\nChewa\\nChibarwe\\nEnglish\\nKalanga\\nKhoisan[g][77]\\nNambya\\nNdau\\nNdebele\\nShangani\\nShona\\nSign language[h]\\nSotho\\nTonga\\nTswana\\nVenda\\nXhosa   \n",
       "\n",
       "    Regional language Minority language National language Widely spoken  \n",
       "232  None              None              None              None          \n",
       "233  None              None              None              None          "
      ]
     },
     "execution_count": 69,
     "metadata": {},
     "output_type": "execute_result"
    }
   ],
   "source": [
    "#Validate that we got all the data\n",
    "df_website_data.tail(2)"
   ]
  },
  {
   "cell_type": "markdown",
   "metadata": {
    "nteract": {
     "transient": {
      "deleting": false
     }
    }
   },
   "source": [
    "#### Write the RAW parsed data <a class=\"anchor\" id=\"WRD\"></a>"
   ]
  },
  {
   "cell_type": "code",
   "execution_count": 57,
   "metadata": {
    "collapsed": true,
    "gather": {
     "logged": 1620579192432
    },
    "jupyter": {
     "outputs_hidden": false,
     "source_hidden": false
    },
    "nteract": {
     "transient": {
      "deleting": false
     }
    }
   },
   "outputs": [],
   "source": [
    "bronze_file_name = file_data_bronze + \"/wiki_country_language.csv\"\n",
    "df_website_data.to_csv(bronze_file_name, index=False)"
   ]
  },
  {
   "cell_type": "code",
   "execution_count": 58,
   "metadata": {
    "collapsed": true,
    "gather": {
     "logged": 1620579194398
    },
    "jupyter": {
     "outputs_hidden": false,
     "source_hidden": false
    },
    "nteract": {
     "transient": {
      "deleting": false
     }
    }
   },
   "outputs": [
    {
     "data": {
      "text/plain": [
       "'/mnt/batch/tasks/shared/LS_root/mounts/clusters/compute-cpu-ds12-v2/code/Users/rabiswas/Movies_Data_Consortium/data/bronze/website_file/wiki_country_language.csv'"
      ]
     },
     "execution_count": 58,
     "metadata": {},
     "output_type": "execute_result"
    }
   ],
   "source": [
    "bronze_file_name"
   ]
  },
  {
   "cell_type": "markdown",
   "metadata": {
    "nteract": {
     "transient": {
      "deleting": false
     }
    }
   },
   "source": [
    "#### Check the uploaded files <a class=\"anchor\" id=\"UF\"></a>"
   ]
  },
  {
   "cell_type": "code",
   "execution_count": 59,
   "metadata": {
    "gather": {
     "logged": 1620579199581
    },
    "jupyter": {
     "outputs_hidden": false,
     "source_hidden": false
    },
    "nteract": {
     "transient": {
      "deleting": false
     }
    }
   },
   "outputs": [
    {
     "name": "stdout",
     "output_type": "stream",
     "text": [
      "/mnt/batch/tasks/shared/LS_root/mounts/clusters/compute-cpu-ds12-v2/code/Users/rabiswas/Movies_Data_Consortium/data/bronze/website_file/wiki_country_language.csv\n"
     ]
    }
   ],
   "source": [
    "#List the folder structure and the files\n",
    "for root, directories, files in os.walk(file_data_bronze, topdown=True):\n",
    "\tfor name in directories:\n",
    "\t\tprint(os.path.join(root, name))    \n",
    "\tfor name in files:\n",
    "\t\tprint(os.path.join(root, name))"
   ]
  },
  {
   "cell_type": "markdown",
   "metadata": {
    "nteract": {
     "transient": {
      "deleting": false
     }
    }
   },
   "source": [
    "#### Read the wiki country and language data <a class=\"anchor\" id=\"MD\"></a>"
   ]
  },
  {
   "cell_type": "code",
   "execution_count": 61,
   "metadata": {
    "gather": {
     "logged": 1620579611058
    },
    "jupyter": {
     "outputs_hidden": false,
     "source_hidden": false
    },
    "nteract": {
     "transient": {
      "deleting": false
     }
    }
   },
   "outputs": [
    {
     "data": {
      "text/html": [
       "<div>\n",
       "<style scoped>\n",
       "    .dataframe tbody tr th:only-of-type {\n",
       "        vertical-align: middle;\n",
       "    }\n",
       "\n",
       "    .dataframe tbody tr th {\n",
       "        vertical-align: top;\n",
       "    }\n",
       "\n",
       "    .dataframe thead th {\n",
       "        text-align: right;\n",
       "    }\n",
       "</style>\n",
       "<table border=\"1\" class=\"dataframe\">\n",
       "  <thead>\n",
       "    <tr style=\"text-align: right;\">\n",
       "      <th></th>\n",
       "      <th>Country</th>\n",
       "      <th>Official language</th>\n",
       "      <th>Regional language</th>\n",
       "      <th>Minority language</th>\n",
       "      <th>National language</th>\n",
       "      <th>Widely spoken</th>\n",
       "    </tr>\n",
       "  </thead>\n",
       "  <tbody>\n",
       "    <tr>\n",
       "      <th>0</th>\n",
       "      <td>Abkhazia[a]</td>\n",
       "      <td>\\nAbkhaz\\nRussian</td>\n",
       "      <td>NaN</td>\n",
       "      <td>Georgian</td>\n",
       "      <td>Abkhaz</td>\n",
       "      <td>NaN</td>\n",
       "    </tr>\n",
       "    <tr>\n",
       "      <th>1</th>\n",
       "      <td>Afghanistan[1]</td>\n",
       "      <td>\\nPashto\\nDari</td>\n",
       "      <td>\\nUzbek[b]\\nTurkmen[b]\\nPashai[b]\\nNuristani[b]\\nBalochi[b]\\nPamiri[b]</td>\n",
       "      <td>NaN</td>\n",
       "      <td>Pashto</td>\n",
       "      <td>NaN</td>\n",
       "    </tr>\n",
       "    <tr>\n",
       "      <th>2</th>\n",
       "      <td>Albania[2]</td>\n",
       "      <td>Albanian</td>\n",
       "      <td>NaN</td>\n",
       "      <td>\\nGreek\\nMacedonian\\nAromanian</td>\n",
       "      <td>NaN</td>\n",
       "      <td>Italian</td>\n",
       "    </tr>\n",
       "    <tr>\n",
       "      <th>3</th>\n",
       "      <td>Algeria[3]</td>\n",
       "      <td>\\nArabic\\nTamazight</td>\n",
       "      <td>NaN</td>\n",
       "      <td>NaN</td>\n",
       "      <td>\\nArabic\\nTamazight</td>\n",
       "      <td>French</td>\n",
       "    </tr>\n",
       "    <tr>\n",
       "      <th>4</th>\n",
       "      <td>Andorra</td>\n",
       "      <td>Catalan[4]</td>\n",
       "      <td>NaN</td>\n",
       "      <td>\\nSpanish\\nFrench\\nPortuguese</td>\n",
       "      <td>NaN</td>\n",
       "      <td>NaN</td>\n",
       "    </tr>\n",
       "  </tbody>\n",
       "</table>\n",
       "</div>"
      ],
      "text/plain": [
       "          Country    Official language  \\\n",
       "0  Abkhazia[a]     \\nAbkhaz\\nRussian     \n",
       "1  Afghanistan[1]  \\nPashto\\nDari        \n",
       "2  Albania[2]      Albanian              \n",
       "3  Algeria[3]      \\nArabic\\nTamazight   \n",
       "4  Andorra         Catalan[4]            \n",
       "\n",
       "                                                        Regional language  \\\n",
       "0  NaN                                                                      \n",
       "1  \\nUzbek[b]\\nTurkmen[b]\\nPashai[b]\\nNuristani[b]\\nBalochi[b]\\nPamiri[b]   \n",
       "2  NaN                                                                      \n",
       "3  NaN                                                                      \n",
       "4  NaN                                                                      \n",
       "\n",
       "                Minority language    National language Widely spoken  \n",
       "0  Georgian                        Abkhaz               NaN           \n",
       "1  NaN                             Pashto               NaN           \n",
       "2  \\nGreek\\nMacedonian\\nAromanian  NaN                  Italian       \n",
       "3  NaN                             \\nArabic\\nTamazight  French        \n",
       "4  \\nSpanish\\nFrench\\nPortuguese   NaN                  NaN           "
      ]
     },
     "execution_count": 61,
     "metadata": {},
     "output_type": "execute_result"
    }
   ],
   "source": [
    "#Read the wiki country and language data\n",
    "\n",
    "df_wiki_country_language_bronze = pd.read_csv(bronze_file_name)\n",
    "df_wiki_country_language_bronze.head()"
   ]
  },
  {
   "cell_type": "code",
   "execution_count": 62,
   "metadata": {
    "gather": {
     "logged": 1620579619165
    },
    "jupyter": {
     "outputs_hidden": false,
     "source_hidden": false
    },
    "nteract": {
     "transient": {
      "deleting": false
     }
    }
   },
   "outputs": [
    {
     "data": {
      "text/plain": [
       "(234, 6)"
      ]
     },
     "execution_count": 62,
     "metadata": {},
     "output_type": "execute_result"
    }
   ],
   "source": [
    "#Number of rows and columns\n",
    "df_wiki_country_language_bronze.shape"
   ]
  },
  {
   "cell_type": "code",
   "execution_count": 64,
   "metadata": {
    "gather": {
     "logged": 1620579657105
    },
    "jupyter": {
     "outputs_hidden": false,
     "source_hidden": false
    },
    "nteract": {
     "transient": {
      "deleting": false
     }
    }
   },
   "outputs": [
    {
     "data": {
      "text/html": [
       "<div>\n",
       "<style scoped>\n",
       "    .dataframe tbody tr th:only-of-type {\n",
       "        vertical-align: middle;\n",
       "    }\n",
       "\n",
       "    .dataframe tbody tr th {\n",
       "        vertical-align: top;\n",
       "    }\n",
       "\n",
       "    .dataframe thead th {\n",
       "        text-align: right;\n",
       "    }\n",
       "</style>\n",
       "<table border=\"1\" class=\"dataframe\">\n",
       "  <thead>\n",
       "    <tr style=\"text-align: right;\">\n",
       "      <th></th>\n",
       "      <th>0</th>\n",
       "      <th>1</th>\n",
       "      <th>2</th>\n",
       "    </tr>\n",
       "  </thead>\n",
       "  <tbody>\n",
       "    <tr>\n",
       "      <th>Country</th>\n",
       "      <td>Abkhazia[a]</td>\n",
       "      <td>Afghanistan[1]</td>\n",
       "      <td>Albania[2]</td>\n",
       "    </tr>\n",
       "    <tr>\n",
       "      <th>Official language</th>\n",
       "      <td>\\nAbkhaz\\nRussian</td>\n",
       "      <td>\\nPashto\\nDari</td>\n",
       "      <td>Albanian</td>\n",
       "    </tr>\n",
       "    <tr>\n",
       "      <th>Regional language</th>\n",
       "      <td>NaN</td>\n",
       "      <td>\\nUzbek[b]\\nTurkmen[b]\\nPashai[b]\\nNuristani[b]\\nBalochi[b]\\nPamiri[b]</td>\n",
       "      <td>NaN</td>\n",
       "    </tr>\n",
       "    <tr>\n",
       "      <th>Minority language</th>\n",
       "      <td>Georgian</td>\n",
       "      <td>NaN</td>\n",
       "      <td>\\nGreek\\nMacedonian\\nAromanian</td>\n",
       "    </tr>\n",
       "    <tr>\n",
       "      <th>National language</th>\n",
       "      <td>Abkhaz</td>\n",
       "      <td>Pashto</td>\n",
       "      <td>NaN</td>\n",
       "    </tr>\n",
       "    <tr>\n",
       "      <th>Widely spoken</th>\n",
       "      <td>NaN</td>\n",
       "      <td>NaN</td>\n",
       "      <td>Italian</td>\n",
       "    </tr>\n",
       "  </tbody>\n",
       "</table>\n",
       "</div>"
      ],
      "text/plain": [
       "                                   0  \\\n",
       "Country            Abkhazia[a]         \n",
       "Official language  \\nAbkhaz\\nRussian   \n",
       "Regional language  NaN                 \n",
       "Minority language  Georgian            \n",
       "National language  Abkhaz              \n",
       "Widely spoken      NaN                 \n",
       "\n",
       "                                                                                        1  \\\n",
       "Country            Afghanistan[1]                                                           \n",
       "Official language  \\nPashto\\nDari                                                           \n",
       "Regional language  \\nUzbek[b]\\nTurkmen[b]\\nPashai[b]\\nNuristani[b]\\nBalochi[b]\\nPamiri[b]   \n",
       "Minority language  NaN                                                                      \n",
       "National language  Pashto                                                                   \n",
       "Widely spoken      NaN                                                                      \n",
       "\n",
       "                                                2  \n",
       "Country            Albania[2]                      \n",
       "Official language  Albanian                        \n",
       "Regional language  NaN                             \n",
       "Minority language  \\nGreek\\nMacedonian\\nAromanian  \n",
       "National language  NaN                             \n",
       "Widely spoken      Italian                         "
      ]
     },
     "execution_count": 64,
     "metadata": {},
     "output_type": "execute_result"
    }
   ],
   "source": [
    "#It is easier to view the data if we transpose\n",
    "df_wiki_country_language_bronze.head(3).transpose()\n"
   ]
  },
  {
   "cell_type": "code",
   "execution_count": 65,
   "metadata": {
    "gather": {
     "logged": 1620579667628
    },
    "jupyter": {
     "outputs_hidden": false,
     "source_hidden": false
    },
    "nteract": {
     "transient": {
      "deleting": false
     }
    }
   },
   "outputs": [
    {
     "data": {
      "text/plain": [
       "Index(['Country', 'Official language', 'Regional language',\n",
       "       'Minority language', 'National language', 'Widely spoken'],\n",
       "      dtype='object')"
      ]
     },
     "execution_count": 65,
     "metadata": {},
     "output_type": "execute_result"
    }
   ],
   "source": [
    "#List of columns\n",
    "df_wiki_country_language_bronze.columns"
   ]
  },
  {
   "cell_type": "markdown",
   "metadata": {
    "nteract": {
     "transient": {
      "deleting": false
     }
    }
   },
   "source": [
    "#### Features <a class=\"anchor\" id=\"F\"></a>\n",
    "- __Country:__ Indicates the country.\n",
    "- __Official language:__ one designated as having a unique legal status in the state, typically, the language used in a nation's legislative bodies, and often, official government business\n",
    "- __Regional language:__ one designated as having official status limited to a specific area, administrative division, or territory of the state (on this page a regional language will have parentheses next to it that contain a region, province, etc. where the language has regional status)\n",
    "- __Minority language:__ (as used here) one spoken by a minority population within the state and officially designated as such; typically afforded protection and designated an officially permissible language for legal and government business in a specific area or territory of the state (on this page a minority language will be followed by parentheses that identify its minority status)\n",
    "- __National language:__ one that uniquely represents the national identity of a state, nation, and/or country and so designated by a country's government; some are technically minority languages (on this page a national language will be followed by parentheses that identify it as a national language status). Some countries have more than one language with this status"
   ]
  },
  {
   "cell_type": "code",
   "execution_count": 70,
   "metadata": {
    "gather": {
     "logged": 1620579932821
    },
    "jupyter": {
     "outputs_hidden": false,
     "source_hidden": false
    },
    "nteract": {
     "transient": {
      "deleting": false
     }
    }
   },
   "outputs": [
    {
     "name": "stdout",
     "output_type": "stream",
     "text": [
      "<class 'pandas.core.frame.DataFrame'>\n",
      "RangeIndex: 234 entries, 0 to 233\n",
      "Data columns (total 6 columns):\n",
      " #   Column             Non-Null Count  Dtype \n",
      "---  ------             --------------  ----- \n",
      " 0   Country            234 non-null    object\n",
      " 1   Official language  234 non-null    object\n",
      " 2   Regional language  63 non-null     object\n",
      " 3   Minority language  54 non-null     object\n",
      " 4   National language  89 non-null     object\n",
      " 5   Widely spoken      56 non-null     object\n",
      "dtypes: object(6)\n",
      "memory usage: 11.1+ KB\n"
     ]
    }
   ],
   "source": [
    "df_wiki_country_language_bronze.info()"
   ]
  },
  {
   "cell_type": "markdown",
   "metadata": {
    "nteract": {
     "transient": {
      "deleting": false
     }
    }
   },
   "source": [
    "Next we will start cleaning up the data."
   ]
  },
  {
   "cell_type": "markdown",
   "metadata": {
    "nteract": {
     "transient": {
      "deleting": false
     }
    }
   },
   "source": [
    "### Data Wrangling <a class=\"anchor\" id=\"DW\"></a>"
   ]
  },
  {
   "cell_type": "markdown",
   "metadata": {
    "nteract": {
     "transient": {
      "deleting": false
     }
    }
   },
   "source": [
    "#### Step1.  Rename Columns to a standard format  <a class=\"anchor\" id=\"S1\"></a>\n",
    "\n",
    "- __Official language__ will become __official_language__\n",
    "- __Regional language__ will become __regional_language__\n",
    "- __Minority language__ will become __minority_language__\n",
    "- __National language__ will become __national_language__\n",
    "- __Widely spoken__ will become __widely_spoken__"
   ]
  },
  {
   "cell_type": "code",
   "execution_count": 87,
   "metadata": {
    "collapsed": true,
    "gather": {
     "logged": 1620582611420
    },
    "jupyter": {
     "outputs_hidden": false,
     "source_hidden": false
    },
    "nteract": {
     "transient": {
      "deleting": false
     }
    }
   },
   "outputs": [],
   "source": [
    "#Replace header\n",
    "df_wiki_country_language_bronze.rename(columns={\"Official language\": \"official_language\", \"Regional language\": \"regional_language\", \\\n",
    "                                                \"Minority language\": \"minority_language\", \"National language\": \"national_language\", \\\n",
    "                                                \"Widely spoken\": \"widely_spoken\"}, inplace=True)"
   ]
  },
  {
   "cell_type": "code",
   "execution_count": 88,
   "metadata": {
    "gather": {
     "logged": 1620582628853
    },
    "jupyter": {
     "outputs_hidden": false,
     "source_hidden": false
    },
    "nteract": {
     "transient": {
      "deleting": false
     }
    }
   },
   "outputs": [
    {
     "data": {
      "text/plain": [
       "Index(['Country', 'official_language', 'regional_language',\n",
       "       'minority_language', 'national_language', 'widely_spoken'],\n",
       "      dtype='object')"
      ]
     },
     "execution_count": 88,
     "metadata": {},
     "output_type": "execute_result"
    }
   ],
   "source": [
    "#List of columns\n",
    "df_wiki_country_language_bronze.columns"
   ]
  },
  {
   "cell_type": "markdown",
   "metadata": {
    "nteract": {
     "transient": {
      "deleting": false
     }
    }
   },
   "source": [
    "#### Step2.  Remove rows based on value of certain features <a class=\"anchor\" id=\"S2\"></a>"
   ]
  },
  {
   "cell_type": "code",
   "execution_count": 74,
   "metadata": {
    "collapsed": true,
    "gather": {
     "logged": 1620581816450
    },
    "jupyter": {
     "outputs_hidden": false,
     "source_hidden": false
    },
    "nteract": {
     "transient": {
      "deleting": false
     }
    }
   },
   "outputs": [
    {
     "data": {
      "text/html": [
       "<div>\n",
       "<style scoped>\n",
       "    .dataframe tbody tr th:only-of-type {\n",
       "        vertical-align: middle;\n",
       "    }\n",
       "\n",
       "    .dataframe tbody tr th {\n",
       "        vertical-align: top;\n",
       "    }\n",
       "\n",
       "    .dataframe thead th {\n",
       "        text-align: right;\n",
       "    }\n",
       "</style>\n",
       "<table border=\"1\" class=\"dataframe\">\n",
       "  <thead>\n",
       "    <tr style=\"text-align: right;\">\n",
       "      <th></th>\n",
       "      <th>Country</th>\n",
       "      <th>official_language</th>\n",
       "      <th>regional_language</th>\n",
       "      <th>minority_language</th>\n",
       "      <th>national_language</th>\n",
       "      <th>Widely spoken</th>\n",
       "    </tr>\n",
       "  </thead>\n",
       "  <tbody>\n",
       "    <tr>\n",
       "      <th>229</th>\n",
       "      <td>Country</td>\n",
       "      <td>Official language</td>\n",
       "      <td>Regional language</td>\n",
       "      <td>Minority language</td>\n",
       "      <td>National language</td>\n",
       "      <td>Widely spoken</td>\n",
       "    </tr>\n",
       "    <tr>\n",
       "      <th>230</th>\n",
       "      <td>Yemen</td>\n",
       "      <td>Arabic</td>\n",
       "      <td>NaN</td>\n",
       "      <td>NaN</td>\n",
       "      <td>NaN</td>\n",
       "      <td>NaN</td>\n",
       "    </tr>\n",
       "    <tr>\n",
       "      <th>231</th>\n",
       "      <td>Country</td>\n",
       "      <td>Official language</td>\n",
       "      <td>Regional language</td>\n",
       "      <td>Minority language</td>\n",
       "      <td>National language</td>\n",
       "      <td>Widely spoken</td>\n",
       "    </tr>\n",
       "    <tr>\n",
       "      <th>232</th>\n",
       "      <td>Zambia</td>\n",
       "      <td>English</td>\n",
       "      <td>NaN</td>\n",
       "      <td>NaN</td>\n",
       "      <td>NaN</td>\n",
       "      <td>NaN</td>\n",
       "    </tr>\n",
       "    <tr>\n",
       "      <th>233</th>\n",
       "      <td>Zimbabwe</td>\n",
       "      <td>\\nChewa\\nChibarwe\\nEnglish\\nKalanga\\nKhoisan[g][77]\\nNambya\\nNdau\\nNdebele\\nShangani\\nShona\\nSign language[h]\\nSotho\\nTonga\\nTswana\\nVenda\\nXhosa</td>\n",
       "      <td>NaN</td>\n",
       "      <td>NaN</td>\n",
       "      <td>NaN</td>\n",
       "      <td>NaN</td>\n",
       "    </tr>\n",
       "  </tbody>\n",
       "</table>\n",
       "</div>"
      ],
      "text/plain": [
       "      Country  \\\n",
       "229  Country    \n",
       "230  Yemen      \n",
       "231  Country    \n",
       "232  Zambia     \n",
       "233  Zimbabwe   \n",
       "\n",
       "                                                                                                                                     official_language  \\\n",
       "229  Official language                                                                                                                                   \n",
       "230  Arabic                                                                                                                                              \n",
       "231  Official language                                                                                                                                   \n",
       "232  English                                                                                                                                             \n",
       "233  \\nChewa\\nChibarwe\\nEnglish\\nKalanga\\nKhoisan[g][77]\\nNambya\\nNdau\\nNdebele\\nShangani\\nShona\\nSign language[h]\\nSotho\\nTonga\\nTswana\\nVenda\\nXhosa   \n",
       "\n",
       "     regional_language  minority_language  national_language  Widely spoken  \n",
       "229  Regional language  Minority language  National language  Widely spoken  \n",
       "230  NaN                NaN                NaN                NaN            \n",
       "231  Regional language  Minority language  National language  Widely spoken  \n",
       "232  NaN                NaN                NaN                NaN            \n",
       "233  NaN                NaN                NaN                NaN            "
      ]
     },
     "execution_count": 74,
     "metadata": {},
     "output_type": "execute_result"
    }
   ],
   "source": [
    "df_wiki_country_language_bronze.tail()"
   ]
  },
  {
   "cell_type": "markdown",
   "metadata": {
    "nteract": {
     "transient": {
      "deleting": false
     }
    }
   },
   "source": [
    "As we can see in row 229 we have values on Country as \"Country\". This is because wiki broke the main table into several tables. Lets drop these rows."
   ]
  },
  {
   "cell_type": "code",
   "execution_count": 80,
   "metadata": {
    "collapsed": true,
    "gather": {
     "logged": 1620582018167
    },
    "jupyter": {
     "outputs_hidden": false,
     "source_hidden": false
    },
    "nteract": {
     "transient": {
      "deleting": false
     }
    }
   },
   "outputs": [
    {
     "data": {
      "text/plain": [
       "Country  official_language  regional_language  minority_language  national_language  Widely spoken\n",
       "Country  Official language  Regional language  Minority language  National language  Widely spoken    23\n",
       "dtype: int64"
      ]
     },
     "execution_count": 80,
     "metadata": {},
     "output_type": "execute_result"
    }
   ],
   "source": [
    "#We have 23 junk values\n",
    "omit_values_list = ['Country']\n",
    "df_wiki_country_language_bronze[df_wiki_country_language_bronze.Country.isin(omit_values_list)].value_counts()"
   ]
  },
  {
   "cell_type": "code",
   "execution_count": 81,
   "metadata": {
    "collapsed": true,
    "gather": {
     "logged": 1620582080729
    },
    "jupyter": {
     "outputs_hidden": false,
     "source_hidden": false
    },
    "nteract": {
     "transient": {
      "deleting": false
     }
    }
   },
   "outputs": [],
   "source": [
    "#Get the omit values in a list and then filter\n",
    "df_wiki_country_language_bronze = df_wiki_country_language_bronze[~df_wiki_country_language_bronze.Country.isin(omit_values_list)]"
   ]
  },
  {
   "cell_type": "code",
   "execution_count": 82,
   "metadata": {
    "collapsed": true,
    "gather": {
     "logged": 1620582108844
    },
    "jupyter": {
     "outputs_hidden": false,
     "source_hidden": false
    },
    "nteract": {
     "transient": {
      "deleting": false
     }
    }
   },
   "outputs": [
    {
     "data": {
      "text/plain": [
       "Series([], dtype: int64)"
      ]
     },
     "execution_count": 82,
     "metadata": {},
     "output_type": "execute_result"
    }
   ],
   "source": [
    "#We have removed the bad rows succesfully\n",
    "df_wiki_country_language_bronze[df_wiki_country_language_bronze.Country.isin(omit_values_list)].value_counts()"
   ]
  },
  {
   "cell_type": "markdown",
   "metadata": {
    "nteract": {
     "transient": {
      "deleting": false
     }
    }
   },
   "source": [
    "#### Step3.  Fix column types <a class=\"anchor\" id=\"S3\"></a>"
   ]
  },
  {
   "cell_type": "code",
   "execution_count": 89,
   "metadata": {
    "gather": {
     "logged": 1620582648497
    },
    "jupyter": {
     "outputs_hidden": false,
     "source_hidden": false
    },
    "nteract": {
     "transient": {
      "deleting": false
     }
    }
   },
   "outputs": [
    {
     "data": {
      "text/plain": [
       "Country              object\n",
       "official_language    object\n",
       "regional_language    object\n",
       "minority_language    object\n",
       "national_language    object\n",
       "widely_spoken        object\n",
       "dtype: object"
      ]
     },
     "execution_count": 89,
     "metadata": {},
     "output_type": "execute_result"
    }
   ],
   "source": [
    "df_wiki_country_language_bronze.dtypes"
   ]
  },
  {
   "cell_type": "code",
   "execution_count": 90,
   "metadata": {
    "collapsed": true,
    "gather": {
     "logged": 1620582663256
    },
    "jupyter": {
     "outputs_hidden": false,
     "source_hidden": false
    },
    "nteract": {
     "transient": {
      "deleting": false
     }
    }
   },
   "outputs": [],
   "source": [
    "df_wiki_country_language_bronze['Country'] = pd.Series(df_wiki_country_language_bronze['Country'], dtype=\"string\")\n",
    "df_wiki_country_language_bronze['official_language'] = pd.Series(df_wiki_country_language_bronze['official_language'], dtype=\"string\")\n",
    "df_wiki_country_language_bronze['regional_language'] = pd.Series(df_wiki_country_language_bronze['regional_language'], dtype=\"string\")\n",
    "df_wiki_country_language_bronze['minority_language'] = pd.Series(df_wiki_country_language_bronze['minority_language'], dtype=\"string\")\n",
    "df_wiki_country_language_bronze['national_language'] = pd.Series(df_wiki_country_language_bronze['national_language'], dtype=\"string\")\n",
    "df_wiki_country_language_bronze['widely_spoken'] = pd.Series(df_wiki_country_language_bronze['widely_spoken'], dtype=\"string\")"
   ]
  },
  {
   "cell_type": "code",
   "execution_count": 91,
   "metadata": {
    "gather": {
     "logged": 1620582669366
    },
    "jupyter": {
     "outputs_hidden": false,
     "source_hidden": false
    },
    "nteract": {
     "transient": {
      "deleting": false
     }
    }
   },
   "outputs": [
    {
     "data": {
      "text/plain": [
       "Country              string\n",
       "official_language    string\n",
       "regional_language    string\n",
       "minority_language    string\n",
       "national_language    string\n",
       "widely_spoken        string\n",
       "dtype: object"
      ]
     },
     "execution_count": 91,
     "metadata": {},
     "output_type": "execute_result"
    }
   ],
   "source": [
    "df_wiki_country_language_bronze.dtypes"
   ]
  },
  {
   "cell_type": "markdown",
   "metadata": {
    "nteract": {
     "transient": {
      "deleting": false
     }
    }
   },
   "source": [
    "#### Step4.  Handle null values <a class=\"anchor\" id=\"S4\"></a>"
   ]
  },
  {
   "cell_type": "code",
   "execution_count": 92,
   "metadata": {
    "gather": {
     "logged": 1620582720227
    },
    "jupyter": {
     "outputs_hidden": false,
     "source_hidden": false
    },
    "nteract": {
     "transient": {
      "deleting": false
     }
    }
   },
   "outputs": [
    {
     "data": {
      "text/plain": [
       "Country              0  \n",
       "official_language    0  \n",
       "regional_language    171\n",
       "minority_language    180\n",
       "national_language    145\n",
       "widely_spoken        178\n",
       "dtype: int64"
      ]
     },
     "execution_count": 92,
     "metadata": {},
     "output_type": "execute_result"
    }
   ],
   "source": [
    "df_wiki_country_language_bronze.isnull().sum()"
   ]
  },
  {
   "cell_type": "code",
   "execution_count": 93,
   "metadata": {
    "collapsed": true,
    "gather": {
     "logged": 1620582889695
    },
    "jupyter": {
     "outputs_hidden": false,
     "source_hidden": false
    },
    "nteract": {
     "transient": {
      "deleting": false
     }
    }
   },
   "outputs": [],
   "source": [
    "#Lets fill the NAs with an empty string '' for regional_language, minority_language, national_language, widely_spoken attribute\n",
    "df_wiki_country_language_bronze[['regional_language']] = df_wiki_country_language_bronze[['regional_language']].fillna(value='')\n",
    "df_wiki_country_language_bronze[['minority_language']] = df_wiki_country_language_bronze[['minority_language']].fillna(value='')\n",
    "df_wiki_country_language_bronze[['national_language']] = df_wiki_country_language_bronze[['national_language']].fillna(value='')\n",
    "df_wiki_country_language_bronze[['widely_spoken']] = df_wiki_country_language_bronze[['widely_spoken']].fillna(value='')"
   ]
  },
  {
   "cell_type": "code",
   "execution_count": 94,
   "metadata": {
    "collapsed": true,
    "gather": {
     "logged": 1620582894613
    },
    "jupyter": {
     "outputs_hidden": false,
     "source_hidden": false
    },
    "nteract": {
     "transient": {
      "deleting": false
     }
    }
   },
   "outputs": [
    {
     "data": {
      "text/plain": [
       "Country              0\n",
       "official_language    0\n",
       "regional_language    0\n",
       "minority_language    0\n",
       "national_language    0\n",
       "widely_spoken        0\n",
       "dtype: int64"
      ]
     },
     "execution_count": 94,
     "metadata": {},
     "output_type": "execute_result"
    }
   ],
   "source": [
    "#Checking and there are no null values in the dataset\n",
    "df_wiki_country_language_bronze.isnull().sum()"
   ]
  },
  {
   "cell_type": "markdown",
   "metadata": {
    "nteract": {
     "transient": {
      "deleting": false
     }
    }
   },
   "source": [
    "#### Step5.  Check for duplicates and handle if present <a class=\"anchor\" id=\"S5\"></a>"
   ]
  },
  {
   "cell_type": "code",
   "execution_count": 95,
   "metadata": {
    "gather": {
     "logged": 1620582973688
    },
    "jupyter": {
     "outputs_hidden": false,
     "source_hidden": false
    },
    "nteract": {
     "transient": {
      "deleting": false
     }
    }
   },
   "outputs": [
    {
     "data": {
      "text/html": [
       "<div>\n",
       "<style scoped>\n",
       "    .dataframe tbody tr th:only-of-type {\n",
       "        vertical-align: middle;\n",
       "    }\n",
       "\n",
       "    .dataframe tbody tr th {\n",
       "        vertical-align: top;\n",
       "    }\n",
       "\n",
       "    .dataframe thead th {\n",
       "        text-align: right;\n",
       "    }\n",
       "</style>\n",
       "<table border=\"1\" class=\"dataframe\">\n",
       "  <thead>\n",
       "    <tr style=\"text-align: right;\">\n",
       "      <th></th>\n",
       "      <th>Country</th>\n",
       "      <th>official_language</th>\n",
       "      <th>regional_language</th>\n",
       "      <th>minority_language</th>\n",
       "      <th>national_language</th>\n",
       "      <th>widely_spoken</th>\n",
       "    </tr>\n",
       "  </thead>\n",
       "  <tbody>\n",
       "  </tbody>\n",
       "</table>\n",
       "</div>"
      ],
      "text/plain": [
       "Empty DataFrame\n",
       "Columns: [Country, official_language, regional_language, minority_language, national_language, widely_spoken]\n",
       "Index: []"
      ]
     },
     "execution_count": 95,
     "metadata": {},
     "output_type": "execute_result"
    }
   ],
   "source": [
    "#Duplicate rows\n",
    "df_wiki_country_language_bronze[df_wiki_country_language_bronze.duplicated()].head()"
   ]
  },
  {
   "cell_type": "markdown",
   "metadata": {
    "nteract": {
     "transient": {
      "deleting": false
     }
    }
   },
   "source": [
    "There are no duplicate rows in he dataset, so we are good on this front."
   ]
  },
  {
   "cell_type": "markdown",
   "metadata": {
    "nteract": {
     "transient": {
      "deleting": false
     }
    }
   },
   "source": [
    "#### Step6.  Text data clean (NLP): Clean up the string attributes <a class=\"anchor\" id=\"S6\"></a>"
   ]
  },
  {
   "cell_type": "code",
   "execution_count": 96,
   "metadata": {
    "collapsed": true,
    "gather": {
     "logged": 1620585267079
    },
    "jupyter": {
     "outputs_hidden": false,
     "source_hidden": false
    },
    "nteract": {
     "transient": {
      "deleting": false
     }
    }
   },
   "outputs": [],
   "source": [
    "#Build punctuation dictionary\n",
    "import unicodedata\n",
    "import sys\n",
    "\n",
    "# Create a dictionary of punctuation characters\n",
    "punctuation = dict.fromkeys(i for i in range(sys.maxunicode)\n",
    "                            if unicodedata.category(chr(i)).startswith('P'))\n",
    "# Add the backtick/ Grave accent character\n",
    "punctuation.update({96:None})"
   ]
  },
  {
   "cell_type": "code",
   "execution_count": 97,
   "metadata": {
    "collapsed": true,
    "gather": {
     "logged": 1620585275634
    },
    "jupyter": {
     "outputs_hidden": false,
     "source_hidden": false
    },
    "nteract": {
     "transient": {
      "deleting": false
     }
    }
   },
   "outputs": [],
   "source": [
    "#Let us clean up and make the data ready\n",
    "# As we are going to use words as features so we can use some text formatting techniques which will help us in feature extraction\n",
    "#  including removing punctuation marks/digits ,and also stop-words. In addition, the implementation of lemmatization words using NLTK\n",
    "#       Tokenization is the last step to break reviews up into words and other meaningful tokens.\n",
    "\n",
    "import re \n",
    "import string\n",
    "#pip install nltk\n",
    "import nltk\n",
    "#nltk.download('stopwords')\n",
    "from nltk.stem import WordNetLemmatizer\n",
    "\n",
    "from nltk.corpus import stopwords \n",
    "ENGLISH_STOP_WORDS = stopwords.words('english')\n",
    "\n",
    "def function_clean_stop(text):\n",
    "    #convert into lowercase\n",
    "    text = text.lower()\n",
    "\n",
    "    #removing the URL Http\n",
    "    text = re.sub(r\"http\\S+\", \"\", text) \n",
    "\n",
    "    # Removal of mentions\n",
    "    #text = re.sub(\"@[^\\s]*\", \"\", text) -> Taken care if in the punctuations. But I want to keep the word.\n",
    "\n",
    "    # Removal of hashtags\n",
    "    #text = re.sub(\"#[^\\s]*\", \"\", text) -> Taken care if in the punctuations. But I want to keep the word.\n",
    "\n",
    "    # Removal of numbers\n",
    "    text = re.sub('[0-9]*[+-:]*[0-9]+', '', text)\n",
    "    text = re.sub(\"'s\", \"\", text)   \n",
    "\n",
    "    #remove all punctuation from the text.\n",
    "    text = str(text.translate(punctuation))\n",
    "    \n",
    "    listofwords = text.strip().split()          # to remove any space from beginning and the end of text\n",
    "    tokenized_words = []    \n",
    "    for word in listofwords:\n",
    "        if not word in ENGLISH_STOP_WORDS:\n",
    "            lemm_word = WordNetLemmatizer().lemmatize(word)\n",
    "            if len(lemm_word)>0:\n",
    "                tokenized_words.append(lemm_word)\n",
    "    return_str = ' '.join([str(elem) for elem in tokenized_words])             \n",
    "    return(return_str)"
   ]
  },
  {
   "cell_type": "code",
   "execution_count": 98,
   "metadata": {
    "collapsed": true,
    "gather": {
     "logged": 1620585314683
    },
    "jupyter": {
     "outputs_hidden": false,
     "source_hidden": false
    },
    "nteract": {
     "transient": {
      "deleting": false
     }
    }
   },
   "outputs": [
    {
     "data": {
      "text/html": [
       "<div>\n",
       "<style scoped>\n",
       "    .dataframe tbody tr th:only-of-type {\n",
       "        vertical-align: middle;\n",
       "    }\n",
       "\n",
       "    .dataframe tbody tr th {\n",
       "        vertical-align: top;\n",
       "    }\n",
       "\n",
       "    .dataframe thead th {\n",
       "        text-align: right;\n",
       "    }\n",
       "</style>\n",
       "<table border=\"1\" class=\"dataframe\">\n",
       "  <thead>\n",
       "    <tr style=\"text-align: right;\">\n",
       "      <th></th>\n",
       "      <th>Country</th>\n",
       "      <th>official_language</th>\n",
       "      <th>regional_language</th>\n",
       "      <th>minority_language</th>\n",
       "      <th>national_language</th>\n",
       "      <th>widely_spoken</th>\n",
       "    </tr>\n",
       "  </thead>\n",
       "  <tbody>\n",
       "    <tr>\n",
       "      <th>0</th>\n",
       "      <td>Abkhazia[a]</td>\n",
       "      <td>Abkhaz\n",
       "Russian</td>\n",
       "      <td></td>\n",
       "      <td>Georgian</td>\n",
       "      <td>Abkhaz</td>\n",
       "      <td></td>\n",
       "    </tr>\n",
       "    <tr>\n",
       "      <th>1</th>\n",
       "      <td>Afghanistan[1]</td>\n",
       "      <td>Pashto\n",
       "Dari</td>\n",
       "      <td>Uzbek[b]\n",
       "Turkmen[b]\n",
       "Pashai[b]\n",
       "Nuristani[b]\n",
       "Balochi[b]\n",
       "Pamiri[b]</td>\n",
       "      <td></td>\n",
       "      <td>Pashto</td>\n",
       "      <td></td>\n",
       "    </tr>\n",
       "    <tr>\n",
       "      <th>2</th>\n",
       "      <td>Albania[2]</td>\n",
       "      <td>Albanian</td>\n",
       "      <td></td>\n",
       "      <td>Greek\n",
       "Macedonian\n",
       "Aromanian</td>\n",
       "      <td></td>\n",
       "      <td>Italian</td>\n",
       "    </tr>\n",
       "    <tr>\n",
       "      <th>3</th>\n",
       "      <td>Algeria[3]</td>\n",
       "      <td>Arabic\n",
       "Tamazight</td>\n",
       "      <td></td>\n",
       "      <td></td>\n",
       "      <td>Arabic\n",
       "Tamazight</td>\n",
       "      <td>French</td>\n",
       "    </tr>\n",
       "    <tr>\n",
       "      <th>4</th>\n",
       "      <td>Andorra</td>\n",
       "      <td>Catalan[4]</td>\n",
       "      <td></td>\n",
       "      <td>Spanish\n",
       "French\n",
       "Portuguese</td>\n",
       "      <td></td>\n",
       "      <td></td>\n",
       "    </tr>\n",
       "  </tbody>\n",
       "</table>\n",
       "</div>"
      ],
      "text/plain": [
       "          Country  official_language  \\\n",
       "0  Abkhazia[a]     \n",
       "Abkhaz\n",
       "Russian     \n",
       "1  Afghanistan[1]  \n",
       "Pashto\n",
       "Dari        \n",
       "2  Albania[2]      Albanian            \n",
       "3  Algeria[3]      \n",
       "Arabic\n",
       "Tamazight   \n",
       "4  Andorra         Catalan[4]          \n",
       "\n",
       "                                                  regional_language  \\\n",
       "0                                                                     \n",
       "1  \n",
       "Uzbek[b]\n",
       "Turkmen[b]\n",
       "Pashai[b]\n",
       "Nuristani[b]\n",
       "Balochi[b]\n",
       "Pamiri[b]   \n",
       "2                                                                     \n",
       "3                                                                     \n",
       "4                                                                     \n",
       "\n",
       "             minority_language  national_language widely_spoken  \n",
       "0  Georgian                     Abkhaz                           \n",
       "1                               Pashto                           \n",
       "2  \n",
       "Greek\n",
       "Macedonian\n",
       "Aromanian                     Italian       \n",
       "3                               \n",
       "Arabic\n",
       "Tamazight  French        \n",
       "4  \n",
       "Spanish\n",
       "French\n",
       "Portuguese                                    "
      ]
     },
     "execution_count": 98,
     "metadata": {},
     "output_type": "execute_result"
    }
   ],
   "source": [
    "df_wiki_country_language_bronze.head()"
   ]
  },
  {
   "cell_type": "code",
   "execution_count": 100,
   "metadata": {
    "collapsed": true,
    "gather": {
     "logged": 1620585381250
    },
    "jupyter": {
     "outputs_hidden": false,
     "source_hidden": false
    },
    "nteract": {
     "transient": {
      "deleting": false
     }
    }
   },
   "outputs": [],
   "source": [
    "# applying the cleaning function to Country column\n",
    "df_wiki_country_language_bronze['country_cleaned'] = df_wiki_country_language_bronze['Country'].apply(lambda overview: function_clean_stop(overview))"
   ]
  },
  {
   "cell_type": "code",
   "execution_count": 101,
   "metadata": {
    "gather": {
     "logged": 1620585383051
    },
    "jupyter": {
     "outputs_hidden": false,
     "source_hidden": false
    },
    "nteract": {
     "transient": {
      "deleting": false
     }
    }
   },
   "outputs": [
    {
     "data": {
      "text/html": [
       "<div>\n",
       "<style scoped>\n",
       "    .dataframe tbody tr th:only-of-type {\n",
       "        vertical-align: middle;\n",
       "    }\n",
       "\n",
       "    .dataframe tbody tr th {\n",
       "        vertical-align: top;\n",
       "    }\n",
       "\n",
       "    .dataframe thead th {\n",
       "        text-align: right;\n",
       "    }\n",
       "</style>\n",
       "<table border=\"1\" class=\"dataframe\">\n",
       "  <thead>\n",
       "    <tr style=\"text-align: right;\">\n",
       "      <th></th>\n",
       "      <th>Country</th>\n",
       "      <th>country_cleaned</th>\n",
       "    </tr>\n",
       "  </thead>\n",
       "  <tbody>\n",
       "    <tr>\n",
       "      <th>0</th>\n",
       "      <td>Abkhazia[a]</td>\n",
       "      <td>abkhaziaa</td>\n",
       "    </tr>\n",
       "    <tr>\n",
       "      <th>1</th>\n",
       "      <td>Afghanistan[1]</td>\n",
       "      <td>afghanistan</td>\n",
       "    </tr>\n",
       "    <tr>\n",
       "      <th>2</th>\n",
       "      <td>Albania[2]</td>\n",
       "      <td>albania</td>\n",
       "    </tr>\n",
       "    <tr>\n",
       "      <th>3</th>\n",
       "      <td>Algeria[3]</td>\n",
       "      <td>algeria</td>\n",
       "    </tr>\n",
       "    <tr>\n",
       "      <th>4</th>\n",
       "      <td>Andorra</td>\n",
       "      <td>andorra</td>\n",
       "    </tr>\n",
       "  </tbody>\n",
       "</table>\n",
       "</div>"
      ],
      "text/plain": [
       "          Country country_cleaned\n",
       "0  Abkhazia[a]     abkhaziaa     \n",
       "1  Afghanistan[1]  afghanistan   \n",
       "2  Albania[2]      albania       \n",
       "3  Algeria[3]      algeria       \n",
       "4  Andorra         andorra       "
      ]
     },
     "execution_count": 101,
     "metadata": {},
     "output_type": "execute_result"
    }
   ],
   "source": [
    "df_wiki_country_language_bronze[['Country','country_cleaned']].head()"
   ]
  },
  {
   "cell_type": "code",
   "execution_count": 103,
   "metadata": {
    "collapsed": true,
    "gather": {
     "logged": 1620585473413
    },
    "jupyter": {
     "outputs_hidden": false,
     "source_hidden": false
    },
    "nteract": {
     "transient": {
      "deleting": false
     }
    }
   },
   "outputs": [
    {
     "data": {
      "text/html": [
       "<div>\n",
       "<style scoped>\n",
       "    .dataframe tbody tr th:only-of-type {\n",
       "        vertical-align: middle;\n",
       "    }\n",
       "\n",
       "    .dataframe tbody tr th {\n",
       "        vertical-align: top;\n",
       "    }\n",
       "\n",
       "    .dataframe thead th {\n",
       "        text-align: right;\n",
       "    }\n",
       "</style>\n",
       "<table border=\"1\" class=\"dataframe\">\n",
       "  <thead>\n",
       "    <tr style=\"text-align: right;\">\n",
       "      <th></th>\n",
       "      <th>official_language</th>\n",
       "      <th>official_language_cleaned</th>\n",
       "    </tr>\n",
       "  </thead>\n",
       "  <tbody>\n",
       "    <tr>\n",
       "      <th>0</th>\n",
       "      <td>Abkhaz\n",
       "Russian</td>\n",
       "      <td>abkhaz russian</td>\n",
       "    </tr>\n",
       "    <tr>\n",
       "      <th>1</th>\n",
       "      <td>Pashto\n",
       "Dari</td>\n",
       "      <td>pashto dari</td>\n",
       "    </tr>\n",
       "    <tr>\n",
       "      <th>2</th>\n",
       "      <td>Albanian</td>\n",
       "      <td>albanian</td>\n",
       "    </tr>\n",
       "    <tr>\n",
       "      <th>3</th>\n",
       "      <td>Arabic\n",
       "Tamazight</td>\n",
       "      <td>arabic tamazight</td>\n",
       "    </tr>\n",
       "    <tr>\n",
       "      <th>4</th>\n",
       "      <td>Catalan[4]</td>\n",
       "      <td>catalan</td>\n",
       "    </tr>\n",
       "  </tbody>\n",
       "</table>\n",
       "</div>"
      ],
      "text/plain": [
       "   official_language official_language_cleaned\n",
       "0  \n",
       "Abkhaz\n",
       "Russian    abkhaz russian          \n",
       "1  \n",
       "Pashto\n",
       "Dari       pashto dari             \n",
       "2  Albanian           albanian                \n",
       "3  \n",
       "Arabic\n",
       "Tamazight  arabic tamazight        \n",
       "4  Catalan[4]         catalan                 "
      ]
     },
     "execution_count": 103,
     "metadata": {},
     "output_type": "execute_result"
    }
   ],
   "source": [
    "# applying the cleaning function to the official_language column\n",
    "df_wiki_country_language_bronze['official_language_cleaned'] = df_wiki_country_language_bronze['official_language'].apply(lambda overview: function_clean_stop(overview))\n",
    "df_wiki_country_language_bronze[['official_language','official_language_cleaned']].head()"
   ]
  },
  {
   "cell_type": "code",
   "execution_count": 104,
   "metadata": {
    "collapsed": true,
    "gather": {
     "logged": 1620585524563
    },
    "jupyter": {
     "outputs_hidden": false,
     "source_hidden": false
    },
    "nteract": {
     "transient": {
      "deleting": false
     }
    }
   },
   "outputs": [
    {
     "data": {
      "text/html": [
       "<div>\n",
       "<style scoped>\n",
       "    .dataframe tbody tr th:only-of-type {\n",
       "        vertical-align: middle;\n",
       "    }\n",
       "\n",
       "    .dataframe tbody tr th {\n",
       "        vertical-align: top;\n",
       "    }\n",
       "\n",
       "    .dataframe thead th {\n",
       "        text-align: right;\n",
       "    }\n",
       "</style>\n",
       "<table border=\"1\" class=\"dataframe\">\n",
       "  <thead>\n",
       "    <tr style=\"text-align: right;\">\n",
       "      <th></th>\n",
       "      <th>regional_language</th>\n",
       "      <th>regional_language_cleaned</th>\n",
       "    </tr>\n",
       "  </thead>\n",
       "  <tbody>\n",
       "    <tr>\n",
       "      <th>0</th>\n",
       "      <td></td>\n",
       "      <td></td>\n",
       "    </tr>\n",
       "    <tr>\n",
       "      <th>1</th>\n",
       "      <td>Uzbek[b]\n",
       "Turkmen[b]\n",
       "Pashai[b]\n",
       "Nuristani[b]\n",
       "Balochi[b]\n",
       "Pamiri[b]</td>\n",
       "      <td>uzbekb turkmenb pashaib nuristanib balochib pamirib</td>\n",
       "    </tr>\n",
       "    <tr>\n",
       "      <th>2</th>\n",
       "      <td></td>\n",
       "      <td></td>\n",
       "    </tr>\n",
       "    <tr>\n",
       "      <th>3</th>\n",
       "      <td></td>\n",
       "      <td></td>\n",
       "    </tr>\n",
       "    <tr>\n",
       "      <th>4</th>\n",
       "      <td></td>\n",
       "      <td></td>\n",
       "    </tr>\n",
       "  </tbody>\n",
       "</table>\n",
       "</div>"
      ],
      "text/plain": [
       "                                                  regional_language  \\\n",
       "0                                                                     \n",
       "1  \n",
       "Uzbek[b]\n",
       "Turkmen[b]\n",
       "Pashai[b]\n",
       "Nuristani[b]\n",
       "Balochi[b]\n",
       "Pamiri[b]   \n",
       "2                                                                     \n",
       "3                                                                     \n",
       "4                                                                     \n",
       "\n",
       "                             regional_language_cleaned  \n",
       "0                                                       \n",
       "1  uzbekb turkmenb pashaib nuristanib balochib pamirib  \n",
       "2                                                       \n",
       "3                                                       \n",
       "4                                                       "
      ]
     },
     "execution_count": 104,
     "metadata": {},
     "output_type": "execute_result"
    }
   ],
   "source": [
    "# applying the cleaning function to the regional_language column\n",
    "df_wiki_country_language_bronze['regional_language_cleaned'] = df_wiki_country_language_bronze['regional_language'].apply(lambda overview: function_clean_stop(overview))\n",
    "df_wiki_country_language_bronze[['regional_language','regional_language_cleaned']].head()"
   ]
  },
  {
   "cell_type": "code",
   "execution_count": 106,
   "metadata": {
    "collapsed": true,
    "gather": {
     "logged": 1620585573419
    },
    "jupyter": {
     "outputs_hidden": false,
     "source_hidden": false
    },
    "nteract": {
     "transient": {
      "deleting": false
     }
    }
   },
   "outputs": [
    {
     "data": {
      "text/html": [
       "<div>\n",
       "<style scoped>\n",
       "    .dataframe tbody tr th:only-of-type {\n",
       "        vertical-align: middle;\n",
       "    }\n",
       "\n",
       "    .dataframe tbody tr th {\n",
       "        vertical-align: top;\n",
       "    }\n",
       "\n",
       "    .dataframe thead th {\n",
       "        text-align: right;\n",
       "    }\n",
       "</style>\n",
       "<table border=\"1\" class=\"dataframe\">\n",
       "  <thead>\n",
       "    <tr style=\"text-align: right;\">\n",
       "      <th></th>\n",
       "      <th>minority_language</th>\n",
       "      <th>minority_language_cleaned</th>\n",
       "    </tr>\n",
       "  </thead>\n",
       "  <tbody>\n",
       "    <tr>\n",
       "      <th>0</th>\n",
       "      <td>Georgian</td>\n",
       "      <td>georgian</td>\n",
       "    </tr>\n",
       "    <tr>\n",
       "      <th>1</th>\n",
       "      <td></td>\n",
       "      <td></td>\n",
       "    </tr>\n",
       "    <tr>\n",
       "      <th>2</th>\n",
       "      <td>Greek\n",
       "Macedonian\n",
       "Aromanian</td>\n",
       "      <td>greek macedonian aromanian</td>\n",
       "    </tr>\n",
       "    <tr>\n",
       "      <th>3</th>\n",
       "      <td></td>\n",
       "      <td></td>\n",
       "    </tr>\n",
       "    <tr>\n",
       "      <th>4</th>\n",
       "      <td>Spanish\n",
       "French\n",
       "Portuguese</td>\n",
       "      <td>spanish french portuguese</td>\n",
       "    </tr>\n",
       "  </tbody>\n",
       "</table>\n",
       "</div>"
      ],
      "text/plain": [
       "             minority_language   minority_language_cleaned\n",
       "0  Georgian                     georgian                  \n",
       "1                                                         \n",
       "2  \n",
       "Greek\n",
       "Macedonian\n",
       "Aromanian  greek macedonian aromanian\n",
       "3                                                         \n",
       "4  \n",
       "Spanish\n",
       "French\n",
       "Portuguese   spanish french portuguese "
      ]
     },
     "execution_count": 106,
     "metadata": {},
     "output_type": "execute_result"
    }
   ],
   "source": [
    "# applying the cleaning function to the minority_language column\n",
    "df_wiki_country_language_bronze['minority_language_cleaned'] = df_wiki_country_language_bronze['minority_language'].apply(lambda overview: function_clean_stop(overview))\n",
    "df_wiki_country_language_bronze[['minority_language','minority_language_cleaned']].head()"
   ]
  },
  {
   "cell_type": "code",
   "execution_count": 108,
   "metadata": {
    "collapsed": true,
    "gather": {
     "logged": 1620585612600
    },
    "jupyter": {
     "outputs_hidden": false,
     "source_hidden": false
    },
    "nteract": {
     "transient": {
      "deleting": false
     }
    }
   },
   "outputs": [
    {
     "data": {
      "text/html": [
       "<div>\n",
       "<style scoped>\n",
       "    .dataframe tbody tr th:only-of-type {\n",
       "        vertical-align: middle;\n",
       "    }\n",
       "\n",
       "    .dataframe tbody tr th {\n",
       "        vertical-align: top;\n",
       "    }\n",
       "\n",
       "    .dataframe thead th {\n",
       "        text-align: right;\n",
       "    }\n",
       "</style>\n",
       "<table border=\"1\" class=\"dataframe\">\n",
       "  <thead>\n",
       "    <tr style=\"text-align: right;\">\n",
       "      <th></th>\n",
       "      <th>national_language</th>\n",
       "      <th>national_language_cleaned</th>\n",
       "    </tr>\n",
       "  </thead>\n",
       "  <tbody>\n",
       "    <tr>\n",
       "      <th>0</th>\n",
       "      <td>Abkhaz</td>\n",
       "      <td>abkhaz</td>\n",
       "    </tr>\n",
       "    <tr>\n",
       "      <th>1</th>\n",
       "      <td>Pashto</td>\n",
       "      <td>pashto</td>\n",
       "    </tr>\n",
       "    <tr>\n",
       "      <th>2</th>\n",
       "      <td></td>\n",
       "      <td></td>\n",
       "    </tr>\n",
       "    <tr>\n",
       "      <th>3</th>\n",
       "      <td>Arabic\n",
       "Tamazight</td>\n",
       "      <td>arabic tamazight</td>\n",
       "    </tr>\n",
       "    <tr>\n",
       "      <th>4</th>\n",
       "      <td></td>\n",
       "      <td></td>\n",
       "    </tr>\n",
       "  </tbody>\n",
       "</table>\n",
       "</div>"
      ],
      "text/plain": [
       "   national_language national_language_cleaned\n",
       "0  Abkhaz             abkhaz                  \n",
       "1  Pashto             pashto                  \n",
       "2                                             \n",
       "3  \n",
       "Arabic\n",
       "Tamazight  arabic tamazight        \n",
       "4                                             "
      ]
     },
     "execution_count": 108,
     "metadata": {},
     "output_type": "execute_result"
    }
   ],
   "source": [
    "# applying the cleaning function to the national_language column\n",
    "df_wiki_country_language_bronze['national_language_cleaned'] = df_wiki_country_language_bronze['national_language'].apply(lambda overview: function_clean_stop(overview))\n",
    "df_wiki_country_language_bronze[['national_language','national_language_cleaned']].head()"
   ]
  },
  {
   "cell_type": "code",
   "execution_count": 109,
   "metadata": {
    "collapsed": true,
    "gather": {
     "logged": 1620585637129
    },
    "jupyter": {
     "outputs_hidden": false,
     "source_hidden": false
    },
    "nteract": {
     "transient": {
      "deleting": false
     }
    }
   },
   "outputs": [
    {
     "data": {
      "text/html": [
       "<div>\n",
       "<style scoped>\n",
       "    .dataframe tbody tr th:only-of-type {\n",
       "        vertical-align: middle;\n",
       "    }\n",
       "\n",
       "    .dataframe tbody tr th {\n",
       "        vertical-align: top;\n",
       "    }\n",
       "\n",
       "    .dataframe thead th {\n",
       "        text-align: right;\n",
       "    }\n",
       "</style>\n",
       "<table border=\"1\" class=\"dataframe\">\n",
       "  <thead>\n",
       "    <tr style=\"text-align: right;\">\n",
       "      <th></th>\n",
       "      <th>widely_spoken</th>\n",
       "      <th>widely_spoken_cleaned</th>\n",
       "    </tr>\n",
       "  </thead>\n",
       "  <tbody>\n",
       "    <tr>\n",
       "      <th>0</th>\n",
       "      <td></td>\n",
       "      <td></td>\n",
       "    </tr>\n",
       "    <tr>\n",
       "      <th>1</th>\n",
       "      <td></td>\n",
       "      <td></td>\n",
       "    </tr>\n",
       "    <tr>\n",
       "      <th>2</th>\n",
       "      <td>Italian</td>\n",
       "      <td>italian</td>\n",
       "    </tr>\n",
       "    <tr>\n",
       "      <th>3</th>\n",
       "      <td>French</td>\n",
       "      <td>french</td>\n",
       "    </tr>\n",
       "    <tr>\n",
       "      <th>4</th>\n",
       "      <td></td>\n",
       "      <td></td>\n",
       "    </tr>\n",
       "  </tbody>\n",
       "</table>\n",
       "</div>"
      ],
      "text/plain": [
       "  widely_spoken widely_spoken_cleaned\n",
       "0                                    \n",
       "1                                    \n",
       "2  Italian       italian             \n",
       "3  French        french              \n",
       "4                                    "
      ]
     },
     "execution_count": 109,
     "metadata": {},
     "output_type": "execute_result"
    }
   ],
   "source": [
    "# applying the cleaning function to the widely_spoken column\n",
    "df_wiki_country_language_bronze['widely_spoken_cleaned'] = df_wiki_country_language_bronze['widely_spoken'].apply(lambda overview: function_clean_stop(overview))\n",
    "df_wiki_country_language_bronze[['widely_spoken','widely_spoken_cleaned']].head()"
   ]
  },
  {
   "cell_type": "markdown",
   "metadata": {
    "nteract": {
     "transient": {
      "deleting": false
     }
    }
   },
   "source": [
    "#### Step7.  Drop the old columns, rename the cleaned columns <a class=\"anchor\" id=\"S7\"></a>"
   ]
  },
  {
   "cell_type": "code",
   "execution_count": 111,
   "metadata": {
    "gather": {
     "logged": 1620585726651
    },
    "jupyter": {
     "outputs_hidden": false,
     "source_hidden": false
    },
    "nteract": {
     "transient": {
      "deleting": false
     }
    }
   },
   "outputs": [
    {
     "data": {
      "text/plain": [
       "Index(['Country', 'official_language', 'regional_language',\n",
       "       'minority_language', 'national_language', 'widely_spoken',\n",
       "       'country_cleaned', 'official_language_cleaned',\n",
       "       'regional_language_cleaned', 'minority_language_cleaned',\n",
       "       'national_language_cleaned', 'widely_spoken_cleaned'],\n",
       "      dtype='object')"
      ]
     },
     "execution_count": 111,
     "metadata": {},
     "output_type": "execute_result"
    }
   ],
   "source": [
    "df_wiki_country_language_bronze.columns"
   ]
  },
  {
   "cell_type": "code",
   "execution_count": 112,
   "metadata": {
    "collapsed": true,
    "gather": {
     "logged": 1620585882865
    },
    "jupyter": {
     "outputs_hidden": false,
     "source_hidden": false
    },
    "nteract": {
     "transient": {
      "deleting": false
     }
    }
   },
   "outputs": [],
   "source": [
    "#Removed the duplicated features\n",
    "df_wiki_country_language_bronze.drop(['Country', 'official_language', 'regional_language','minority_language', 'national_language', 'widely_spoken'], axis=1, inplace=True)"
   ]
  },
  {
   "cell_type": "code",
   "execution_count": 113,
   "metadata": {
    "collapsed": true,
    "gather": {
     "logged": 1620586031711
    },
    "jupyter": {
     "outputs_hidden": false,
     "source_hidden": false
    },
    "nteract": {
     "transient": {
      "deleting": false
     }
    }
   },
   "outputs": [],
   "source": [
    "#Rename the columns\n",
    "df_wiki_country_language_bronze.rename(columns={\"official_language_cleaned\": \"official_language\", \"regional_language_cleaned\": \"regional_language\", \\\n",
    "                                                \"minority_language_cleaned\": \"minority_language\", \"national_language_cleaned\": \"national_language\", \\\n",
    "                                                \"widely_spoken_cleaned\": \"widely_spoken\", \"country_cleaned\": \"country\"}, inplace=True)"
   ]
  },
  {
   "cell_type": "code",
   "execution_count": 114,
   "metadata": {
    "collapsed": true,
    "gather": {
     "logged": 1620586037393
    },
    "jupyter": {
     "outputs_hidden": false,
     "source_hidden": false
    },
    "nteract": {
     "transient": {
      "deleting": false
     }
    }
   },
   "outputs": [
    {
     "data": {
      "text/plain": [
       "Index(['country', 'official_language', 'regional_language',\n",
       "       'minority_language', 'national_language', 'widely_spoken'],\n",
       "      dtype='object')"
      ]
     },
     "execution_count": 114,
     "metadata": {},
     "output_type": "execute_result"
    }
   ],
   "source": [
    "df_wiki_country_language_bronze.columns"
   ]
  },
  {
   "cell_type": "code",
   "execution_count": 115,
   "metadata": {
    "collapsed": true,
    "gather": {
     "logged": 1620586046793
    },
    "jupyter": {
     "outputs_hidden": false,
     "source_hidden": false
    },
    "nteract": {
     "transient": {
      "deleting": false
     }
    }
   },
   "outputs": [
    {
     "data": {
      "text/html": [
       "<div>\n",
       "<style scoped>\n",
       "    .dataframe tbody tr th:only-of-type {\n",
       "        vertical-align: middle;\n",
       "    }\n",
       "\n",
       "    .dataframe tbody tr th {\n",
       "        vertical-align: top;\n",
       "    }\n",
       "\n",
       "    .dataframe thead th {\n",
       "        text-align: right;\n",
       "    }\n",
       "</style>\n",
       "<table border=\"1\" class=\"dataframe\">\n",
       "  <thead>\n",
       "    <tr style=\"text-align: right;\">\n",
       "      <th></th>\n",
       "      <th>country</th>\n",
       "      <th>official_language</th>\n",
       "      <th>regional_language</th>\n",
       "      <th>minority_language</th>\n",
       "      <th>national_language</th>\n",
       "      <th>widely_spoken</th>\n",
       "    </tr>\n",
       "  </thead>\n",
       "  <tbody>\n",
       "    <tr>\n",
       "      <th>0</th>\n",
       "      <td>abkhaziaa</td>\n",
       "      <td>abkhaz russian</td>\n",
       "      <td></td>\n",
       "      <td>georgian</td>\n",
       "      <td>abkhaz</td>\n",
       "      <td></td>\n",
       "    </tr>\n",
       "    <tr>\n",
       "      <th>1</th>\n",
       "      <td>afghanistan</td>\n",
       "      <td>pashto dari</td>\n",
       "      <td>uzbekb turkmenb pashaib nuristanib balochib pamirib</td>\n",
       "      <td></td>\n",
       "      <td>pashto</td>\n",
       "      <td></td>\n",
       "    </tr>\n",
       "    <tr>\n",
       "      <th>2</th>\n",
       "      <td>albania</td>\n",
       "      <td>albanian</td>\n",
       "      <td></td>\n",
       "      <td>greek macedonian aromanian</td>\n",
       "      <td></td>\n",
       "      <td>italian</td>\n",
       "    </tr>\n",
       "  </tbody>\n",
       "</table>\n",
       "</div>"
      ],
      "text/plain": [
       "       country official_language  \\\n",
       "0  abkhaziaa    abkhaz russian     \n",
       "1  afghanistan  pashto dari        \n",
       "2  albania      albanian           \n",
       "\n",
       "                                     regional_language  \\\n",
       "0                                                        \n",
       "1  uzbekb turkmenb pashaib nuristanib balochib pamirib   \n",
       "2                                                        \n",
       "\n",
       "            minority_language national_language widely_spoken  \n",
       "0  georgian                    abkhaz                          \n",
       "1                              pashto                          \n",
       "2  greek macedonian aromanian                    italian       "
      ]
     },
     "execution_count": 115,
     "metadata": {},
     "output_type": "execute_result"
    }
   ],
   "source": [
    "df_wiki_country_language_bronze.head(3)"
   ]
  },
  {
   "cell_type": "markdown",
   "metadata": {
    "nteract": {
     "transient": {
      "deleting": false
     }
    }
   },
   "source": [
    "#### Step8.  Fix casing of Country column <a class=\"anchor\" id=\"S8\"></a>"
   ]
  },
  {
   "cell_type": "code",
   "execution_count": 116,
   "metadata": {
    "collapsed": true,
    "gather": {
     "logged": 1620586524286
    },
    "jupyter": {
     "outputs_hidden": false,
     "source_hidden": false
    },
    "nteract": {
     "transient": {
      "deleting": false
     }
    }
   },
   "outputs": [
    {
     "data": {
      "text/html": [
       "<div>\n",
       "<style scoped>\n",
       "    .dataframe tbody tr th:only-of-type {\n",
       "        vertical-align: middle;\n",
       "    }\n",
       "\n",
       "    .dataframe tbody tr th {\n",
       "        vertical-align: top;\n",
       "    }\n",
       "\n",
       "    .dataframe thead th {\n",
       "        text-align: right;\n",
       "    }\n",
       "</style>\n",
       "<table border=\"1\" class=\"dataframe\">\n",
       "  <thead>\n",
       "    <tr style=\"text-align: right;\">\n",
       "      <th></th>\n",
       "      <th>country</th>\n",
       "      <th>official_language</th>\n",
       "      <th>regional_language</th>\n",
       "      <th>minority_language</th>\n",
       "      <th>national_language</th>\n",
       "      <th>widely_spoken</th>\n",
       "    </tr>\n",
       "  </thead>\n",
       "  <tbody>\n",
       "    <tr>\n",
       "      <th>0</th>\n",
       "      <td>Abkhaziaa</td>\n",
       "      <td>abkhaz russian</td>\n",
       "      <td></td>\n",
       "      <td>georgian</td>\n",
       "      <td>abkhaz</td>\n",
       "      <td></td>\n",
       "    </tr>\n",
       "    <tr>\n",
       "      <th>1</th>\n",
       "      <td>Afghanistan</td>\n",
       "      <td>pashto dari</td>\n",
       "      <td>uzbekb turkmenb pashaib nuristanib balochib pamirib</td>\n",
       "      <td></td>\n",
       "      <td>pashto</td>\n",
       "      <td></td>\n",
       "    </tr>\n",
       "    <tr>\n",
       "      <th>2</th>\n",
       "      <td>Albania</td>\n",
       "      <td>albanian</td>\n",
       "      <td></td>\n",
       "      <td>greek macedonian aromanian</td>\n",
       "      <td></td>\n",
       "      <td>italian</td>\n",
       "    </tr>\n",
       "  </tbody>\n",
       "</table>\n",
       "</div>"
      ],
      "text/plain": [
       "       country official_language  \\\n",
       "0  Abkhaziaa    abkhaz russian     \n",
       "1  Afghanistan  pashto dari        \n",
       "2  Albania      albanian           \n",
       "\n",
       "                                     regional_language  \\\n",
       "0                                                        \n",
       "1  uzbekb turkmenb pashaib nuristanib balochib pamirib   \n",
       "2                                                        \n",
       "\n",
       "            minority_language national_language widely_spoken  \n",
       "0  georgian                    abkhaz                          \n",
       "1                              pashto                          \n",
       "2  greek macedonian aromanian                    italian       "
      ]
     },
     "execution_count": 116,
     "metadata": {},
     "output_type": "execute_result"
    }
   ],
   "source": [
    "#Initcap each word in the country column\n",
    "df_wiki_country_language_bronze['country']  = df_wiki_country_language_bronze.country.str.title()\n",
    "df_wiki_country_language_bronze.head(3)"
   ]
  },
  {
   "cell_type": "markdown",
   "metadata": {
    "nteract": {
     "transient": {
      "deleting": false
     }
    }
   },
   "source": [
    "#### Step9.  Fix null columns and data type after the new column additions <a class=\"anchor\" id=\"S9\"></a>"
   ]
  },
  {
   "cell_type": "code",
   "execution_count": 126,
   "metadata": {
    "collapsed": true,
    "gather": {
     "logged": 1620592516638
    },
    "jupyter": {
     "outputs_hidden": false,
     "source_hidden": false
    },
    "nteract": {
     "transient": {
      "deleting": false
     }
    }
   },
   "outputs": [
    {
     "data": {
      "text/plain": [
       "country              object\n",
       "official_language    object\n",
       "regional_language    object\n",
       "minority_language    object\n",
       "national_language    object\n",
       "widely_spoken        object\n",
       "dtype: object"
      ]
     },
     "execution_count": 126,
     "metadata": {},
     "output_type": "execute_result"
    }
   ],
   "source": [
    "df_wiki_country_language_bronze.dtypes"
   ]
  },
  {
   "cell_type": "code",
   "execution_count": 129,
   "metadata": {
    "collapsed": true,
    "gather": {
     "logged": 1620592539690
    },
    "jupyter": {
     "outputs_hidden": false,
     "source_hidden": false
    },
    "nteract": {
     "transient": {
      "deleting": false
     }
    }
   },
   "outputs": [],
   "source": [
    "df_wiki_country_language_bronze['country'] = pd.Series(df_wiki_country_language_bronze['country'], dtype=\"string\")\n",
    "df_wiki_country_language_bronze['official_language'] = pd.Series(df_wiki_country_language_bronze['official_language'], dtype=\"string\")\n",
    "df_wiki_country_language_bronze['regional_language'] = pd.Series(df_wiki_country_language_bronze['regional_language'], dtype=\"string\")\n",
    "df_wiki_country_language_bronze['minority_language'] = pd.Series(df_wiki_country_language_bronze['minority_language'], dtype=\"string\")\n",
    "df_wiki_country_language_bronze['national_language'] = pd.Series(df_wiki_country_language_bronze['national_language'], dtype=\"string\")\n",
    "df_wiki_country_language_bronze['widely_spoken'] = pd.Series(df_wiki_country_language_bronze['widely_spoken'], dtype=\"string\")"
   ]
  },
  {
   "cell_type": "code",
   "execution_count": 133,
   "metadata": {
    "collapsed": true,
    "gather": {
     "logged": 1620592656963
    },
    "jupyter": {
     "outputs_hidden": false,
     "source_hidden": false
    },
    "nteract": {
     "transient": {
      "deleting": false
     }
    }
   },
   "outputs": [
    {
     "data": {
      "text/plain": [
       "country              string\n",
       "official_language    string\n",
       "regional_language    string\n",
       "minority_language    string\n",
       "national_language    string\n",
       "widely_spoken        string\n",
       "dtype: object"
      ]
     },
     "execution_count": 133,
     "metadata": {},
     "output_type": "execute_result"
    }
   ],
   "source": [
    "df_wiki_country_language_bronze.dtypes"
   ]
  },
  {
   "cell_type": "code",
   "execution_count": 132,
   "metadata": {
    "collapsed": true,
    "gather": {
     "logged": 1620592653078
    },
    "jupyter": {
     "outputs_hidden": false,
     "source_hidden": false
    },
    "nteract": {
     "transient": {
      "deleting": false
     }
    }
   },
   "outputs": [],
   "source": [
    "#Lets fill the NAs with an empty string '' for regional_language, minority_language, national_language, widely_spoken attribute\n",
    "df_wiki_country_language_bronze[['regional_language']] = df_wiki_country_language_bronze[['regional_language']].fillna(value='')\n",
    "df_wiki_country_language_bronze[['minority_language']] = df_wiki_country_language_bronze[['minority_language']].fillna(value='')\n",
    "df_wiki_country_language_bronze[['national_language']] = df_wiki_country_language_bronze[['national_language']].fillna(value='')\n",
    "df_wiki_country_language_bronze[['widely_spoken']] = df_wiki_country_language_bronze[['widely_spoken']].fillna(value='')"
   ]
  },
  {
   "cell_type": "code",
   "execution_count": 134,
   "metadata": {
    "collapsed": true,
    "gather": {
     "logged": 1620592658711
    },
    "jupyter": {
     "outputs_hidden": false,
     "source_hidden": false
    },
    "nteract": {
     "transient": {
      "deleting": false
     }
    }
   },
   "outputs": [
    {
     "data": {
      "text/plain": [
       "country              0\n",
       "official_language    0\n",
       "regional_language    0\n",
       "minority_language    0\n",
       "national_language    0\n",
       "widely_spoken        0\n",
       "dtype: int64"
      ]
     },
     "execution_count": 134,
     "metadata": {},
     "output_type": "execute_result"
    }
   ],
   "source": [
    "df_wiki_country_language_bronze.isnull().sum()"
   ]
  },
  {
   "cell_type": "markdown",
   "metadata": {
    "nteract": {
     "transient": {
      "deleting": false
     }
    }
   },
   "source": [
    "### Put Data (Silver) <a class=\"anchor\" id=\"PS\"></a>\n",
    "- Raw data extraction for the file, API based and web datasets. Let us call this __Bronze Layer__.\n",
    "- Data transformation using python from Raw to Processed stage. We will call this __Silver Layer__.\n",
    "- Finally store the processed data using standard taxonomy in a SQL based serving layer. We will call this __Gold Layer__."
   ]
  },
  {
   "cell_type": "markdown",
   "metadata": {
    "nteract": {
     "transient": {
      "deleting": false
     }
    }
   },
   "source": [
    "#### Write the transformed dataframe to the silver zone <a class=\"anchor\" id=\"WS\"></a>"
   ]
  },
  {
   "cell_type": "code",
   "execution_count": 135,
   "metadata": {
    "collapsed": true,
    "gather": {
     "logged": 1620592662134
    },
    "jupyter": {
     "outputs_hidden": false,
     "source_hidden": false
    },
    "nteract": {
     "transient": {
      "deleting": false
     }
    }
   },
   "outputs": [],
   "source": [
    "silver_file_name = silver_data_folder + \"/wiki_country_language.csv\"\n",
    "df_wiki_country_language_bronze.to_csv(silver_file_name, index=False)"
   ]
  },
  {
   "cell_type": "markdown",
   "metadata": {
    "nteract": {
     "transient": {
      "deleting": false
     }
    }
   },
   "source": [
    "#### Read silver zone country and language file <a class=\"anchor\" id=\"RS\"></a>"
   ]
  },
  {
   "cell_type": "code",
   "execution_count": 136,
   "metadata": {
    "gather": {
     "logged": 1620592664205
    },
    "jupyter": {
     "outputs_hidden": false,
     "source_hidden": false
    },
    "nteract": {
     "transient": {
      "deleting": false
     }
    }
   },
   "outputs": [
    {
     "data": {
      "text/html": [
       "<div>\n",
       "<style scoped>\n",
       "    .dataframe tbody tr th:only-of-type {\n",
       "        vertical-align: middle;\n",
       "    }\n",
       "\n",
       "    .dataframe tbody tr th {\n",
       "        vertical-align: top;\n",
       "    }\n",
       "\n",
       "    .dataframe thead th {\n",
       "        text-align: right;\n",
       "    }\n",
       "</style>\n",
       "<table border=\"1\" class=\"dataframe\">\n",
       "  <thead>\n",
       "    <tr style=\"text-align: right;\">\n",
       "      <th></th>\n",
       "      <th>0</th>\n",
       "      <th>1</th>\n",
       "      <th>2</th>\n",
       "    </tr>\n",
       "  </thead>\n",
       "  <tbody>\n",
       "    <tr>\n",
       "      <th>country</th>\n",
       "      <td>Abkhaziaa</td>\n",
       "      <td>Afghanistan</td>\n",
       "      <td>Albania</td>\n",
       "    </tr>\n",
       "    <tr>\n",
       "      <th>official_language</th>\n",
       "      <td>abkhaz russian</td>\n",
       "      <td>pashto dari</td>\n",
       "      <td>albanian</td>\n",
       "    </tr>\n",
       "    <tr>\n",
       "      <th>regional_language</th>\n",
       "      <td>NaN</td>\n",
       "      <td>uzbekb turkmenb pashaib nuristanib balochib pamirib</td>\n",
       "      <td>NaN</td>\n",
       "    </tr>\n",
       "    <tr>\n",
       "      <th>minority_language</th>\n",
       "      <td>georgian</td>\n",
       "      <td>NaN</td>\n",
       "      <td>greek macedonian aromanian</td>\n",
       "    </tr>\n",
       "    <tr>\n",
       "      <th>national_language</th>\n",
       "      <td>abkhaz</td>\n",
       "      <td>pashto</td>\n",
       "      <td>NaN</td>\n",
       "    </tr>\n",
       "    <tr>\n",
       "      <th>widely_spoken</th>\n",
       "      <td>NaN</td>\n",
       "      <td>NaN</td>\n",
       "      <td>italian</td>\n",
       "    </tr>\n",
       "  </tbody>\n",
       "</table>\n",
       "</div>"
      ],
      "text/plain": [
       "                                0  \\\n",
       "country            Abkhaziaa        \n",
       "official_language  abkhaz russian   \n",
       "regional_language  NaN              \n",
       "minority_language  georgian         \n",
       "national_language  abkhaz           \n",
       "widely_spoken      NaN              \n",
       "\n",
       "                                                                     1  \\\n",
       "country            Afghanistan                                           \n",
       "official_language  pashto dari                                           \n",
       "regional_language  uzbekb turkmenb pashaib nuristanib balochib pamirib   \n",
       "minority_language  NaN                                                   \n",
       "national_language  pashto                                                \n",
       "widely_spoken      NaN                                                   \n",
       "\n",
       "                                            2  \n",
       "country            Albania                     \n",
       "official_language  albanian                    \n",
       "regional_language  NaN                         \n",
       "minority_language  greek macedonian aromanian  \n",
       "national_language  NaN                         \n",
       "widely_spoken      italian                     "
      ]
     },
     "execution_count": 136,
     "metadata": {},
     "output_type": "execute_result"
    }
   ],
   "source": [
    "df_wiki_country_language_silver = pd.read_csv(silver_file_name)\n",
    "df_wiki_country_language_silver.head(3).transpose()"
   ]
  }
 ],
 "metadata": {
  "kernel_info": {
   "name": "python3"
  },
  "kernelspec": {
   "display_name": "Python 3",
   "language": "python",
   "name": "python3"
  },
  "language_info": {
   "codemirror_mode": {
    "name": "ipython",
    "version": 3
   },
   "file_extension": ".py",
   "mimetype": "text/x-python",
   "name": "python",
   "nbconvert_exporter": "python",
   "pygments_lexer": "ipython3",
   "version": "3.8.6"
  },
  "microsoft": {
   "host": {
    "AzureML": {
     "notebookHasBeenCompleted": true
    }
   }
  },
  "nteract": {
   "version": "nteract-front-end@1.0.0"
  }
 },
 "nbformat": 4,
 "nbformat_minor": 2
}
