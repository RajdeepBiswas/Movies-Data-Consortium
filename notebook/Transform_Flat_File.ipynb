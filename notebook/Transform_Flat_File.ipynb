{
 "cells": [
  {
   "cell_type": "markdown",
   "metadata": {
    "nteract": {
     "transient": {
      "deleting": false
     }
    }
   },
   "source": [
    "### Table of Contents\n",
    "\n",
    "* [Initial Configurations](#IC)\n",
    "    * [Import Libraries](#IL)\n",
    "    * [Autheticate the AML Workspace](#AML)\n",
    "* [Get Data (Bronze)](#GD)\n",
    "    * [Setup Directory Structure](#SD)\n",
    "    * [Check the uploaded files](#UF)\n",
    "    * [Read the movies data](#MD)\n",
    "    * [Features](#F)    \n",
    "* [Data Wrangling](#DW)\n",
    "    * [Step1. Remove unwanted features](#S1)\n",
    "    * [Step2. Remove features which has too many missing values or is insignificant](#S2)\n",
    "    * [Step3. Remove rows based on value of certain features](#S3)\n",
    "    * [Step4. Fix column types](#S4)\n",
    "    * [Step5. Handle null values](#S5)\n",
    "    * [Step6. Remove duplicates](#S6)\n",
    "    * [Step7. Fix casing](#S7)\n",
    "    * [Step8. Text data clean (NLP): Clean up the overview attribute and add another column 'overview_cleaned'](#S8)   \n",
    "    * [Step9. Identify outliers and bad data](#S9)\n",
    "* [Put Data (Silver)](#PS)\n",
    "    * [Write the transformed dataframe to the silver zone](#WS)\n",
    "    * [Read silver zone movies file](#RS)"
   ]
  },
  {
   "cell_type": "markdown",
   "metadata": {},
   "source": [
    "### Initial Configurations <a class=\"anchor\" id=\"IC\"></a>"
   ]
  },
  {
   "cell_type": "markdown",
   "metadata": {},
   "source": [
    "#### Import Libraries <a class=\"anchor\" id=\"IL\"></a>"
   ]
  },
  {
   "cell_type": "code",
   "execution_count": 2,
   "metadata": {
    "collapsed": true,
    "gather": {
     "logged": 1619300237654
    },
    "jupyter": {
     "outputs_hidden": false,
     "source_hidden": false
    },
    "nteract": {
     "transient": {
      "deleting": false
     }
    }
   },
   "outputs": [],
   "source": [
    "#Import required Libraries\n",
    "import os\n",
    "\n",
    "import numpy as np # linear algebra\n",
    "import pandas as pd # data processing, CSV file I/O (e.g. pd.read_csv)\n",
    "import seaborn as sns\n",
    "import matplotlib.pyplot as plt\n",
    "from matplotlib.image import imread\n",
    "import cv2\n",
    "%matplotlib inline\n",
    "\n",
    "import warnings\n",
    "warnings.filterwarnings(\"ignore\")\n",
    "\n",
    "\n",
    "import azureml.core\n",
    "import azureml.automl\n",
    "#from azureml.core.experiment import Experiment\n",
    "from azureml.core import Workspace, Dataset, Datastore"
   ]
  },
  {
   "cell_type": "markdown",
   "metadata": {
    "nteract": {
     "transient": {
      "deleting": false
     }
    }
   },
   "source": [
    "#### Autheticate the AML Workspace <a class=\"anchor\" id=\"AML\"></a>"
   ]
  },
  {
   "cell_type": "code",
   "execution_count": 3,
   "metadata": {
    "gather": {
     "logged": 1619300246250
    },
    "jupyter": {
     "outputs_hidden": false,
     "source_hidden": false
    },
    "nteract": {
     "transient": {
      "deleting": false
     }
    }
   },
   "outputs": [
    {
     "data": {
      "text/html": [
       "<div>\n",
       "<style scoped>\n",
       "    .dataframe tbody tr th:only-of-type {\n",
       "        vertical-align: middle;\n",
       "    }\n",
       "\n",
       "    .dataframe tbody tr th {\n",
       "        vertical-align: top;\n",
       "    }\n",
       "\n",
       "    .dataframe thead th {\n",
       "        text-align: right;\n",
       "    }\n",
       "</style>\n",
       "<table border=\"1\" class=\"dataframe\">\n",
       "  <thead>\n",
       "    <tr style=\"text-align: right;\">\n",
       "      <th></th>\n",
       "      <th></th>\n",
       "    </tr>\n",
       "  </thead>\n",
       "  <tbody>\n",
       "    <tr>\n",
       "      <th>Subscription ID</th>\n",
       "      <td>REDACTED</td>\n",
       "    </tr>\n",
       "    <tr>\n",
       "      <th>Workspace Name</th>\n",
       "      <td>REDACTED</td>\n",
       "    </tr>\n",
       "    <tr>\n",
       "      <th>Resource Group</th>\n",
       "      <td>calcutta_demos</td>\n",
       "    </tr>\n",
       "    <tr>\n",
       "      <th>Location</th>\n",
       "      <td>eastus2</td>\n",
       "    </tr>\n",
       "  </tbody>\n",
       "</table>\n",
       "</div>"
      ],
      "text/plain": [
       "                                                     \n",
       "Subscription ID  Redacted\n",
       "Workspace Name   Redacted        \n",
       "Resource Group   calcutta_demos                      \n",
       "Location         eastus2                             "
      ]
     },
     "execution_count": 3,
     "metadata": {},
     "output_type": "execute_result"
    }
   ],
   "source": [
    "#Autheticate the AML Workspace\n",
    "workspace = Workspace.from_config()\n",
    "output = {}\n",
    "output['Subscription ID'] = workspace.subscription_id\n",
    "output['Workspace Name'] = workspace.name\n",
    "output['Resource Group'] = workspace.resource_group\n",
    "output['Location'] = workspace.location\n",
    "pd.set_option('display.max_colwidth', -1)\n",
    "outputDf = pd.DataFrame(data = output, index = [''])\n",
    "outputDf.T"
   ]
  },
  {
   "cell_type": "markdown",
   "metadata": {
    "nteract": {
     "transient": {
      "deleting": false
     }
    }
   },
   "source": [
    "### Get Data (Bronze) <a class=\"anchor\" id=\"GD\"></a>\n",
    "- Raw data extraction for the file, API based and web datasets. Let us call this __Bronze Layer__.\n",
    "- Data transformation using python from Raw to Processed stage. We will call this __Silver Layer__.\n",
    "- Finally store the processed data using standard taxonomy in a SQL based serving layer. We will call this __Gold Layer__."
   ]
  },
  {
   "cell_type": "markdown",
   "metadata": {
    "nteract": {
     "transient": {
      "deleting": false
     }
    }
   },
   "source": [
    "#### Setup Directory Structure <a class=\"anchor\" id=\"SD\"></a>"
   ]
  },
  {
   "cell_type": "code",
   "execution_count": 4,
   "metadata": {
    "collapsed": true,
    "gather": {
     "logged": 1619300246424
    },
    "jupyter": {
     "outputs_hidden": false,
     "source_hidden": false
    },
    "nteract": {
     "transient": {
      "deleting": false
     }
    }
   },
   "outputs": [],
   "source": [
    "data_folder = os.path.join(os.getcwd(), 'data')\n",
    "#'/mnt/batch/tasks/shared/LS_root/mounts/clusters/compute-cpu-ds12-v2/code/Users/rabiswas/Movies_Data_Consortium/data'\n",
    "\n",
    "#Create the data directory\n",
    "os.makedirs(data_folder, exist_ok=True)\n",
    "\n",
    "#Create the bronze, silver and gold folders\n",
    "bronze_data_folder = data_folder +\"/bronze\"\n",
    "os.makedirs(bronze_data_folder, exist_ok=True)\n",
    "\n",
    "silver_data_folder = data_folder +\"/silver\"\n",
    "os.makedirs(silver_data_folder, exist_ok=True)\n",
    "\n",
    "gold_data_folder = data_folder +\"/gold\"\n",
    "os.makedirs(gold_data_folder, exist_ok=True)\n",
    "\n",
    "\n",
    "#Create sub folder\n",
    "#'/mnt/batch/tasks/shared/LS_root/mounts/clusters/compute-cpu-ds12-v2/code/Users/rabiswas/Movies_Data_Consortium/data/bronze/flat_file'\n",
    "file_data_bronze = bronze_data_folder +\"/flat_file\"\n",
    "os.makedirs(file_data_bronze, exist_ok=True)\n",
    "\n",
    "#Manually upload the folders from Kaggle"
   ]
  },
  {
   "cell_type": "code",
   "execution_count": 5,
   "metadata": {
    "gather": {
     "logged": 1619300246674
    },
    "jupyter": {
     "outputs_hidden": false,
     "source_hidden": false
    },
    "nteract": {
     "transient": {
      "deleting": false
     }
    }
   },
   "outputs": [
    {
     "data": {
      "text/plain": [
       "'/mnt/batch/tasks/shared/LS_root/mounts/clusters/compute-cpu-ds12-v2/code/Users/rabiswas/Movies_Data_Consortium/data/bronze/flat_file'"
      ]
     },
     "execution_count": 5,
     "metadata": {},
     "output_type": "execute_result"
    }
   ],
   "source": [
    "file_data_bronze"
   ]
  },
  {
   "cell_type": "markdown",
   "metadata": {
    "nteract": {
     "transient": {
      "deleting": false
     }
    }
   },
   "source": [
    "#### Check the uploaded files <a class=\"anchor\" id=\"UF\"></a>"
   ]
  },
  {
   "cell_type": "code",
   "execution_count": 6,
   "metadata": {
    "gather": {
     "logged": 1619300246887
    },
    "jupyter": {
     "outputs_hidden": false,
     "source_hidden": false
    },
    "nteract": {
     "transient": {
      "deleting": false
     }
    }
   },
   "outputs": [
    {
     "name": "stdout",
     "output_type": "stream",
     "text": [
      "/mnt/batch/tasks/shared/LS_root/mounts/clusters/compute-cpu-ds12-v2/code/Users/rabiswas/Movies_Data_Consortium/data/bronze/flat_file/credits.csv\n",
      "/mnt/batch/tasks/shared/LS_root/mounts/clusters/compute-cpu-ds12-v2/code/Users/rabiswas/Movies_Data_Consortium/data/bronze/flat_file/keywords.csv\n",
      "/mnt/batch/tasks/shared/LS_root/mounts/clusters/compute-cpu-ds12-v2/code/Users/rabiswas/Movies_Data_Consortium/data/bronze/flat_file/links.csv\n",
      "/mnt/batch/tasks/shared/LS_root/mounts/clusters/compute-cpu-ds12-v2/code/Users/rabiswas/Movies_Data_Consortium/data/bronze/flat_file/links_small.csv\n",
      "/mnt/batch/tasks/shared/LS_root/mounts/clusters/compute-cpu-ds12-v2/code/Users/rabiswas/Movies_Data_Consortium/data/bronze/flat_file/movies_metadata.csv\n",
      "/mnt/batch/tasks/shared/LS_root/mounts/clusters/compute-cpu-ds12-v2/code/Users/rabiswas/Movies_Data_Consortium/data/bronze/flat_file/ratings.csv\n",
      "/mnt/batch/tasks/shared/LS_root/mounts/clusters/compute-cpu-ds12-v2/code/Users/rabiswas/Movies_Data_Consortium/data/bronze/flat_file/ratings_small.csv\n"
     ]
    }
   ],
   "source": [
    "#List the folder structure and the files\n",
    "for root, directories, files in os.walk(file_data_bronze, topdown=True):\n",
    "\tfor name in directories:\n",
    "\t\tprint(os.path.join(root, name))    \n",
    "\tfor name in files:\n",
    "\t\tprint(os.path.join(root, name))"
   ]
  },
  {
   "cell_type": "markdown",
   "metadata": {
    "nteract": {
     "transient": {
      "deleting": false
     }
    }
   },
   "source": [
    "#### Read the movies data <a class=\"anchor\" id=\"MD\"></a>"
   ]
  },
  {
   "cell_type": "code",
   "execution_count": 8,
   "metadata": {
    "gather": {
     "logged": 1619300247289
    },
    "jupyter": {
     "outputs_hidden": false,
     "source_hidden": false
    },
    "nteract": {
     "transient": {
      "deleting": false
     }
    }
   },
   "outputs": [
    {
     "data": {
      "text/html": [
       "<div>\n",
       "<style scoped>\n",
       "    .dataframe tbody tr th:only-of-type {\n",
       "        vertical-align: middle;\n",
       "    }\n",
       "\n",
       "    .dataframe tbody tr th {\n",
       "        vertical-align: top;\n",
       "    }\n",
       "\n",
       "    .dataframe thead th {\n",
       "        text-align: right;\n",
       "    }\n",
       "</style>\n",
       "<table border=\"1\" class=\"dataframe\">\n",
       "  <thead>\n",
       "    <tr style=\"text-align: right;\">\n",
       "      <th></th>\n",
       "      <th>adult</th>\n",
       "      <th>belongs_to_collection</th>\n",
       "      <th>budget</th>\n",
       "      <th>genres</th>\n",
       "      <th>homepage</th>\n",
       "      <th>id</th>\n",
       "      <th>imdb_id</th>\n",
       "      <th>original_language</th>\n",
       "      <th>original_title</th>\n",
       "      <th>overview</th>\n",
       "      <th>...</th>\n",
       "      <th>release_date</th>\n",
       "      <th>revenue</th>\n",
       "      <th>runtime</th>\n",
       "      <th>spoken_languages</th>\n",
       "      <th>status</th>\n",
       "      <th>tagline</th>\n",
       "      <th>title</th>\n",
       "      <th>video</th>\n",
       "      <th>vote_average</th>\n",
       "      <th>vote_count</th>\n",
       "    </tr>\n",
       "  </thead>\n",
       "  <tbody>\n",
       "    <tr>\n",
       "      <th>0</th>\n",
       "      <td>False</td>\n",
       "      <td>{'id': 10194, 'name': 'Toy Story Collection', 'poster_path': '/7G9915LfUQ2lVfwMEEhDsn3kT4B.jpg', 'backdrop_path': '/9FBwqcd9IRruEDUrTdcaafOMKUq.jpg'}</td>\n",
       "      <td>30000000</td>\n",
       "      <td>[{'id': 16, 'name': 'Animation'}, {'id': 35, 'name': 'Comedy'}, {'id': 10751, 'name': 'Family'}]</td>\n",
       "      <td>http://toystory.disney.com/toy-story</td>\n",
       "      <td>862</td>\n",
       "      <td>tt0114709</td>\n",
       "      <td>en</td>\n",
       "      <td>Toy Story</td>\n",
       "      <td>Led by Woody, Andy's toys live happily in his room until Andy's birthday brings Buzz Lightyear onto the scene. Afraid of losing his place in Andy's heart, Woody plots against Buzz. But when circumstances separate Buzz and Woody from their owner, the duo eventually learns to put aside their differences.</td>\n",
       "      <td>...</td>\n",
       "      <td>1995-10-30</td>\n",
       "      <td>373554033.0</td>\n",
       "      <td>81.0</td>\n",
       "      <td>[{'iso_639_1': 'en', 'name': 'English'}]</td>\n",
       "      <td>Released</td>\n",
       "      <td>NaN</td>\n",
       "      <td>Toy Story</td>\n",
       "      <td>False</td>\n",
       "      <td>7.7</td>\n",
       "      <td>5415.0</td>\n",
       "    </tr>\n",
       "    <tr>\n",
       "      <th>1</th>\n",
       "      <td>False</td>\n",
       "      <td>NaN</td>\n",
       "      <td>65000000</td>\n",
       "      <td>[{'id': 12, 'name': 'Adventure'}, {'id': 14, 'name': 'Fantasy'}, {'id': 10751, 'name': 'Family'}]</td>\n",
       "      <td>NaN</td>\n",
       "      <td>8844</td>\n",
       "      <td>tt0113497</td>\n",
       "      <td>en</td>\n",
       "      <td>Jumanji</td>\n",
       "      <td>When siblings Judy and Peter discover an enchanted board game that opens the door to a magical world, they unwittingly invite Alan -- an adult who's been trapped inside the game for 26 years -- into their living room. Alan's only hope for freedom is to finish the game, which proves risky as all three find themselves running from giant rhinoceroses, evil monkeys and other terrifying creatures.</td>\n",
       "      <td>...</td>\n",
       "      <td>1995-12-15</td>\n",
       "      <td>262797249.0</td>\n",
       "      <td>104.0</td>\n",
       "      <td>[{'iso_639_1': 'en', 'name': 'English'}, {'iso_639_1': 'fr', 'name': 'Français'}]</td>\n",
       "      <td>Released</td>\n",
       "      <td>Roll the dice and unleash the excitement!</td>\n",
       "      <td>Jumanji</td>\n",
       "      <td>False</td>\n",
       "      <td>6.9</td>\n",
       "      <td>2413.0</td>\n",
       "    </tr>\n",
       "    <tr>\n",
       "      <th>2</th>\n",
       "      <td>False</td>\n",
       "      <td>{'id': 119050, 'name': 'Grumpy Old Men Collection', 'poster_path': '/nLvUdqgPgm3F85NMCii9gVFUcet.jpg', 'backdrop_path': '/hypTnLot2z8wpFS7qwsQHW1uV8u.jpg'}</td>\n",
       "      <td>0</td>\n",
       "      <td>[{'id': 10749, 'name': 'Romance'}, {'id': 35, 'name': 'Comedy'}]</td>\n",
       "      <td>NaN</td>\n",
       "      <td>15602</td>\n",
       "      <td>tt0113228</td>\n",
       "      <td>en</td>\n",
       "      <td>Grumpier Old Men</td>\n",
       "      <td>A family wedding reignites the ancient feud between next-door neighbors and fishing buddies John and Max. Meanwhile, a sultry Italian divorcée opens a restaurant at the local bait shop, alarming the locals who worry she'll scare the fish away. But she's less interested in seafood than she is in cooking up a hot time with Max.</td>\n",
       "      <td>...</td>\n",
       "      <td>1995-12-22</td>\n",
       "      <td>0.0</td>\n",
       "      <td>101.0</td>\n",
       "      <td>[{'iso_639_1': 'en', 'name': 'English'}]</td>\n",
       "      <td>Released</td>\n",
       "      <td>Still Yelling. Still Fighting. Still Ready for Love.</td>\n",
       "      <td>Grumpier Old Men</td>\n",
       "      <td>False</td>\n",
       "      <td>6.5</td>\n",
       "      <td>92.0</td>\n",
       "    </tr>\n",
       "    <tr>\n",
       "      <th>3</th>\n",
       "      <td>False</td>\n",
       "      <td>NaN</td>\n",
       "      <td>16000000</td>\n",
       "      <td>[{'id': 35, 'name': 'Comedy'}, {'id': 18, 'name': 'Drama'}, {'id': 10749, 'name': 'Romance'}]</td>\n",
       "      <td>NaN</td>\n",
       "      <td>31357</td>\n",
       "      <td>tt0114885</td>\n",
       "      <td>en</td>\n",
       "      <td>Waiting to Exhale</td>\n",
       "      <td>Cheated on, mistreated and stepped on, the women are holding their breath, waiting for the elusive \"good man\" to break a string of less-than-stellar lovers. Friends and confidants Vannah, Bernie, Glo and Robin talk it all out, determined to find a better way to breathe.</td>\n",
       "      <td>...</td>\n",
       "      <td>1995-12-22</td>\n",
       "      <td>81452156.0</td>\n",
       "      <td>127.0</td>\n",
       "      <td>[{'iso_639_1': 'en', 'name': 'English'}]</td>\n",
       "      <td>Released</td>\n",
       "      <td>Friends are the people who let you be yourself... and never let you forget it.</td>\n",
       "      <td>Waiting to Exhale</td>\n",
       "      <td>False</td>\n",
       "      <td>6.1</td>\n",
       "      <td>34.0</td>\n",
       "    </tr>\n",
       "    <tr>\n",
       "      <th>4</th>\n",
       "      <td>False</td>\n",
       "      <td>{'id': 96871, 'name': 'Father of the Bride Collection', 'poster_path': '/nts4iOmNnq7GNicycMJ9pSAn204.jpg', 'backdrop_path': '/7qwE57OVZmMJChBpLEbJEmzUydk.jpg'}</td>\n",
       "      <td>0</td>\n",
       "      <td>[{'id': 35, 'name': 'Comedy'}]</td>\n",
       "      <td>NaN</td>\n",
       "      <td>11862</td>\n",
       "      <td>tt0113041</td>\n",
       "      <td>en</td>\n",
       "      <td>Father of the Bride Part II</td>\n",
       "      <td>Just when George Banks has recovered from his daughter's wedding, he receives the news that she's pregnant ... and that George's wife, Nina, is expecting too. He was planning on selling their home, but that's a plan that -- like George -- will have to change with the arrival of both a grandchild and a kid of his own.</td>\n",
       "      <td>...</td>\n",
       "      <td>1995-02-10</td>\n",
       "      <td>76578911.0</td>\n",
       "      <td>106.0</td>\n",
       "      <td>[{'iso_639_1': 'en', 'name': 'English'}]</td>\n",
       "      <td>Released</td>\n",
       "      <td>Just When His World Is Back To Normal... He's In For The Surprise Of His Life!</td>\n",
       "      <td>Father of the Bride Part II</td>\n",
       "      <td>False</td>\n",
       "      <td>5.7</td>\n",
       "      <td>173.0</td>\n",
       "    </tr>\n",
       "  </tbody>\n",
       "</table>\n",
       "<p>5 rows × 24 columns</p>\n",
       "</div>"
      ],
      "text/plain": [
       "   adult  \\\n",
       "0  False   \n",
       "1  False   \n",
       "2  False   \n",
       "3  False   \n",
       "4  False   \n",
       "\n",
       "                                                                                                                                             belongs_to_collection  \\\n",
       "0  {'id': 10194, 'name': 'Toy Story Collection', 'poster_path': '/7G9915LfUQ2lVfwMEEhDsn3kT4B.jpg', 'backdrop_path': '/9FBwqcd9IRruEDUrTdcaafOMKUq.jpg'}             \n",
       "1  NaN                                                                                                                                                               \n",
       "2  {'id': 119050, 'name': 'Grumpy Old Men Collection', 'poster_path': '/nLvUdqgPgm3F85NMCii9gVFUcet.jpg', 'backdrop_path': '/hypTnLot2z8wpFS7qwsQHW1uV8u.jpg'}       \n",
       "3  NaN                                                                                                                                                               \n",
       "4  {'id': 96871, 'name': 'Father of the Bride Collection', 'poster_path': '/nts4iOmNnq7GNicycMJ9pSAn204.jpg', 'backdrop_path': '/7qwE57OVZmMJChBpLEbJEmzUydk.jpg'}   \n",
       "\n",
       "     budget  \\\n",
       "0  30000000   \n",
       "1  65000000   \n",
       "2  0          \n",
       "3  16000000   \n",
       "4  0          \n",
       "\n",
       "                                                                                              genres  \\\n",
       "0  [{'id': 16, 'name': 'Animation'}, {'id': 35, 'name': 'Comedy'}, {'id': 10751, 'name': 'Family'}]    \n",
       "1  [{'id': 12, 'name': 'Adventure'}, {'id': 14, 'name': 'Fantasy'}, {'id': 10751, 'name': 'Family'}]   \n",
       "2  [{'id': 10749, 'name': 'Romance'}, {'id': 35, 'name': 'Comedy'}]                                    \n",
       "3  [{'id': 35, 'name': 'Comedy'}, {'id': 18, 'name': 'Drama'}, {'id': 10749, 'name': 'Romance'}]       \n",
       "4  [{'id': 35, 'name': 'Comedy'}]                                                                      \n",
       "\n",
       "                               homepage     id    imdb_id original_language  \\\n",
       "0  http://toystory.disney.com/toy-story  862    tt0114709  en                 \n",
       "1  NaN                                   8844   tt0113497  en                 \n",
       "2  NaN                                   15602  tt0113228  en                 \n",
       "3  NaN                                   31357  tt0114885  en                 \n",
       "4  NaN                                   11862  tt0113041  en                 \n",
       "\n",
       "                original_title  \\\n",
       "0  Toy Story                     \n",
       "1  Jumanji                       \n",
       "2  Grumpier Old Men              \n",
       "3  Waiting to Exhale             \n",
       "4  Father of the Bride Part II   \n",
       "\n",
       "                                                                                                                                                                                                                                                                                                                                                                                                      overview  \\\n",
       "0  Led by Woody, Andy's toys live happily in his room until Andy's birthday brings Buzz Lightyear onto the scene. Afraid of losing his place in Andy's heart, Woody plots against Buzz. But when circumstances separate Buzz and Woody from their owner, the duo eventually learns to put aside their differences.                                                                                               \n",
       "1  When siblings Judy and Peter discover an enchanted board game that opens the door to a magical world, they unwittingly invite Alan -- an adult who's been trapped inside the game for 26 years -- into their living room. Alan's only hope for freedom is to finish the game, which proves risky as all three find themselves running from giant rhinoceroses, evil monkeys and other terrifying creatures.   \n",
       "2  A family wedding reignites the ancient feud between next-door neighbors and fishing buddies John and Max. Meanwhile, a sultry Italian divorcée opens a restaurant at the local bait shop, alarming the locals who worry she'll scare the fish away. But she's less interested in seafood than she is in cooking up a hot time with Max.                                                                       \n",
       "3  Cheated on, mistreated and stepped on, the women are holding their breath, waiting for the elusive \"good man\" to break a string of less-than-stellar lovers. Friends and confidants Vannah, Bernie, Glo and Robin talk it all out, determined to find a better way to breathe.                                                                                                                                \n",
       "4  Just when George Banks has recovered from his daughter's wedding, he receives the news that she's pregnant ... and that George's wife, Nina, is expecting too. He was planning on selling their home, but that's a plan that -- like George -- will have to change with the arrival of both a grandchild and a kid of his own.                                                                                \n",
       "\n",
       "   ... release_date      revenue runtime  \\\n",
       "0  ...  1995-10-30   373554033.0  81.0     \n",
       "1  ...  1995-12-15   262797249.0  104.0    \n",
       "2  ...  1995-12-22   0.0          101.0    \n",
       "3  ...  1995-12-22   81452156.0   127.0    \n",
       "4  ...  1995-02-10   76578911.0   106.0    \n",
       "\n",
       "                                                                    spoken_languages  \\\n",
       "0  [{'iso_639_1': 'en', 'name': 'English'}]                                            \n",
       "1  [{'iso_639_1': 'en', 'name': 'English'}, {'iso_639_1': 'fr', 'name': 'Français'}]   \n",
       "2  [{'iso_639_1': 'en', 'name': 'English'}]                                            \n",
       "3  [{'iso_639_1': 'en', 'name': 'English'}]                                            \n",
       "4  [{'iso_639_1': 'en', 'name': 'English'}]                                            \n",
       "\n",
       "     status  \\\n",
       "0  Released   \n",
       "1  Released   \n",
       "2  Released   \n",
       "3  Released   \n",
       "4  Released   \n",
       "\n",
       "                                                                          tagline  \\\n",
       "0  NaN                                                                              \n",
       "1  Roll the dice and unleash the excitement!                                        \n",
       "2  Still Yelling. Still Fighting. Still Ready for Love.                             \n",
       "3  Friends are the people who let you be yourself... and never let you forget it.   \n",
       "4  Just When His World Is Back To Normal... He's In For The Surprise Of His Life!   \n",
       "\n",
       "                         title  video vote_average vote_count  \n",
       "0  Toy Story                    False  7.7          5415.0     \n",
       "1  Jumanji                      False  6.9          2413.0     \n",
       "2  Grumpier Old Men             False  6.5          92.0       \n",
       "3  Waiting to Exhale            False  6.1          34.0       \n",
       "4  Father of the Bride Part II  False  5.7          173.0      \n",
       "\n",
       "[5 rows x 24 columns]"
      ]
     },
     "execution_count": 8,
     "metadata": {},
     "output_type": "execute_result"
    }
   ],
   "source": [
    "#Read the movies_metadata csv\n",
    "# The main Movies Metadata file. Contains information on 45,000 movies featured in \n",
    "#  the Full MovieLens dataset. Features include posters, backdrops, budget, revenue, release dates, \n",
    "#   languages, production countries and companies. Some of the columns of this file are nested JSON objects.\n",
    "\n",
    "movies_metadata_file = '/mnt/batch/tasks/shared/LS_root/mounts/clusters/compute-cpu-ds12-v2/code/Users/rabiswas/Movies_Data_Consortium/data/bronze/flat_file/movies_metadata.csv'\n",
    "df_movies_metadata_bronze = pd.read_csv(movies_metadata_file)\n",
    "df_movies_metadata_bronze.head()"
   ]
  },
  {
   "cell_type": "code",
   "execution_count": 9,
   "metadata": {
    "gather": {
     "logged": 1619300247496
    },
    "jupyter": {
     "outputs_hidden": false,
     "source_hidden": false
    },
    "nteract": {
     "transient": {
      "deleting": false
     }
    }
   },
   "outputs": [
    {
     "data": {
      "text/plain": [
       "(45466, 24)"
      ]
     },
     "execution_count": 9,
     "metadata": {},
     "output_type": "execute_result"
    }
   ],
   "source": [
    "#Number of rows and columns\n",
    "df_movies_metadata_bronze.shape"
   ]
  },
  {
   "cell_type": "code",
   "execution_count": 10,
   "metadata": {
    "gather": {
     "logged": 1619300247705
    },
    "jupyter": {
     "outputs_hidden": false,
     "source_hidden": false
    },
    "nteract": {
     "transient": {
      "deleting": false
     }
    }
   },
   "outputs": [
    {
     "data": {
      "text/html": [
       "<div>\n",
       "<style scoped>\n",
       "    .dataframe tbody tr th:only-of-type {\n",
       "        vertical-align: middle;\n",
       "    }\n",
       "\n",
       "    .dataframe tbody tr th {\n",
       "        vertical-align: top;\n",
       "    }\n",
       "\n",
       "    .dataframe thead th {\n",
       "        text-align: right;\n",
       "    }\n",
       "</style>\n",
       "<table border=\"1\" class=\"dataframe\">\n",
       "  <thead>\n",
       "    <tr style=\"text-align: right;\">\n",
       "      <th></th>\n",
       "      <th>0</th>\n",
       "      <th>1</th>\n",
       "      <th>2</th>\n",
       "    </tr>\n",
       "  </thead>\n",
       "  <tbody>\n",
       "    <tr>\n",
       "      <th>adult</th>\n",
       "      <td>False</td>\n",
       "      <td>False</td>\n",
       "      <td>False</td>\n",
       "    </tr>\n",
       "    <tr>\n",
       "      <th>belongs_to_collection</th>\n",
       "      <td>{'id': 10194, 'name': 'Toy Story Collection', 'poster_path': '/7G9915LfUQ2lVfwMEEhDsn3kT4B.jpg', 'backdrop_path': '/9FBwqcd9IRruEDUrTdcaafOMKUq.jpg'}</td>\n",
       "      <td>NaN</td>\n",
       "      <td>{'id': 119050, 'name': 'Grumpy Old Men Collection', 'poster_path': '/nLvUdqgPgm3F85NMCii9gVFUcet.jpg', 'backdrop_path': '/hypTnLot2z8wpFS7qwsQHW1uV8u.jpg'}</td>\n",
       "    </tr>\n",
       "    <tr>\n",
       "      <th>budget</th>\n",
       "      <td>30000000</td>\n",
       "      <td>65000000</td>\n",
       "      <td>0</td>\n",
       "    </tr>\n",
       "    <tr>\n",
       "      <th>genres</th>\n",
       "      <td>[{'id': 16, 'name': 'Animation'}, {'id': 35, 'name': 'Comedy'}, {'id': 10751, 'name': 'Family'}]</td>\n",
       "      <td>[{'id': 12, 'name': 'Adventure'}, {'id': 14, 'name': 'Fantasy'}, {'id': 10751, 'name': 'Family'}]</td>\n",
       "      <td>[{'id': 10749, 'name': 'Romance'}, {'id': 35, 'name': 'Comedy'}]</td>\n",
       "    </tr>\n",
       "    <tr>\n",
       "      <th>homepage</th>\n",
       "      <td>http://toystory.disney.com/toy-story</td>\n",
       "      <td>NaN</td>\n",
       "      <td>NaN</td>\n",
       "    </tr>\n",
       "    <tr>\n",
       "      <th>id</th>\n",
       "      <td>862</td>\n",
       "      <td>8844</td>\n",
       "      <td>15602</td>\n",
       "    </tr>\n",
       "    <tr>\n",
       "      <th>imdb_id</th>\n",
       "      <td>tt0114709</td>\n",
       "      <td>tt0113497</td>\n",
       "      <td>tt0113228</td>\n",
       "    </tr>\n",
       "    <tr>\n",
       "      <th>original_language</th>\n",
       "      <td>en</td>\n",
       "      <td>en</td>\n",
       "      <td>en</td>\n",
       "    </tr>\n",
       "    <tr>\n",
       "      <th>original_title</th>\n",
       "      <td>Toy Story</td>\n",
       "      <td>Jumanji</td>\n",
       "      <td>Grumpier Old Men</td>\n",
       "    </tr>\n",
       "    <tr>\n",
       "      <th>overview</th>\n",
       "      <td>Led by Woody, Andy's toys live happily in his room until Andy's birthday brings Buzz Lightyear onto the scene. Afraid of losing his place in Andy's heart, Woody plots against Buzz. But when circumstances separate Buzz and Woody from their owner, the duo eventually learns to put aside their differences.</td>\n",
       "      <td>When siblings Judy and Peter discover an enchanted board game that opens the door to a magical world, they unwittingly invite Alan -- an adult who's been trapped inside the game for 26 years -- into their living room. Alan's only hope for freedom is to finish the game, which proves risky as all three find themselves running from giant rhinoceroses, evil monkeys and other terrifying creatures.</td>\n",
       "      <td>A family wedding reignites the ancient feud between next-door neighbors and fishing buddies John and Max. Meanwhile, a sultry Italian divorcée opens a restaurant at the local bait shop, alarming the locals who worry she'll scare the fish away. But she's less interested in seafood than she is in cooking up a hot time with Max.</td>\n",
       "    </tr>\n",
       "    <tr>\n",
       "      <th>popularity</th>\n",
       "      <td>21.9469</td>\n",
       "      <td>17.0155</td>\n",
       "      <td>11.7129</td>\n",
       "    </tr>\n",
       "    <tr>\n",
       "      <th>poster_path</th>\n",
       "      <td>/rhIRbceoE9lR4veEXuwCC2wARtG.jpg</td>\n",
       "      <td>/vzmL6fP7aPKNKPRTFnZmiUfciyV.jpg</td>\n",
       "      <td>/6ksm1sjKMFLbO7UY2i6G1ju9SML.jpg</td>\n",
       "    </tr>\n",
       "    <tr>\n",
       "      <th>production_companies</th>\n",
       "      <td>[{'name': 'Pixar Animation Studios', 'id': 3}]</td>\n",
       "      <td>[{'name': 'TriStar Pictures', 'id': 559}, {'name': 'Teitler Film', 'id': 2550}, {'name': 'Interscope Communications', 'id': 10201}]</td>\n",
       "      <td>[{'name': 'Warner Bros.', 'id': 6194}, {'name': 'Lancaster Gate', 'id': 19464}]</td>\n",
       "    </tr>\n",
       "    <tr>\n",
       "      <th>production_countries</th>\n",
       "      <td>[{'iso_3166_1': 'US', 'name': 'United States of America'}]</td>\n",
       "      <td>[{'iso_3166_1': 'US', 'name': 'United States of America'}]</td>\n",
       "      <td>[{'iso_3166_1': 'US', 'name': 'United States of America'}]</td>\n",
       "    </tr>\n",
       "    <tr>\n",
       "      <th>release_date</th>\n",
       "      <td>1995-10-30</td>\n",
       "      <td>1995-12-15</td>\n",
       "      <td>1995-12-22</td>\n",
       "    </tr>\n",
       "    <tr>\n",
       "      <th>revenue</th>\n",
       "      <td>3.73554e+08</td>\n",
       "      <td>2.62797e+08</td>\n",
       "      <td>0</td>\n",
       "    </tr>\n",
       "    <tr>\n",
       "      <th>runtime</th>\n",
       "      <td>81</td>\n",
       "      <td>104</td>\n",
       "      <td>101</td>\n",
       "    </tr>\n",
       "    <tr>\n",
       "      <th>spoken_languages</th>\n",
       "      <td>[{'iso_639_1': 'en', 'name': 'English'}]</td>\n",
       "      <td>[{'iso_639_1': 'en', 'name': 'English'}, {'iso_639_1': 'fr', 'name': 'Français'}]</td>\n",
       "      <td>[{'iso_639_1': 'en', 'name': 'English'}]</td>\n",
       "    </tr>\n",
       "    <tr>\n",
       "      <th>status</th>\n",
       "      <td>Released</td>\n",
       "      <td>Released</td>\n",
       "      <td>Released</td>\n",
       "    </tr>\n",
       "    <tr>\n",
       "      <th>tagline</th>\n",
       "      <td>NaN</td>\n",
       "      <td>Roll the dice and unleash the excitement!</td>\n",
       "      <td>Still Yelling. Still Fighting. Still Ready for Love.</td>\n",
       "    </tr>\n",
       "    <tr>\n",
       "      <th>title</th>\n",
       "      <td>Toy Story</td>\n",
       "      <td>Jumanji</td>\n",
       "      <td>Grumpier Old Men</td>\n",
       "    </tr>\n",
       "    <tr>\n",
       "      <th>video</th>\n",
       "      <td>False</td>\n",
       "      <td>False</td>\n",
       "      <td>False</td>\n",
       "    </tr>\n",
       "    <tr>\n",
       "      <th>vote_average</th>\n",
       "      <td>7.7</td>\n",
       "      <td>6.9</td>\n",
       "      <td>6.5</td>\n",
       "    </tr>\n",
       "    <tr>\n",
       "      <th>vote_count</th>\n",
       "      <td>5415</td>\n",
       "      <td>2413</td>\n",
       "      <td>92</td>\n",
       "    </tr>\n",
       "  </tbody>\n",
       "</table>\n",
       "</div>"
      ],
      "text/plain": [
       "                                                                                                                                                                                                                                                                                                                                     0  \\\n",
       "adult                  False                                                                                                                                                                                                                                                                                                             \n",
       "belongs_to_collection  {'id': 10194, 'name': 'Toy Story Collection', 'poster_path': '/7G9915LfUQ2lVfwMEEhDsn3kT4B.jpg', 'backdrop_path': '/9FBwqcd9IRruEDUrTdcaafOMKUq.jpg'}                                                                                                                                                             \n",
       "budget                 30000000                                                                                                                                                                                                                                                                                                          \n",
       "genres                 [{'id': 16, 'name': 'Animation'}, {'id': 35, 'name': 'Comedy'}, {'id': 10751, 'name': 'Family'}]                                                                                                                                                                                                                  \n",
       "homepage               http://toystory.disney.com/toy-story                                                                                                                                                                                                                                                                              \n",
       "id                     862                                                                                                                                                                                                                                                                                                               \n",
       "imdb_id                tt0114709                                                                                                                                                                                                                                                                                                         \n",
       "original_language      en                                                                                                                                                                                                                                                                                                                \n",
       "original_title         Toy Story                                                                                                                                                                                                                                                                                                         \n",
       "overview               Led by Woody, Andy's toys live happily in his room until Andy's birthday brings Buzz Lightyear onto the scene. Afraid of losing his place in Andy's heart, Woody plots against Buzz. But when circumstances separate Buzz and Woody from their owner, the duo eventually learns to put aside their differences.   \n",
       "popularity             21.9469                                                                                                                                                                                                                                                                                                           \n",
       "poster_path            /rhIRbceoE9lR4veEXuwCC2wARtG.jpg                                                                                                                                                                                                                                                                                  \n",
       "production_companies   [{'name': 'Pixar Animation Studios', 'id': 3}]                                                                                                                                                                                                                                                                    \n",
       "production_countries   [{'iso_3166_1': 'US', 'name': 'United States of America'}]                                                                                                                                                                                                                                                        \n",
       "release_date           1995-10-30                                                                                                                                                                                                                                                                                                        \n",
       "revenue                3.73554e+08                                                                                                                                                                                                                                                                                                       \n",
       "runtime                81                                                                                                                                                                                                                                                                                                                \n",
       "spoken_languages       [{'iso_639_1': 'en', 'name': 'English'}]                                                                                                                                                                                                                                                                          \n",
       "status                 Released                                                                                                                                                                                                                                                                                                          \n",
       "tagline                NaN                                                                                                                                                                                                                                                                                                               \n",
       "title                  Toy Story                                                                                                                                                                                                                                                                                                         \n",
       "video                  False                                                                                                                                                                                                                                                                                                             \n",
       "vote_average           7.7                                                                                                                                                                                                                                                                                                               \n",
       "vote_count             5415                                                                                                                                                                                                                                                                                                              \n",
       "\n",
       "                                                                                                                                                                                                                                                                                                                                                                                                                                 1  \\\n",
       "adult                  False                                                                                                                                                                                                                                                                                                                                                                                                         \n",
       "belongs_to_collection  NaN                                                                                                                                                                                                                                                                                                                                                                                                           \n",
       "budget                 65000000                                                                                                                                                                                                                                                                                                                                                                                                      \n",
       "genres                 [{'id': 12, 'name': 'Adventure'}, {'id': 14, 'name': 'Fantasy'}, {'id': 10751, 'name': 'Family'}]                                                                                                                                                                                                                                                                                                             \n",
       "homepage               NaN                                                                                                                                                                                                                                                                                                                                                                                                           \n",
       "id                     8844                                                                                                                                                                                                                                                                                                                                                                                                          \n",
       "imdb_id                tt0113497                                                                                                                                                                                                                                                                                                                                                                                                     \n",
       "original_language      en                                                                                                                                                                                                                                                                                                                                                                                                            \n",
       "original_title         Jumanji                                                                                                                                                                                                                                                                                                                                                                                                       \n",
       "overview               When siblings Judy and Peter discover an enchanted board game that opens the door to a magical world, they unwittingly invite Alan -- an adult who's been trapped inside the game for 26 years -- into their living room. Alan's only hope for freedom is to finish the game, which proves risky as all three find themselves running from giant rhinoceroses, evil monkeys and other terrifying creatures.   \n",
       "popularity             17.0155                                                                                                                                                                                                                                                                                                                                                                                                       \n",
       "poster_path            /vzmL6fP7aPKNKPRTFnZmiUfciyV.jpg                                                                                                                                                                                                                                                                                                                                                                              \n",
       "production_companies   [{'name': 'TriStar Pictures', 'id': 559}, {'name': 'Teitler Film', 'id': 2550}, {'name': 'Interscope Communications', 'id': 10201}]                                                                                                                                                                                                                                                                           \n",
       "production_countries   [{'iso_3166_1': 'US', 'name': 'United States of America'}]                                                                                                                                                                                                                                                                                                                                                    \n",
       "release_date           1995-12-15                                                                                                                                                                                                                                                                                                                                                                                                    \n",
       "revenue                2.62797e+08                                                                                                                                                                                                                                                                                                                                                                                                   \n",
       "runtime                104                                                                                                                                                                                                                                                                                                                                                                                                           \n",
       "spoken_languages       [{'iso_639_1': 'en', 'name': 'English'}, {'iso_639_1': 'fr', 'name': 'Français'}]                                                                                                                                                                                                                                                                                                                             \n",
       "status                 Released                                                                                                                                                                                                                                                                                                                                                                                                      \n",
       "tagline                Roll the dice and unleash the excitement!                                                                                                                                                                                                                                                                                                                                                                     \n",
       "title                  Jumanji                                                                                                                                                                                                                                                                                                                                                                                                       \n",
       "video                  False                                                                                                                                                                                                                                                                                                                                                                                                         \n",
       "vote_average           6.9                                                                                                                                                                                                                                                                                                                                                                                                           \n",
       "vote_count             2413                                                                                                                                                                                                                                                                                                                                                                                                          \n",
       "\n",
       "                                                                                                                                                                                                                                                                                                                                                             2  \n",
       "adult                  False                                                                                                                                                                                                                                                                                                                                    \n",
       "belongs_to_collection  {'id': 119050, 'name': 'Grumpy Old Men Collection', 'poster_path': '/nLvUdqgPgm3F85NMCii9gVFUcet.jpg', 'backdrop_path': '/hypTnLot2z8wpFS7qwsQHW1uV8u.jpg'}                                                                                                                                                                              \n",
       "budget                 0                                                                                                                                                                                                                                                                                                                                        \n",
       "genres                 [{'id': 10749, 'name': 'Romance'}, {'id': 35, 'name': 'Comedy'}]                                                                                                                                                                                                                                                                         \n",
       "homepage               NaN                                                                                                                                                                                                                                                                                                                                      \n",
       "id                     15602                                                                                                                                                                                                                                                                                                                                    \n",
       "imdb_id                tt0113228                                                                                                                                                                                                                                                                                                                                \n",
       "original_language      en                                                                                                                                                                                                                                                                                                                                       \n",
       "original_title         Grumpier Old Men                                                                                                                                                                                                                                                                                                                         \n",
       "overview               A family wedding reignites the ancient feud between next-door neighbors and fishing buddies John and Max. Meanwhile, a sultry Italian divorcée opens a restaurant at the local bait shop, alarming the locals who worry she'll scare the fish away. But she's less interested in seafood than she is in cooking up a hot time with Max.  \n",
       "popularity             11.7129                                                                                                                                                                                                                                                                                                                                  \n",
       "poster_path            /6ksm1sjKMFLbO7UY2i6G1ju9SML.jpg                                                                                                                                                                                                                                                                                                         \n",
       "production_companies   [{'name': 'Warner Bros.', 'id': 6194}, {'name': 'Lancaster Gate', 'id': 19464}]                                                                                                                                                                                                                                                          \n",
       "production_countries   [{'iso_3166_1': 'US', 'name': 'United States of America'}]                                                                                                                                                                                                                                                                               \n",
       "release_date           1995-12-22                                                                                                                                                                                                                                                                                                                               \n",
       "revenue                0                                                                                                                                                                                                                                                                                                                                        \n",
       "runtime                101                                                                                                                                                                                                                                                                                                                                      \n",
       "spoken_languages       [{'iso_639_1': 'en', 'name': 'English'}]                                                                                                                                                                                                                                                                                                 \n",
       "status                 Released                                                                                                                                                                                                                                                                                                                                 \n",
       "tagline                Still Yelling. Still Fighting. Still Ready for Love.                                                                                                                                                                                                                                                                                     \n",
       "title                  Grumpier Old Men                                                                                                                                                                                                                                                                                                                         \n",
       "video                  False                                                                                                                                                                                                                                                                                                                                    \n",
       "vote_average           6.5                                                                                                                                                                                                                                                                                                                                      \n",
       "vote_count             92                                                                                                                                                                                                                                                                                                                                       "
      ]
     },
     "execution_count": 10,
     "metadata": {},
     "output_type": "execute_result"
    }
   ],
   "source": [
    "#It is easier to view the data if we transpose\n",
    "df_movies_metadata_bronze.head(3).transpose()\n"
   ]
  },
  {
   "cell_type": "code",
   "execution_count": 11,
   "metadata": {
    "gather": {
     "logged": 1619300247922
    },
    "jupyter": {
     "outputs_hidden": false,
     "source_hidden": false
    },
    "nteract": {
     "transient": {
      "deleting": false
     }
    }
   },
   "outputs": [
    {
     "data": {
      "text/plain": [
       "Index(['adult', 'belongs_to_collection', 'budget', 'genres', 'homepage', 'id',\n",
       "       'imdb_id', 'original_language', 'original_title', 'overview',\n",
       "       'popularity', 'poster_path', 'production_companies',\n",
       "       'production_countries', 'release_date', 'revenue', 'runtime',\n",
       "       'spoken_languages', 'status', 'tagline', 'title', 'video',\n",
       "       'vote_average', 'vote_count'],\n",
       "      dtype='object')"
      ]
     },
     "execution_count": 11,
     "metadata": {},
     "output_type": "execute_result"
    }
   ],
   "source": [
    "#List of columns\n",
    "df_movies_metadata_bronze.columns"
   ]
  },
  {
   "cell_type": "markdown",
   "metadata": {
    "nteract": {
     "transient": {
      "deleting": false
     }
    }
   },
   "source": [
    "#### Features <a class=\"anchor\" id=\"F\"></a>\n",
    "- __adult:__ Indicates if the movie is X-Rated or Adult.\n",
    "- __belongs_to_collection:__ A stringified dictionary that gives information on the movie series the particular film belongs to.\n",
    "- __budget:__ The budget of the movie in dollars.\n",
    "- __genres:__ A stringified list of dictionaries that list out all the genres associated with the movie.\n",
    "- __homepage:__ The Official Homepage of the move.\n",
    "- __id:__ The ID of the move.\n",
    "- __imdb_id:__ The IMDB ID of the movie.\n",
    "- __original_language:__ The language in which the movie was originally shot in.\n",
    "- __original_title:__ The original title of the movie.\n",
    "- __overview:__ A brief blurb of the movie.\n",
    "- __popularity:__ The Popularity Score assigned by TMDB.\n",
    "- __poster_path:__ The URL of the poster image.\n",
    "- __production_companies:__ A stringified list of production companies involved with the making of the movie.\n",
    "- __production_countries:__ A stringified list of countries where the movie was shot/produced in.\n",
    "- __release_date:__ Theatrical Release Date of the movie.\n",
    "- __revenue:__ The total revenue of the movie in dollars.\n",
    "- __runtime:__ The runtime of the movie in minutes.\n",
    "- __spoken_languages:__ A stringified list of spoken languages in the film.\n",
    "- __status:__ The status of the movie (Released, To Be Released, Announced, etc.)\n",
    "tagline:__ The tagline of the movie.\n",
    "- __title:__ The Official Title of the movie.\n",
    "- __video:__ Indicates if there is a video present of the movie with TMDB.\n",
    "- __vote_average:__ The average rating of the movie.\n",
    "- __vote_count:__ The number of votes by users, as counted by TMDB."
   ]
  },
  {
   "cell_type": "code",
   "execution_count": 12,
   "metadata": {
    "gather": {
     "logged": 1619300248113
    },
    "jupyter": {
     "outputs_hidden": false,
     "source_hidden": false
    },
    "nteract": {
     "transient": {
      "deleting": false
     }
    }
   },
   "outputs": [
    {
     "name": "stdout",
     "output_type": "stream",
     "text": [
      "<class 'pandas.core.frame.DataFrame'>\n",
      "RangeIndex: 45466 entries, 0 to 45465\n",
      "Data columns (total 24 columns):\n",
      " #   Column                 Non-Null Count  Dtype  \n",
      "---  ------                 --------------  -----  \n",
      " 0   adult                  45466 non-null  object \n",
      " 1   belongs_to_collection  4494 non-null   object \n",
      " 2   budget                 45466 non-null  object \n",
      " 3   genres                 45466 non-null  object \n",
      " 4   homepage               7782 non-null   object \n",
      " 5   id                     45466 non-null  object \n",
      " 6   imdb_id                45449 non-null  object \n",
      " 7   original_language      45455 non-null  object \n",
      " 8   original_title         45466 non-null  object \n",
      " 9   overview               44512 non-null  object \n",
      " 10  popularity             45461 non-null  object \n",
      " 11  poster_path            45080 non-null  object \n",
      " 12  production_companies   45463 non-null  object \n",
      " 13  production_countries   45463 non-null  object \n",
      " 14  release_date           45379 non-null  object \n",
      " 15  revenue                45460 non-null  float64\n",
      " 16  runtime                45203 non-null  float64\n",
      " 17  spoken_languages       45460 non-null  object \n",
      " 18  status                 45379 non-null  object \n",
      " 19  tagline                20412 non-null  object \n",
      " 20  title                  45460 non-null  object \n",
      " 21  video                  45460 non-null  object \n",
      " 22  vote_average           45460 non-null  float64\n",
      " 23  vote_count             45460 non-null  float64\n",
      "dtypes: float64(4), object(20)\n",
      "memory usage: 8.3+ MB\n"
     ]
    }
   ],
   "source": [
    "df_movies_metadata_bronze.info()"
   ]
  },
  {
   "cell_type": "markdown",
   "metadata": {
    "nteract": {
     "transient": {
      "deleting": false
     }
    }
   },
   "source": [
    "As we can see there are a total of 45,466 movies with 24 features and most of the features have very few NaN values.\n",
    "Next we will start cleaning up the data."
   ]
  },
  {
   "cell_type": "markdown",
   "metadata": {
    "nteract": {
     "transient": {
      "deleting": false
     }
    }
   },
   "source": [
    "### Data Wrangling <a class=\"anchor\" id=\"DW\"></a>"
   ]
  },
  {
   "cell_type": "markdown",
   "metadata": {
    "nteract": {
     "transient": {
      "deleting": false
     }
    }
   },
   "source": [
    "#### Step1.  Remove unwanted features  <a class=\"anchor\" id=\"S1\"></a>\n",
    "\n",
    "- __imdb_id__ Since we only need the tmdb id to call the api\n",
    "- __original_title__ Since we have the offical title of the movie in the column title\n",
    "- __belongs_to_collection__ We do not have use for this in the context of this analysis\n",
    "- __poster_path__ We do not have use for this in the context of this analysis\n",
    "- __video__ We do not have use for this in the context of this analysis\n",
    "- __homepage__ We do not have use for this in the context of this analysis\n",
    "- __tagline__ We do not have use for this in the context of this analysis"
   ]
  },
  {
   "cell_type": "code",
   "execution_count": 13,
   "metadata": {
    "collapsed": true,
    "gather": {
     "logged": 1619300248269
    },
    "jupyter": {
     "outputs_hidden": false,
     "source_hidden": false
    },
    "nteract": {
     "transient": {
      "deleting": false
     }
    }
   },
   "outputs": [],
   "source": [
    "#Removed the unwanted features\n",
    "df_movies_metadata_bronze.drop(['imdb_id', 'original_title' ,'belongs_to_collection', 'poster_path' ,'video', 'homepage' ,'tagline'], axis=1, inplace=True)"
   ]
  },
  {
   "cell_type": "code",
   "execution_count": 14,
   "metadata": {
    "gather": {
     "logged": 1619300248447
    },
    "jupyter": {
     "outputs_hidden": false,
     "source_hidden": false
    },
    "nteract": {
     "transient": {
      "deleting": false
     }
    }
   },
   "outputs": [
    {
     "data": {
      "text/plain": [
       "Index(['adult', 'budget', 'genres', 'id', 'original_language', 'overview',\n",
       "       'popularity', 'production_companies', 'production_countries',\n",
       "       'release_date', 'revenue', 'runtime', 'spoken_languages', 'status',\n",
       "       'title', 'vote_average', 'vote_count'],\n",
       "      dtype='object')"
      ]
     },
     "execution_count": 14,
     "metadata": {},
     "output_type": "execute_result"
    }
   ],
   "source": [
    "#List of columns\n",
    "df_movies_metadata_bronze.columns"
   ]
  },
  {
   "cell_type": "markdown",
   "metadata": {
    "nteract": {
     "transient": {
      "deleting": false
     }
    }
   },
   "source": [
    "#### Step2.  Remove features which has too many missing values or values of one type for it to contribute anything meaningful <a class=\"anchor\" id=\"S2\"></a>"
   ]
  },
  {
   "cell_type": "code",
   "execution_count": 15,
   "metadata": {
    "gather": {
     "logged": 1619300248677
    },
    "jupyter": {
     "outputs_hidden": false,
     "source_hidden": false
    },
    "nteract": {
     "transient": {
      "deleting": false
     }
    }
   },
   "outputs": [
    {
     "data": {
      "text/plain": [
       "adult                   5    \n",
       "budget                  1226 \n",
       "genres                  4069 \n",
       "id                      45436\n",
       "original_language       92   \n",
       "overview                44307\n",
       "popularity              44176\n",
       "production_companies    22708\n",
       "production_countries    2393 \n",
       "release_date            17336\n",
       "revenue                 6863 \n",
       "runtime                 353  \n",
       "spoken_languages        1931 \n",
       "status                  6    \n",
       "title                   42277\n",
       "vote_average            92   \n",
       "vote_count              1820 \n",
       "dtype: int64"
      ]
     },
     "execution_count": 15,
     "metadata": {},
     "output_type": "execute_result"
    }
   ],
   "source": [
    "#lets find the unique values in a column to get a starting point\n",
    "# We can safely ignore the columns whihc has lot of unique values\n",
    "df_movies_metadata_bronze.nunique(axis=0)"
   ]
  },
  {
   "cell_type": "markdown",
   "metadata": {
    "nteract": {
     "transient": {
      "deleting": false
     }
    }
   },
   "source": [
    "So we got the following columns to inspect\n",
    "- adult\n",
    "- status\n",
    "- vote_average\n",
    "- original_language"
   ]
  },
  {
   "cell_type": "code",
   "execution_count": 16,
   "metadata": {
    "gather": {
     "logged": 1619300249056
    },
    "jupyter": {
     "outputs_hidden": false,
     "source_hidden": false
    },
    "nteract": {
     "transient": {
      "deleting": false
     }
    }
   },
   "outputs": [
    {
     "data": {
      "text/plain": [
       "False                                                                                                                             45454\n",
       "True                                                                                                                              9    \n",
       " Rune Balot goes to a casino connected to the October corporation to try to wrap up her case once and for all.                    1    \n",
       " Avalanche Sharks tells the story of a bikini contest that turns into a horrifying affair when it is hit by a shark avalanche.    1    \n",
       " - Written by Ørnås                                                                                                               1    \n",
       "Name: adult, dtype: int64"
      ]
     },
     "execution_count": 16,
     "metadata": {},
     "output_type": "execute_result"
    }
   ],
   "source": [
    "df_movies_metadata_bronze['adult'].value_counts()"
   ]
  },
  {
   "cell_type": "code",
   "execution_count": 17,
   "metadata": {
    "gather": {
     "logged": 1619300249269
    },
    "jupyter": {
     "outputs_hidden": false,
     "source_hidden": false
    },
    "nteract": {
     "transient": {
      "deleting": false
     }
    }
   },
   "outputs": [
    {
     "data": {
      "text/plain": [
       "Released           45014\n",
       "Rumored            230  \n",
       "Post Production    98   \n",
       "In Production      20   \n",
       "Planned            15   \n",
       "Canceled           2    \n",
       "Name: status, dtype: int64"
      ]
     },
     "execution_count": 17,
     "metadata": {},
     "output_type": "execute_result"
    }
   ],
   "source": [
    "df_movies_metadata_bronze['status'].value_counts()"
   ]
  },
  {
   "cell_type": "code",
   "execution_count": 18,
   "metadata": {
    "gather": {
     "logged": 1619300249476
    },
    "jupyter": {
     "outputs_hidden": false,
     "source_hidden": false
    },
    "nteract": {
     "transient": {
      "deleting": false
     }
    }
   },
   "outputs": [
    {
     "data": {
      "text/plain": [
       "0.0    2998\n",
       "6.0    2468\n",
       "5.0    2001\n",
       "7.0    1886\n",
       "6.5    1722\n",
       "       ... \n",
       "9.4    3   \n",
       "9.8    1   \n",
       "0.7    1   \n",
       "9.6    1   \n",
       "1.1    1   \n",
       "Name: vote_average, Length: 92, dtype: int64"
      ]
     },
     "execution_count": 18,
     "metadata": {},
     "output_type": "execute_result"
    }
   ],
   "source": [
    "df_movies_metadata_bronze['vote_average'].value_counts()"
   ]
  },
  {
   "cell_type": "code",
   "execution_count": 19,
   "metadata": {
    "gather": {
     "logged": 1619300249691
    },
    "jupyter": {
     "outputs_hidden": false,
     "source_hidden": false
    },
    "nteract": {
     "transient": {
      "deleting": false
     }
    }
   },
   "outputs": [
    {
     "data": {
      "text/plain": [
       "en      32269\n",
       "fr      2438 \n",
       "it      1529 \n",
       "ja      1350 \n",
       "de      1080 \n",
       "        ...  \n",
       "82.0    1    \n",
       "rw      1    \n",
       "si      1    \n",
       "zu      1    \n",
       "tg      1    \n",
       "Name: original_language, Length: 92, dtype: int64"
      ]
     },
     "execution_count": 19,
     "metadata": {},
     "output_type": "execute_result"
    }
   ],
   "source": [
    "df_movies_metadata_bronze['original_language'].value_counts()"
   ]
  },
  {
   "cell_type": "markdown",
   "metadata": {
    "nteract": {
     "transient": {
      "deleting": false
     }
    }
   },
   "source": [
    "- Since we have just 9 adult movies in the dataset, we can safely drop them from the analysis"
   ]
  },
  {
   "cell_type": "code",
   "execution_count": 20,
   "metadata": {
    "collapsed": true,
    "gather": {
     "logged": 1619300249935
    },
    "jupyter": {
     "outputs_hidden": false,
     "source_hidden": false
    },
    "nteract": {
     "transient": {
      "deleting": false
     }
    }
   },
   "outputs": [],
   "source": [
    "#Removed the insignificant features\n",
    "df_movies_metadata_bronze.drop(['adult'], axis=1, inplace=True)"
   ]
  },
  {
   "cell_type": "code",
   "execution_count": 21,
   "metadata": {
    "gather": {
     "logged": 1619300250121
    },
    "jupyter": {
     "outputs_hidden": false,
     "source_hidden": false
    },
    "nteract": {
     "transient": {
      "deleting": false
     }
    }
   },
   "outputs": [
    {
     "data": {
      "text/plain": [
       "Index(['budget', 'genres', 'id', 'original_language', 'overview', 'popularity',\n",
       "       'production_companies', 'production_countries', 'release_date',\n",
       "       'revenue', 'runtime', 'spoken_languages', 'status', 'title',\n",
       "       'vote_average', 'vote_count'],\n",
       "      dtype='object')"
      ]
     },
     "execution_count": 21,
     "metadata": {},
     "output_type": "execute_result"
    }
   ],
   "source": [
    "df_movies_metadata_bronze.columns"
   ]
  },
  {
   "cell_type": "markdown",
   "metadata": {
    "nteract": {
     "transient": {
      "deleting": false
     }
    }
   },
   "source": [
    "#### Step3.  Remove rows based on value of certain features <a class=\"anchor\" id=\"S3\"></a>"
   ]
  },
  {
   "cell_type": "code",
   "execution_count": 22,
   "metadata": {
    "gather": {
     "logged": 1619300250306
    },
    "jupyter": {
     "outputs_hidden": false,
     "source_hidden": false
    },
    "nteract": {
     "transient": {
      "deleting": false
     }
    }
   },
   "outputs": [
    {
     "data": {
      "text/plain": [
       "Released           45014\n",
       "Rumored            230  \n",
       "Post Production    98   \n",
       "In Production      20   \n",
       "Planned            15   \n",
       "Canceled           2    \n",
       "Name: status, dtype: int64"
      ]
     },
     "execution_count": 22,
     "metadata": {},
     "output_type": "execute_result"
    }
   ],
   "source": [
    "df_movies_metadata_bronze['status'].value_counts()"
   ]
  },
  {
   "cell_type": "markdown",
   "metadata": {
    "nteract": {
     "transient": {
      "deleting": false
     }
    }
   },
   "source": [
    "For our analysis we can safely remove the movies in the following status\n",
    "- Rumored            230   \n",
    "- Planned            15   \n",
    "- Canceled           2   "
   ]
  },
  {
   "cell_type": "code",
   "execution_count": 23,
   "metadata": {
    "collapsed": true,
    "gather": {
     "logged": 1619300250483
    },
    "jupyter": {
     "outputs_hidden": false,
     "source_hidden": false
    },
    "nteract": {
     "transient": {
      "deleting": false
     }
    }
   },
   "outputs": [],
   "source": [
    "#Get the omit values in a list and then filter\n",
    "omit_values_list = ['Rumored','Planned','Canceled']\n",
    "df_movies_metadata_bronze = df_movies_metadata_bronze[~df_movies_metadata_bronze.status.isin(omit_values_list)]"
   ]
  },
  {
   "cell_type": "code",
   "execution_count": 24,
   "metadata": {
    "gather": {
     "logged": 1619300250665
    },
    "jupyter": {
     "outputs_hidden": false,
     "source_hidden": false
    },
    "nteract": {
     "transient": {
      "deleting": false
     }
    }
   },
   "outputs": [
    {
     "data": {
      "text/plain": [
       "Released           45014\n",
       "Post Production    98   \n",
       "In Production      20   \n",
       "Name: status, dtype: int64"
      ]
     },
     "execution_count": 24,
     "metadata": {},
     "output_type": "execute_result"
    }
   ],
   "source": [
    "df_movies_metadata_bronze['status'].value_counts()"
   ]
  },
  {
   "cell_type": "code",
   "execution_count": 25,
   "metadata": {
    "collapsed": true,
    "gather": {
     "logged": 1619300250842
    },
    "jupyter": {
     "outputs_hidden": false,
     "source_hidden": false
    },
    "nteract": {
     "transient": {
      "deleting": false
     }
    }
   },
   "outputs": [],
   "source": [
    "#df_movies_metadata_bronze['popularity'].value_counts()\n",
    "\n",
    "##?? Can we remove the movies which are not popular?"
   ]
  },
  {
   "cell_type": "markdown",
   "metadata": {
    "nteract": {
     "transient": {
      "deleting": false
     }
    }
   },
   "source": [
    "#### Step4.  Fix column types <a class=\"anchor\" id=\"S4\"></a>"
   ]
  },
  {
   "cell_type": "code",
   "execution_count": 26,
   "metadata": {
    "gather": {
     "logged": 1619300251014
    },
    "jupyter": {
     "outputs_hidden": false,
     "source_hidden": false
    },
    "nteract": {
     "transient": {
      "deleting": false
     }
    }
   },
   "outputs": [
    {
     "data": {
      "text/plain": [
       "budget                  object \n",
       "genres                  object \n",
       "id                      object \n",
       "original_language       object \n",
       "overview                object \n",
       "popularity              object \n",
       "production_companies    object \n",
       "production_countries    object \n",
       "release_date            object \n",
       "revenue                 float64\n",
       "runtime                 float64\n",
       "spoken_languages        object \n",
       "status                  object \n",
       "title                   object \n",
       "vote_average            float64\n",
       "vote_count              float64\n",
       "dtype: object"
      ]
     },
     "execution_count": 26,
     "metadata": {},
     "output_type": "execute_result"
    }
   ],
   "source": [
    "df_movies_metadata_bronze.dtypes"
   ]
  },
  {
   "cell_type": "code",
   "execution_count": 27,
   "metadata": {
    "gather": {
     "logged": 1619300251194
    },
    "jupyter": {
     "outputs_hidden": false,
     "source_hidden": false
    },
    "nteract": {
     "transient": {
      "deleting": false
     }
    }
   },
   "outputs": [
    {
     "name": "stdout",
     "output_type": "stream",
     "text": [
      "                                 budget  \\\n",
      "19730  /ff9qCepilowshEtG2GYWwzt2bs4.jpg   \n",
      "29503  /zV8bHuSL6WXoD6FWogP9j4x80bL.jpg   \n",
      "35587  /zaSf5OG7V8X8gqFvly88zDdRm46.jpg   \n",
      "\n",
      "                                                                                                                                                                                                                genres  \\\n",
      "19730  [{'name': 'Carousel Productions', 'id': 11176}, {'name': 'Vision View Entertainment', 'id': 11602}, {'name': 'Telescene Film Group Productions', 'id': 29812}]                                                    \n",
      "29503  [{'name': 'Aniplex', 'id': 2883}, {'name': 'GoHands', 'id': 7759}, {'name': 'BROSTA TV', 'id': 7760}, {'name': 'Mardock Scramble Production Committee', 'id': 7761}, {'name': 'Sentai Filmworks', 'id': 33751}]   \n",
      "35587  [{'name': 'Odyssey Media', 'id': 17161}, {'name': 'Pulser Productions', 'id': 18012}, {'name': 'Rogue State', 'id': 18013}, {'name': 'The Cartel', 'id': 23822}]                                                  \n",
      "\n",
      "               id original_language  overview             popularity  \\\n",
      "19730  1997-08-20  104.0             Released  NaN                     \n",
      "29503  2012-09-29  68.0              Released  NaN                     \n",
      "35587  2014-01-01  82.0              Released  Beware Of Frost Bites   \n",
      "\n",
      "      production_companies production_countries release_date  revenue  \\\n",
      "19730  False                6.0                  1           NaN        \n",
      "29503  False                7.0                  12          NaN        \n",
      "35587  False                4.3                  22          NaN        \n",
      "\n",
      "       runtime spoken_languages status title  vote_average  vote_count  \n",
      "19730 NaN       NaN              NaN    NaN  NaN           NaN          \n",
      "29503 NaN       NaN              NaN    NaN  NaN           NaN          \n",
      "35587 NaN       NaN              NaN    NaN  NaN           NaN          \n"
     ]
    }
   ],
   "source": [
    "#https://pandas.pydata.org/docs/reference/api/pandas.to_numeric.html?highlight=to_numeric#pandas.to_numeric\n",
    "#If errors='coerce', then invalid parsing will be set as NaN.\n",
    "print (df_movies_metadata_bronze[pd.to_numeric(df_movies_metadata_bronze['id'], errors='coerce').isnull()])"
   ]
  },
  {
   "cell_type": "markdown",
   "metadata": {
    "nteract": {
     "transient": {
      "deleting": false
     }
    }
   },
   "source": [
    "We have just 3 rows where the id column is not numeric. So we will drop it and convert the rest to numeric."
   ]
  },
  {
   "cell_type": "code",
   "execution_count": 28,
   "metadata": {
    "collapsed": true,
    "gather": {
     "logged": 1619300251366
    },
    "jupyter": {
     "outputs_hidden": false,
     "source_hidden": false
    },
    "nteract": {
     "transient": {
      "deleting": false
     }
    }
   },
   "outputs": [],
   "source": [
    "#downcast{‘integer’, ‘signed’, ‘unsigned’, ‘float’}, default None\n",
    "#If not None, and if the data has been successfully cast to a numerical dtype (or if the data was numeric to begin with), downcast that resulting data to the smallest numerical dtype possible according to the following rules:\n",
    "#‘integer’ or ‘signed’: smallest signed int dtype (min.: np.int8)\n",
    "#‘unsigned’: smallest unsigned int dtype (min.: np.uint8)\n",
    "#‘float’: smallest float dtype (min.: np.float32)\n",
    "\n",
    "df_movies_metadata_bronze[\"id\"] =pd.to_numeric(df_movies_metadata_bronze['id'], errors='coerce',downcast=\"integer\")\n",
    "df_movies_metadata_bronze.dropna(subset=[\"id\"],inplace=True)"
   ]
  },
  {
   "cell_type": "code",
   "execution_count": 29,
   "metadata": {
    "gather": {
     "logged": 1619300251525
    },
    "jupyter": {
     "outputs_hidden": false,
     "source_hidden": false
    },
    "nteract": {
     "transient": {
      "deleting": false
     }
    }
   },
   "outputs": [
    {
     "name": "stdout",
     "output_type": "stream",
     "text": [
      "Empty DataFrame\n",
      "Columns: [budget, genres, id, original_language, overview, popularity, production_companies, production_countries, release_date, revenue, runtime, spoken_languages, status, title, vote_average, vote_count]\n",
      "Index: []\n"
     ]
    }
   ],
   "source": [
    "print (df_movies_metadata_bronze[pd.to_numeric(df_movies_metadata_bronze['id'], errors='coerce').isnull()])"
   ]
  },
  {
   "cell_type": "code",
   "execution_count": 30,
   "metadata": {
    "gather": {
     "logged": 1619300251693
    },
    "jupyter": {
     "outputs_hidden": false,
     "source_hidden": false
    },
    "nteract": {
     "transient": {
      "deleting": false
     }
    }
   },
   "outputs": [
    {
     "name": "stdout",
     "output_type": "stream",
     "text": [
      "      budget  \\\n",
      "19729  0       \n",
      "29502  0       \n",
      "35586  0       \n",
      "\n",
      "                                                                                                                                        genres  \\\n",
      "19729  [{'id': 28, 'name': 'Action'}, {'id': 53, 'name': 'Thriller'}, {'id': 18, 'name': 'Drama'}]                                               \n",
      "29502  [{'id': 16, 'name': 'Animation'}, {'id': 878, 'name': 'Science Fiction'}]                                                                 \n",
      "35586  [{'id': 10770, 'name': 'TV Movie'}, {'id': 28, 'name': 'Action'}, {'id': 27, 'name': 'Horror'}, {'id': 878, 'name': 'Science Fiction'}]   \n",
      "\n",
      "             id original_language  \\\n",
      "19729  82663.0   en                 \n",
      "29502  122662.0  ja                 \n",
      "35586  249260.0  en                 \n",
      "\n",
      "                                                                                                                                                                                                                                                                                                                                                                       overview  \\\n",
      "19729  British soldiers force a recently captured IRA terrorist to cooperate with them and then assign him to go undercover with a gang of terrorists and prevent them from killing the U.S. President. But the spy isn't in long before he realizes that the first plot is but a ruse for a more sinister scheme that could result in trouble between China and Great Britain.   \n",
      "29502  Third film of the Mardock Scramble series.                                                                                                                                                                                                                                                                                                                                 \n",
      "35586  A group of skiers are terrorized during spring break by some sharks that swim through the snow.                                                                                                                                                                                                                                                                            \n",
      "\n",
      "      popularity production_companies production_countries release_date  \\\n",
      "19729  NaN        NaN                  NaN                  NaN           \n",
      "29502  NaN        NaN                  NaN                  NaN           \n",
      "35586  NaN        NaN                  NaN                  NaN           \n",
      "\n",
      "       revenue  runtime spoken_languages status title  vote_average  \\\n",
      "19729 NaN      NaN       NaN              NaN    NaN  NaN             \n",
      "29502 NaN      NaN       NaN              NaN    NaN  NaN             \n",
      "35586 NaN      NaN       NaN              NaN    NaN  NaN             \n",
      "\n",
      "       vote_count  \n",
      "19729 NaN          \n",
      "29502 NaN          \n",
      "35586 NaN          \n"
     ]
    }
   ],
   "source": [
    "#We have just 3 rows where the popularity column is not numeric. So we will drop it and convert the rest to numeric.\n",
    "print (df_movies_metadata_bronze[pd.to_numeric(df_movies_metadata_bronze['popularity'], errors='coerce').isnull()])"
   ]
  },
  {
   "cell_type": "code",
   "execution_count": 31,
   "metadata": {
    "collapsed": true,
    "gather": {
     "logged": 1619300251854
    },
    "jupyter": {
     "outputs_hidden": false,
     "source_hidden": false
    },
    "nteract": {
     "transient": {
      "deleting": false
     }
    }
   },
   "outputs": [],
   "source": [
    "df_movies_metadata_bronze[\"popularity\"] =pd.to_numeric(df_movies_metadata_bronze['popularity'], errors='coerce',downcast=\"integer\")\n",
    "df_movies_metadata_bronze.dropna(subset=[\"popularity\"],inplace=True)"
   ]
  },
  {
   "cell_type": "code",
   "execution_count": 32,
   "metadata": {
    "gather": {
     "logged": 1619300252012
    },
    "jupyter": {
     "outputs_hidden": false,
     "source_hidden": false
    },
    "nteract": {
     "transient": {
      "deleting": false
     }
    }
   },
   "outputs": [
    {
     "name": "stdout",
     "output_type": "stream",
     "text": [
      "Empty DataFrame\n",
      "Columns: [budget, genres, id, original_language, overview, popularity, production_companies, production_countries, release_date, revenue, runtime, spoken_languages, status, title, vote_average, vote_count]\n",
      "Index: []\n"
     ]
    }
   ],
   "source": [
    "print (df_movies_metadata_bronze[pd.to_numeric(df_movies_metadata_bronze['popularity'], errors='coerce').isnull()])"
   ]
  },
  {
   "cell_type": "code",
   "execution_count": 33,
   "metadata": {
    "gather": {
     "logged": 1619300252178
    },
    "jupyter": {
     "outputs_hidden": false,
     "source_hidden": false
    },
    "nteract": {
     "transient": {
      "deleting": false
     }
    }
   },
   "outputs": [
    {
     "name": "stdout",
     "output_type": "stream",
     "text": [
      "Empty DataFrame\n",
      "Columns: [budget, genres, id, original_language, overview, popularity, production_companies, production_countries, release_date, revenue, runtime, spoken_languages, status, title, vote_average, vote_count]\n",
      "Index: []\n"
     ]
    }
   ],
   "source": [
    "#Budget column should be numeric and there is no rows that are in opposition\n",
    "print (df_movies_metadata_bronze[pd.to_numeric(df_movies_metadata_bronze['budget'], errors='coerce').isnull()])"
   ]
  },
  {
   "cell_type": "code",
   "execution_count": 34,
   "metadata": {
    "collapsed": true,
    "gather": {
     "logged": 1619300252347
    },
    "jupyter": {
     "outputs_hidden": false,
     "source_hidden": false
    },
    "nteract": {
     "transient": {
      "deleting": false
     }
    }
   },
   "outputs": [],
   "source": [
    "df_movies_metadata_bronze[\"budget\"] =pd.to_numeric(df_movies_metadata_bronze['budget'], errors='coerce',downcast=\"integer\")\n",
    "df_movies_metadata_bronze.dropna(subset=[\"budget\"],inplace=True)"
   ]
  },
  {
   "cell_type": "code",
   "execution_count": 40,
   "metadata": {
    "collapsed": true,
    "gather": {
     "logged": 1619300327392
    },
    "jupyter": {
     "outputs_hidden": false,
     "source_hidden": false
    },
    "nteract": {
     "transient": {
      "deleting": false
     }
    }
   },
   "outputs": [],
   "source": [
    "df_movies_metadata_bronze['original_language'] = pd.Series(df_movies_metadata_bronze['original_language'], dtype=\"string\")"
   ]
  },
  {
   "cell_type": "code",
   "execution_count": 42,
   "metadata": {
    "gather": {
     "logged": 1619300364871
    },
    "jupyter": {
     "outputs_hidden": false,
     "source_hidden": false
    },
    "nteract": {
     "transient": {
      "deleting": false
     }
    }
   },
   "outputs": [
    {
     "data": {
      "text/plain": [
       "budget                  int32  \n",
       "genres                  object \n",
       "id                      float64\n",
       "original_language       string \n",
       "overview                object \n",
       "popularity              float64\n",
       "production_companies    object \n",
       "production_countries    object \n",
       "release_date            object \n",
       "revenue                 float64\n",
       "runtime                 float64\n",
       "spoken_languages        object \n",
       "status                  object \n",
       "title                   object \n",
       "vote_average            float64\n",
       "vote_count              float64\n",
       "dtype: object"
      ]
     },
     "execution_count": 42,
     "metadata": {},
     "output_type": "execute_result"
    }
   ],
   "source": [
    "df_movies_metadata_bronze.dtypes"
   ]
  },
  {
   "cell_type": "markdown",
   "metadata": {
    "nteract": {
     "transient": {
      "deleting": false
     }
    }
   },
   "source": [
    "While we are tried to do our best, the latest release of Pandas has a function called convert_dtypes which Convert columns to best possible dtypes using dtypes supporting pd.NA.\n",
    "Ref: https://pandas.pydata.org/pandas-docs/stable/reference/api/pandas.DataFrame.convert_dtypes.html"
   ]
  },
  {
   "cell_type": "code",
   "execution_count": 48,
   "metadata": {
    "gather": {
     "logged": 1619300559054
    },
    "jupyter": {
     "outputs_hidden": false,
     "source_hidden": false
    },
    "nteract": {
     "transient": {
      "deleting": false
     }
    }
   },
   "outputs": [
    {
     "data": {
      "text/plain": [
       "'1.1.5'"
      ]
     },
     "execution_count": 48,
     "metadata": {},
     "output_type": "execute_result"
    }
   ],
   "source": [
    "#pip install --upgrade pandas\n",
    "pd. __version__"
   ]
  },
  {
   "cell_type": "code",
   "execution_count": 46,
   "metadata": {
    "collapsed": true,
    "gather": {
     "logged": 1619300524437
    },
    "jupyter": {
     "outputs_hidden": false,
     "source_hidden": false
    },
    "nteract": {
     "transient": {
      "deleting": false
     }
    }
   },
   "outputs": [],
   "source": [
    " df_movies_metadata_bronze = df_movies_metadata_bronze.convert_dtypes()"
   ]
  },
  {
   "cell_type": "code",
   "execution_count": 47,
   "metadata": {
    "gather": {
     "logged": 1619300527367
    },
    "jupyter": {
     "outputs_hidden": false,
     "source_hidden": false
    },
    "nteract": {
     "transient": {
      "deleting": false
     }
    }
   },
   "outputs": [
    {
     "data": {
      "text/plain": [
       "budget                  Int32  \n",
       "genres                  string \n",
       "id                      Int64  \n",
       "original_language       string \n",
       "overview                string \n",
       "popularity              float64\n",
       "production_companies    string \n",
       "production_countries    string \n",
       "release_date            string \n",
       "revenue                 Int64  \n",
       "runtime                 Int64  \n",
       "spoken_languages        string \n",
       "status                  string \n",
       "title                   string \n",
       "vote_average            float64\n",
       "vote_count              Int64  \n",
       "dtype: object"
      ]
     },
     "execution_count": 47,
     "metadata": {},
     "output_type": "execute_result"
    }
   ],
   "source": [
    "df_movies_metadata_bronze.dtypes"
   ]
  },
  {
   "cell_type": "markdown",
   "metadata": {
    "nteract": {
     "transient": {
      "deleting": false
     }
    }
   },
   "source": [
    "#### Step5.  Handle null values <a class=\"anchor\" id=\"S5\"></a>"
   ]
  },
  {
   "cell_type": "code",
   "execution_count": 49,
   "metadata": {
    "gather": {
     "logged": 1619300894405
    },
    "jupyter": {
     "outputs_hidden": false,
     "source_hidden": false
    },
    "nteract": {
     "transient": {
      "deleting": false
     }
    }
   },
   "outputs": [
    {
     "data": {
      "text/plain": [
       "budget                  0  \n",
       "genres                  0  \n",
       "id                      0  \n",
       "original_language       10 \n",
       "overview                940\n",
       "popularity              0  \n",
       "production_companies    0  \n",
       "production_countries    0  \n",
       "release_date            81 \n",
       "revenue                 0  \n",
       "runtime                 257\n",
       "spoken_languages        0  \n",
       "status                  81 \n",
       "title                   0  \n",
       "vote_average            0  \n",
       "vote_count              0  \n",
       "dtype: int64"
      ]
     },
     "execution_count": 49,
     "metadata": {},
     "output_type": "execute_result"
    }
   ],
   "source": [
    "df_movies_metadata_bronze.isnull().sum()"
   ]
  },
  {
   "cell_type": "markdown",
   "metadata": {
    "nteract": {
     "transient": {
      "deleting": false
     }
    }
   },
   "source": [
    "original_language, release_date and status (released or not) is important. So we will remove those rows from our datset.\n",
    "Obviosuly we will  quickly inspected it row by row but since they are so low in number we will eventually remove it unless something is striking."
   ]
  },
  {
   "cell_type": "code",
   "execution_count": 52,
   "metadata": {
    "gather": {
     "logged": 1619301806449
    },
    "jupyter": {
     "outputs_hidden": false,
     "source_hidden": false
    },
    "nteract": {
     "transient": {
      "deleting": false
     }
    }
   },
   "outputs": [
    {
     "data": {
      "text/html": [
       "<div>\n",
       "<style scoped>\n",
       "    .dataframe tbody tr th:only-of-type {\n",
       "        vertical-align: middle;\n",
       "    }\n",
       "\n",
       "    .dataframe tbody tr th {\n",
       "        vertical-align: top;\n",
       "    }\n",
       "\n",
       "    .dataframe thead th {\n",
       "        text-align: right;\n",
       "    }\n",
       "</style>\n",
       "<table border=\"1\" class=\"dataframe\">\n",
       "  <thead>\n",
       "    <tr style=\"text-align: right;\">\n",
       "      <th></th>\n",
       "      <th>budget</th>\n",
       "      <th>genres</th>\n",
       "      <th>id</th>\n",
       "      <th>original_language</th>\n",
       "      <th>overview</th>\n",
       "      <th>popularity</th>\n",
       "      <th>production_companies</th>\n",
       "      <th>production_countries</th>\n",
       "      <th>release_date</th>\n",
       "      <th>revenue</th>\n",
       "      <th>runtime</th>\n",
       "      <th>spoken_languages</th>\n",
       "      <th>status</th>\n",
       "      <th>title</th>\n",
       "      <th>vote_average</th>\n",
       "      <th>vote_count</th>\n",
       "    </tr>\n",
       "  </thead>\n",
       "  <tbody>\n",
       "    <tr>\n",
       "      <th>19574</th>\n",
       "      <td>0</td>\n",
       "      <td>[{'id': 99, 'name': 'Documentary'}]</td>\n",
       "      <td>283101</td>\n",
       "      <td>&lt;NA&gt;</td>\n",
       "      <td>Documentary about the production of The Third Man (1949).</td>\n",
       "      <td>0.017007</td>\n",
       "      <td>[{'name': 'StudioCanal', 'id': 694}, {'name': 'British Broadcasting Corporation (BBC)', 'id': 3324}, {'name': 'Österreichischer Rundfunk (ORF)', 'id': 3391}, {'name': 'Turner Classic Movies (TCM)', 'id': 10915}, {'name': 'NHK', 'id': 15505}, {'name': 'Media Europa', 'id': 72703}, {'name': 'Silverapples Media', 'id': 72704}]</td>\n",
       "      <td>[{'iso_3166_1': 'AT', 'name': 'Austria'}, {'iso_3166_1': 'FR', 'name': 'France'}, {'iso_3166_1': 'JP', 'name': 'Japan'}, {'iso_3166_1': 'GB', 'name': 'United Kingdom'}, {'iso_3166_1': 'US', 'name': 'United States of America'}]</td>\n",
       "      <td>2004-10-11</td>\n",
       "      <td>0</td>\n",
       "      <td>95</td>\n",
       "      <td>[{'iso_639_1': 'de', 'name': 'Deutsch'}, {'iso_639_1': 'en', 'name': 'English'}]</td>\n",
       "      <td>Released</td>\n",
       "      <td>Shadowing the Third Man</td>\n",
       "      <td>0.0</td>\n",
       "      <td>0</td>\n",
       "    </tr>\n",
       "    <tr>\n",
       "      <th>21602</th>\n",
       "      <td>0</td>\n",
       "      <td>[{'id': 10749, 'name': 'Romance'}, {'id': 18, 'name': 'Drama'}]</td>\n",
       "      <td>103902</td>\n",
       "      <td>&lt;NA&gt;</td>\n",
       "      <td>An Outback farmer takes in an Afghani woman who has fled from a brothel.</td>\n",
       "      <td>0.359818</td>\n",
       "      <td>[{'name': 'New Holland Pictures', 'id': 10229}, {'name': 'IDTV Film', 'id': 12022}]</td>\n",
       "      <td>[{'iso_3166_1': 'AU', 'name': 'Australia'}]</td>\n",
       "      <td>2007-08-04</td>\n",
       "      <td>0</td>\n",
       "      <td>94</td>\n",
       "      <td>[{'iso_639_1': 'en', 'name': 'English'}]</td>\n",
       "      <td>Released</td>\n",
       "      <td>Unfinished Sky</td>\n",
       "      <td>6.4</td>\n",
       "      <td>8</td>\n",
       "    </tr>\n",
       "    <tr>\n",
       "      <th>22832</th>\n",
       "      <td>0</td>\n",
       "      <td>[{'id': 10752, 'name': 'War'}, {'id': 37, 'name': 'Western'}]</td>\n",
       "      <td>359195</td>\n",
       "      <td>&lt;NA&gt;</td>\n",
       "      <td>A group of Union Army soldiers is charged with protecting a box of gold and getting it to its rightful place within the government coffers.</td>\n",
       "      <td>0.070647</td>\n",
       "      <td>[{'name': 'Associated Producers (API)', 'id': 4141}]</td>\n",
       "      <td>[{'iso_3166_1': 'US', 'name': 'United States of America'}]</td>\n",
       "      <td>1960-03-31</td>\n",
       "      <td>0</td>\n",
       "      <td>69</td>\n",
       "      <td>[{'iso_639_1': 'en', 'name': 'English'}]</td>\n",
       "      <td>Released</td>\n",
       "      <td>13 Fighting Men</td>\n",
       "      <td>0.0</td>\n",
       "      <td>0</td>\n",
       "    </tr>\n",
       "    <tr>\n",
       "      <th>32141</th>\n",
       "      <td>0</td>\n",
       "      <td>[{'id': 35, 'name': 'Comedy'}]</td>\n",
       "      <td>147050</td>\n",
       "      <td>&lt;NA&gt;</td>\n",
       "      <td>George and Gracie enter an elegant drawing room, looking everywhere for something. Turns out, they're looking for the audience, and when George spots the camera, they start in on their patter. Gracie wants to convince George that she's smart, not dizzy - it's an uphill struggle of which she's blissfully unaware. Midway through, they break into song: \"Do You Believe Me?\" It includes a little bit of hoofing as the chatting continues. They end on a story Gracie whispers into George's ear.</td>\n",
       "      <td>0.073418</td>\n",
       "      <td>[{'name': 'Warner Bros.', 'id': 6194}, {'name': 'The Vitaphone Corporation', 'id': 9329}]</td>\n",
       "      <td>[{'iso_3166_1': 'US', 'name': 'United States of America'}]</td>\n",
       "      <td>1929-10-31</td>\n",
       "      <td>0</td>\n",
       "      <td>8</td>\n",
       "      <td>[{'iso_639_1': 'en', 'name': 'English'}]</td>\n",
       "      <td>Released</td>\n",
       "      <td>Lambchops</td>\n",
       "      <td>6.5</td>\n",
       "      <td>2</td>\n",
       "    </tr>\n",
       "    <tr>\n",
       "      <th>37407</th>\n",
       "      <td>0</td>\n",
       "      <td>[{'id': 16, 'name': 'Animation'}]</td>\n",
       "      <td>257095</td>\n",
       "      <td>&lt;NA&gt;</td>\n",
       "      <td>The first fairy tale transformed into a full-length picture by Jiri Trnka. It is based on the charming story about prince Bajaja by Bozena Nemcova. Bajaja saves three princesses from a dragon’s claws and then marries the youngest of them.</td>\n",
       "      <td>0.036841</td>\n",
       "      <td>[{'name': 'Ceskoslovenský Státní Film', 'id': 2502}]</td>\n",
       "      <td>[{'iso_3166_1': 'CZ', 'name': 'Czech Republic'}]</td>\n",
       "      <td>1950-01-26</td>\n",
       "      <td>0</td>\n",
       "      <td>87</td>\n",
       "      <td>[{'iso_639_1': 'cs', 'name': 'Český'}]</td>\n",
       "      <td>Released</td>\n",
       "      <td>Prince Bayaya</td>\n",
       "      <td>5.0</td>\n",
       "      <td>1</td>\n",
       "    </tr>\n",
       "    <tr>\n",
       "      <th>41047</th>\n",
       "      <td>0</td>\n",
       "      <td>[{'id': 99, 'name': 'Documentary'}]</td>\n",
       "      <td>332742</td>\n",
       "      <td>&lt;NA&gt;</td>\n",
       "      <td>Until the late 1970s, the Pakistani city of Lahore was world-renowned for its music. Following the Islamization of Pakistan, many artists struggled to continue their life's work. Song of Lahore turns the spotlight on a group of stalwart musicians that kept playing and ultimately attracted listeners from around the world.</td>\n",
       "      <td>0.373688</td>\n",
       "      <td>[]</td>\n",
       "      <td>[]</td>\n",
       "      <td>2015-11-13</td>\n",
       "      <td>0</td>\n",
       "      <td>82</td>\n",
       "      <td>[{'iso_639_1': 'ur', 'name': 'اردو'}, {'iso_639_1': 'en', 'name': 'English'}, {'iso_639_1': 'pa', 'name': 'ਪੰਜਾਬੀ'}]</td>\n",
       "      <td>Released</td>\n",
       "      <td>Song of Lahore</td>\n",
       "      <td>6.5</td>\n",
       "      <td>2</td>\n",
       "    </tr>\n",
       "    <tr>\n",
       "      <th>41872</th>\n",
       "      <td>0</td>\n",
       "      <td>[{'id': 99, 'name': 'Documentary'}]</td>\n",
       "      <td>144410</td>\n",
       "      <td>&lt;NA&gt;</td>\n",
       "      <td>Two dancers perform in succession facing a stationary camera. The first is in a diaphanous skirt, held out by her hands with arms extended. She smiles, wearing butterfly wings on her back and the wings of Mercury in her hair. Her dance emphasizes the movement of her visible, bare legs. She kicks high, bows, and moves to her right and left. The second dancer has a voluminous, long skirt, and holds sticks in each hand attached to the skirt's outer edges, so that the emphasis is on the swirling patterns the skirt makes, often obscuring her unsmiling face. Her feet move little on the unadorned stage; changes in the color of the lens filter accent the swirling patterns.</td>\n",
       "      <td>1.584340</td>\n",
       "      <td>[{'name': 'Edison Manufacturing Company', 'id': 18758}]</td>\n",
       "      <td>[{'iso_3166_1': 'US', 'name': 'United States of America'}]</td>\n",
       "      <td>1895-04-01</td>\n",
       "      <td>0</td>\n",
       "      <td>1</td>\n",
       "      <td>[{'iso_639_1': 'xx', 'name': 'No Language'}]</td>\n",
       "      <td>Released</td>\n",
       "      <td>Annabelle Serpentine Dance</td>\n",
       "      <td>5.7</td>\n",
       "      <td>20</td>\n",
       "    </tr>\n",
       "    <tr>\n",
       "      <th>44057</th>\n",
       "      <td>0</td>\n",
       "      <td>[{'id': 18, 'name': 'Drama'}]</td>\n",
       "      <td>380438</td>\n",
       "      <td>&lt;NA&gt;</td>\n",
       "      <td>&lt;NA&gt;</td>\n",
       "      <td>0.001283</td>\n",
       "      <td>[]</td>\n",
       "      <td>[{'iso_3166_1': 'FR', 'name': 'France'}]</td>\n",
       "      <td>2001-01-01</td>\n",
       "      <td>0</td>\n",
       "      <td>0</td>\n",
       "      <td>[{'iso_639_1': 'fr', 'name': 'Français'}]</td>\n",
       "      <td>Released</td>\n",
       "      <td>Lettre d'une inconnue</td>\n",
       "      <td>0.0</td>\n",
       "      <td>0</td>\n",
       "    </tr>\n",
       "    <tr>\n",
       "      <th>44410</th>\n",
       "      <td>0</td>\n",
       "      <td>[{'id': 16, 'name': 'Animation'}, {'id': 99, 'name': 'Documentary'}]</td>\n",
       "      <td>381096</td>\n",
       "      <td>&lt;NA&gt;</td>\n",
       "      <td>The traditional crafts of crochet and knitting have become one of the hottest movements in modern art. We follow a few International artists and knitters as they bring yarn to the streets and into our lives in new ways. Starting in Iceland, this quirky and thought-provoking film takes us on a colourful and global journey as we discover how yarn connects us all.</td>\n",
       "      <td>0.067624</td>\n",
       "      <td>[]</td>\n",
       "      <td>[]</td>\n",
       "      <td>2016-03-12</td>\n",
       "      <td>0</td>\n",
       "      <td>76</td>\n",
       "      <td>[{'iso_639_1': 'sv', 'name': 'svenska'}, {'iso_639_1': 'en', 'name': 'English'}, {'iso_639_1': 'is', 'name': 'Íslenska'}]</td>\n",
       "      <td>Released</td>\n",
       "      <td>Yarn</td>\n",
       "      <td>0.0</td>\n",
       "      <td>0</td>\n",
       "    </tr>\n",
       "    <tr>\n",
       "      <th>44576</th>\n",
       "      <td>0</td>\n",
       "      <td>[]</td>\n",
       "      <td>381525</td>\n",
       "      <td>&lt;NA&gt;</td>\n",
       "      <td>American investment fund buys Austrian companies, but also takes over politics in Vienna. Money still makes the world go round.</td>\n",
       "      <td>0.030766</td>\n",
       "      <td>[]</td>\n",
       "      <td>[{'iso_3166_1': 'AT', 'name': 'Austria'}]</td>\n",
       "      <td>2016-01-27</td>\n",
       "      <td>0</td>\n",
       "      <td>84</td>\n",
       "      <td>[{'iso_639_1': 'de', 'name': 'Deutsch'}, {'iso_639_1': 'en', 'name': 'English'}]</td>\n",
       "      <td>Released</td>\n",
       "      <td>WiNWiN</td>\n",
       "      <td>0.0</td>\n",
       "      <td>0</td>\n",
       "    </tr>\n",
       "  </tbody>\n",
       "</table>\n",
       "</div>"
      ],
      "text/plain": [
       "       budget  \\\n",
       "19574  0        \n",
       "21602  0        \n",
       "22832  0        \n",
       "32141  0        \n",
       "37407  0        \n",
       "41047  0        \n",
       "41872  0        \n",
       "44057  0        \n",
       "44410  0        \n",
       "44576  0        \n",
       "\n",
       "                                                                     genres  \\\n",
       "19574  [{'id': 99, 'name': 'Documentary'}]                                    \n",
       "21602  [{'id': 10749, 'name': 'Romance'}, {'id': 18, 'name': 'Drama'}]        \n",
       "22832  [{'id': 10752, 'name': 'War'}, {'id': 37, 'name': 'Western'}]          \n",
       "32141  [{'id': 35, 'name': 'Comedy'}]                                         \n",
       "37407  [{'id': 16, 'name': 'Animation'}]                                      \n",
       "41047  [{'id': 99, 'name': 'Documentary'}]                                    \n",
       "41872  [{'id': 99, 'name': 'Documentary'}]                                    \n",
       "44057  [{'id': 18, 'name': 'Drama'}]                                          \n",
       "44410  [{'id': 16, 'name': 'Animation'}, {'id': 99, 'name': 'Documentary'}]   \n",
       "44576  []                                                                     \n",
       "\n",
       "           id original_language  \\\n",
       "19574  283101  <NA>               \n",
       "21602  103902  <NA>               \n",
       "22832  359195  <NA>               \n",
       "32141  147050  <NA>               \n",
       "37407  257095  <NA>               \n",
       "41047  332742  <NA>               \n",
       "41872  144410  <NA>               \n",
       "44057  380438  <NA>               \n",
       "44410  381096  <NA>               \n",
       "44576  381525  <NA>               \n",
       "\n",
       "                                                                                                                                                                                                                                                                                                                                                                                                                                                                                                                                                                                                                                                                                                overview  \\\n",
       "19574  Documentary about the production of The Third Man (1949).                                                                                                                                                                                                                                                                                                                                                                                                                                                                                                                                                                                                                                           \n",
       "21602  An Outback farmer takes in an Afghani woman who has fled from a brothel.                                                                                                                                                                                                                                                                                                                                                                                                                                                                                                                                                                                                                            \n",
       "22832  A group of Union Army soldiers is charged with protecting a box of gold and getting it to its rightful place within the government coffers.                                                                                                                                                                                                                                                                                                                                                                                                                                                                                                                                                         \n",
       "32141  George and Gracie enter an elegant drawing room, looking everywhere for something. Turns out, they're looking for the audience, and when George spots the camera, they start in on their patter. Gracie wants to convince George that she's smart, not dizzy - it's an uphill struggle of which she's blissfully unaware. Midway through, they break into song: \"Do You Believe Me?\" It includes a little bit of hoofing as the chatting continues. They end on a story Gracie whispers into George's ear.                                                                                                                                                                                          \n",
       "37407  The first fairy tale transformed into a full-length picture by Jiri Trnka. It is based on the charming story about prince Bajaja by Bozena Nemcova. Bajaja saves three princesses from a dragon’s claws and then marries the youngest of them.                                                                                                                                                                                                                                                                                                                                                                                                                                                      \n",
       "41047  Until the late 1970s, the Pakistani city of Lahore was world-renowned for its music. Following the Islamization of Pakistan, many artists struggled to continue their life's work. Song of Lahore turns the spotlight on a group of stalwart musicians that kept playing and ultimately attracted listeners from around the world.                                                                                                                                                                                                                                                                                                                                                                  \n",
       "41872  Two dancers perform in succession facing a stationary camera. The first is in a diaphanous skirt, held out by her hands with arms extended. She smiles, wearing butterfly wings on her back and the wings of Mercury in her hair. Her dance emphasizes the movement of her visible, bare legs. She kicks high, bows, and moves to her right and left. The second dancer has a voluminous, long skirt, and holds sticks in each hand attached to the skirt's outer edges, so that the emphasis is on the swirling patterns the skirt makes, often obscuring her unsmiling face. Her feet move little on the unadorned stage; changes in the color of the lens filter accent the swirling patterns.   \n",
       "44057  <NA>                                                                                                                                                                                                                                                                                                                                                                                                                                                                                                                                                                                                                                                                                                \n",
       "44410  The traditional crafts of crochet and knitting have become one of the hottest movements in modern art. We follow a few International artists and knitters as they bring yarn to the streets and into our lives in new ways. Starting in Iceland, this quirky and thought-provoking film takes us on a colourful and global journey as we discover how yarn connects us all.                                                                                                                                                                                                                                                                                                                         \n",
       "44576  American investment fund buys Austrian companies, but also takes over politics in Vienna. Money still makes the world go round.                                                                                                                                                                                                                                                                                                                                                                                                                                                                                                                                                                     \n",
       "\n",
       "       popularity  \\\n",
       "19574  0.017007     \n",
       "21602  0.359818     \n",
       "22832  0.070647     \n",
       "32141  0.073418     \n",
       "37407  0.036841     \n",
       "41047  0.373688     \n",
       "41872  1.584340     \n",
       "44057  0.001283     \n",
       "44410  0.067624     \n",
       "44576  0.030766     \n",
       "\n",
       "                                                                                                                                                                                                                                                                                                                        production_companies  \\\n",
       "19574  [{'name': 'StudioCanal', 'id': 694}, {'name': 'British Broadcasting Corporation (BBC)', 'id': 3324}, {'name': 'Österreichischer Rundfunk (ORF)', 'id': 3391}, {'name': 'Turner Classic Movies (TCM)', 'id': 10915}, {'name': 'NHK', 'id': 15505}, {'name': 'Media Europa', 'id': 72703}, {'name': 'Silverapples Media', 'id': 72704}]   \n",
       "21602  [{'name': 'New Holland Pictures', 'id': 10229}, {'name': 'IDTV Film', 'id': 12022}]                                                                                                                                                                                                                                                     \n",
       "22832  [{'name': 'Associated Producers (API)', 'id': 4141}]                                                                                                                                                                                                                                                                                    \n",
       "32141  [{'name': 'Warner Bros.', 'id': 6194}, {'name': 'The Vitaphone Corporation', 'id': 9329}]                                                                                                                                                                                                                                               \n",
       "37407  [{'name': 'Ceskoslovenský Státní Film', 'id': 2502}]                                                                                                                                                                                                                                                                                    \n",
       "41047  []                                                                                                                                                                                                                                                                                                                                      \n",
       "41872  [{'name': 'Edison Manufacturing Company', 'id': 18758}]                                                                                                                                                                                                                                                                                 \n",
       "44057  []                                                                                                                                                                                                                                                                                                                                      \n",
       "44410  []                                                                                                                                                                                                                                                                                                                                      \n",
       "44576  []                                                                                                                                                                                                                                                                                                                                      \n",
       "\n",
       "                                                                                                                                                                                                                     production_countries  \\\n",
       "19574  [{'iso_3166_1': 'AT', 'name': 'Austria'}, {'iso_3166_1': 'FR', 'name': 'France'}, {'iso_3166_1': 'JP', 'name': 'Japan'}, {'iso_3166_1': 'GB', 'name': 'United Kingdom'}, {'iso_3166_1': 'US', 'name': 'United States of America'}]   \n",
       "21602  [{'iso_3166_1': 'AU', 'name': 'Australia'}]                                                                                                                                                                                          \n",
       "22832  [{'iso_3166_1': 'US', 'name': 'United States of America'}]                                                                                                                                                                           \n",
       "32141  [{'iso_3166_1': 'US', 'name': 'United States of America'}]                                                                                                                                                                           \n",
       "37407  [{'iso_3166_1': 'CZ', 'name': 'Czech Republic'}]                                                                                                                                                                                     \n",
       "41047  []                                                                                                                                                                                                                                   \n",
       "41872  [{'iso_3166_1': 'US', 'name': 'United States of America'}]                                                                                                                                                                           \n",
       "44057  [{'iso_3166_1': 'FR', 'name': 'France'}]                                                                                                                                                                                             \n",
       "44410  []                                                                                                                                                                                                                                   \n",
       "44576  [{'iso_3166_1': 'AT', 'name': 'Austria'}]                                                                                                                                                                                            \n",
       "\n",
       "      release_date  revenue  runtime  \\\n",
       "19574  2004-10-11   0        95        \n",
       "21602  2007-08-04   0        94        \n",
       "22832  1960-03-31   0        69        \n",
       "32141  1929-10-31   0        8         \n",
       "37407  1950-01-26   0        87        \n",
       "41047  2015-11-13   0        82        \n",
       "41872  1895-04-01   0        1         \n",
       "44057  2001-01-01   0        0         \n",
       "44410  2016-03-12   0        76        \n",
       "44576  2016-01-27   0        84        \n",
       "\n",
       "                                                                                                                spoken_languages  \\\n",
       "19574  [{'iso_639_1': 'de', 'name': 'Deutsch'}, {'iso_639_1': 'en', 'name': 'English'}]                                            \n",
       "21602  [{'iso_639_1': 'en', 'name': 'English'}]                                                                                    \n",
       "22832  [{'iso_639_1': 'en', 'name': 'English'}]                                                                                    \n",
       "32141  [{'iso_639_1': 'en', 'name': 'English'}]                                                                                    \n",
       "37407  [{'iso_639_1': 'cs', 'name': 'Český'}]                                                                                      \n",
       "41047  [{'iso_639_1': 'ur', 'name': 'اردو'}, {'iso_639_1': 'en', 'name': 'English'}, {'iso_639_1': 'pa', 'name': 'ਪੰਜਾਬੀ'}]        \n",
       "41872  [{'iso_639_1': 'xx', 'name': 'No Language'}]                                                                                \n",
       "44057  [{'iso_639_1': 'fr', 'name': 'Français'}]                                                                                   \n",
       "44410  [{'iso_639_1': 'sv', 'name': 'svenska'}, {'iso_639_1': 'en', 'name': 'English'}, {'iso_639_1': 'is', 'name': 'Íslenska'}]   \n",
       "44576  [{'iso_639_1': 'de', 'name': 'Deutsch'}, {'iso_639_1': 'en', 'name': 'English'}]                                            \n",
       "\n",
       "         status                       title  vote_average  vote_count  \n",
       "19574  Released  Shadowing the Third Man     0.0           0           \n",
       "21602  Released  Unfinished Sky              6.4           8           \n",
       "22832  Released  13 Fighting Men             0.0           0           \n",
       "32141  Released  Lambchops                   6.5           2           \n",
       "37407  Released  Prince Bayaya               5.0           1           \n",
       "41047  Released  Song of Lahore              6.5           2           \n",
       "41872  Released  Annabelle Serpentine Dance  5.7           20          \n",
       "44057  Released  Lettre d'une inconnue       0.0           0           \n",
       "44410  Released  Yarn                        0.0           0           \n",
       "44576  Released  WiNWiN                      0.0           0           "
      ]
     },
     "execution_count": 52,
     "metadata": {},
     "output_type": "execute_result"
    }
   ],
   "source": [
    "df_movies_metadata_bronze[df_movies_metadata_bronze.original_language.isnull()]"
   ]
  },
  {
   "cell_type": "code",
   "execution_count": 70,
   "metadata": {
    "gather": {
     "logged": 1619302157705
    },
    "jupyter": {
     "outputs_hidden": false,
     "source_hidden": false
    },
    "nteract": {
     "transient": {
      "deleting": false
     }
    }
   },
   "outputs": [
    {
     "data": {
      "text/html": [
       "<div>\n",
       "<style scoped>\n",
       "    .dataframe tbody tr th:only-of-type {\n",
       "        vertical-align: middle;\n",
       "    }\n",
       "\n",
       "    .dataframe tbody tr th {\n",
       "        vertical-align: top;\n",
       "    }\n",
       "\n",
       "    .dataframe thead th {\n",
       "        text-align: right;\n",
       "    }\n",
       "</style>\n",
       "<table border=\"1\" class=\"dataframe\">\n",
       "  <thead>\n",
       "    <tr style=\"text-align: right;\">\n",
       "      <th></th>\n",
       "      <th>budget</th>\n",
       "      <th>genres</th>\n",
       "      <th>id</th>\n",
       "      <th>original_language</th>\n",
       "      <th>overview</th>\n",
       "      <th>popularity</th>\n",
       "      <th>production_companies</th>\n",
       "      <th>production_countries</th>\n",
       "      <th>release_date</th>\n",
       "      <th>revenue</th>\n",
       "      <th>runtime</th>\n",
       "      <th>spoken_languages</th>\n",
       "      <th>status</th>\n",
       "      <th>title</th>\n",
       "      <th>vote_average</th>\n",
       "      <th>vote_count</th>\n",
       "    </tr>\n",
       "  </thead>\n",
       "  <tbody>\n",
       "  </tbody>\n",
       "</table>\n",
       "</div>"
      ],
      "text/plain": [
       "Empty DataFrame\n",
       "Columns: [budget, genres, id, original_language, overview, popularity, production_companies, production_countries, release_date, revenue, runtime, spoken_languages, status, title, vote_average, vote_count]\n",
       "Index: []"
      ]
     },
     "execution_count": 70,
     "metadata": {},
     "output_type": "execute_result"
    }
   ],
   "source": [
    "#We will not be removing any popular movie having original_language as null\n",
    "df_movies_metadata_bronze[df_movies_metadata_bronze.original_language.isnull() & df_movies_metadata_bronze.popularity > 1]"
   ]
  },
  {
   "cell_type": "code",
   "execution_count": 69,
   "metadata": {
    "gather": {
     "logged": 1619302152427
    },
    "jupyter": {
     "outputs_hidden": false,
     "source_hidden": false
    },
    "nteract": {
     "transient": {
      "deleting": false
     }
    }
   },
   "outputs": [
    {
     "data": {
      "text/html": [
       "<div>\n",
       "<style scoped>\n",
       "    .dataframe tbody tr th:only-of-type {\n",
       "        vertical-align: middle;\n",
       "    }\n",
       "\n",
       "    .dataframe tbody tr th {\n",
       "        vertical-align: top;\n",
       "    }\n",
       "\n",
       "    .dataframe thead th {\n",
       "        text-align: right;\n",
       "    }\n",
       "</style>\n",
       "<table border=\"1\" class=\"dataframe\">\n",
       "  <thead>\n",
       "    <tr style=\"text-align: right;\">\n",
       "      <th></th>\n",
       "      <th>budget</th>\n",
       "      <th>genres</th>\n",
       "      <th>id</th>\n",
       "      <th>original_language</th>\n",
       "      <th>overview</th>\n",
       "      <th>popularity</th>\n",
       "      <th>production_companies</th>\n",
       "      <th>production_countries</th>\n",
       "      <th>release_date</th>\n",
       "      <th>revenue</th>\n",
       "      <th>runtime</th>\n",
       "      <th>spoken_languages</th>\n",
       "      <th>status</th>\n",
       "      <th>title</th>\n",
       "      <th>vote_average</th>\n",
       "      <th>vote_count</th>\n",
       "    </tr>\n",
       "  </thead>\n",
       "  <tbody>\n",
       "  </tbody>\n",
       "</table>\n",
       "</div>"
      ],
      "text/plain": [
       "Empty DataFrame\n",
       "Columns: [budget, genres, id, original_language, overview, popularity, production_companies, production_countries, release_date, revenue, runtime, spoken_languages, status, title, vote_average, vote_count]\n",
       "Index: []"
      ]
     },
     "execution_count": 69,
     "metadata": {},
     "output_type": "execute_result"
    }
   ],
   "source": [
    "#We will not be removing any popular movie having status as null\n",
    "df_movies_metadata_bronze[df_movies_metadata_bronze.status.isnull() & df_movies_metadata_bronze.popularity > 1] "
   ]
  },
  {
   "cell_type": "code",
   "execution_count": 68,
   "metadata": {
    "gather": {
     "logged": 1619302145947
    },
    "jupyter": {
     "outputs_hidden": false,
     "source_hidden": false
    },
    "nteract": {
     "transient": {
      "deleting": false
     }
    }
   },
   "outputs": [
    {
     "data": {
      "text/html": [
       "<div>\n",
       "<style scoped>\n",
       "    .dataframe tbody tr th:only-of-type {\n",
       "        vertical-align: middle;\n",
       "    }\n",
       "\n",
       "    .dataframe tbody tr th {\n",
       "        vertical-align: top;\n",
       "    }\n",
       "\n",
       "    .dataframe thead th {\n",
       "        text-align: right;\n",
       "    }\n",
       "</style>\n",
       "<table border=\"1\" class=\"dataframe\">\n",
       "  <thead>\n",
       "    <tr style=\"text-align: right;\">\n",
       "      <th></th>\n",
       "      <th>budget</th>\n",
       "      <th>genres</th>\n",
       "      <th>id</th>\n",
       "      <th>original_language</th>\n",
       "      <th>overview</th>\n",
       "      <th>popularity</th>\n",
       "      <th>production_companies</th>\n",
       "      <th>production_countries</th>\n",
       "      <th>release_date</th>\n",
       "      <th>revenue</th>\n",
       "      <th>runtime</th>\n",
       "      <th>spoken_languages</th>\n",
       "      <th>status</th>\n",
       "      <th>title</th>\n",
       "      <th>vote_average</th>\n",
       "      <th>vote_count</th>\n",
       "    </tr>\n",
       "  </thead>\n",
       "  <tbody>\n",
       "  </tbody>\n",
       "</table>\n",
       "</div>"
      ],
      "text/plain": [
       "Empty DataFrame\n",
       "Columns: [budget, genres, id, original_language, overview, popularity, production_companies, production_countries, release_date, revenue, runtime, spoken_languages, status, title, vote_average, vote_count]\n",
       "Index: []"
      ]
     },
     "execution_count": 68,
     "metadata": {},
     "output_type": "execute_result"
    }
   ],
   "source": [
    "#We will not be removing any popular movie having release_date as null\n",
    "df_movies_metadata_bronze[df_movies_metadata_bronze.release_date.isnull() & df_movies_metadata_bronze.popularity > 1]"
   ]
  },
  {
   "cell_type": "code",
   "execution_count": 130,
   "metadata": {
    "collapsed": true,
    "gather": {
     "logged": 1619366524090
    },
    "jupyter": {
     "outputs_hidden": false,
     "source_hidden": false
    },
    "nteract": {
     "transient": {
      "deleting": false
     }
    }
   },
   "outputs": [],
   "source": [
    "df_movies_metadata_bronze.dropna(subset=[\"original_language\",\"status\",\"release_date\",\"runtime\"],inplace=True)"
   ]
  },
  {
   "cell_type": "code",
   "execution_count": 120,
   "metadata": {
    "collapsed": true,
    "gather": {
     "logged": 1619365432441
    },
    "jupyter": {
     "outputs_hidden": false,
     "source_hidden": false
    },
    "nteract": {
     "transient": {
      "deleting": false
     }
    }
   },
   "outputs": [],
   "source": [
    "#Lets fill the NAs with an empty string '' for overview attribute\n",
    "df_movies_metadata_bronze[['overview']] = df_movies_metadata_bronze[['overview']].fillna(value='')"
   ]
  },
  {
   "cell_type": "code",
   "execution_count": 129,
   "metadata": {
    "gather": {
     "logged": 1619366487285
    },
    "jupyter": {
     "outputs_hidden": false,
     "source_hidden": false
    },
    "nteract": {
     "transient": {
      "deleting": false
     }
    }
   },
   "outputs": [
    {
     "data": {
      "text/html": [
       "<div>\n",
       "<style scoped>\n",
       "    .dataframe tbody tr th:only-of-type {\n",
       "        vertical-align: middle;\n",
       "    }\n",
       "\n",
       "    .dataframe tbody tr th {\n",
       "        vertical-align: top;\n",
       "    }\n",
       "\n",
       "    .dataframe thead th {\n",
       "        text-align: right;\n",
       "    }\n",
       "</style>\n",
       "<table border=\"1\" class=\"dataframe\">\n",
       "  <thead>\n",
       "    <tr style=\"text-align: right;\">\n",
       "      <th></th>\n",
       "      <th>budget</th>\n",
       "      <th>genres</th>\n",
       "      <th>id</th>\n",
       "      <th>original_language</th>\n",
       "      <th>overview</th>\n",
       "      <th>popularity</th>\n",
       "      <th>production_companies</th>\n",
       "      <th>production_countries</th>\n",
       "      <th>release_date</th>\n",
       "      <th>revenue</th>\n",
       "      <th>runtime</th>\n",
       "      <th>spoken_languages</th>\n",
       "      <th>status</th>\n",
       "      <th>title</th>\n",
       "      <th>vote_average</th>\n",
       "      <th>vote_count</th>\n",
       "      <th>overview_cleaned</th>\n",
       "    </tr>\n",
       "  </thead>\n",
       "  <tbody>\n",
       "  </tbody>\n",
       "</table>\n",
       "</div>"
      ],
      "text/plain": [
       "Empty DataFrame\n",
       "Columns: [budget, genres, id, original_language, overview, popularity, production_companies, production_countries, release_date, revenue, runtime, spoken_languages, status, title, vote_average, vote_count, overview_cleaned]\n",
       "Index: []"
      ]
     },
     "execution_count": 129,
     "metadata": {},
     "output_type": "execute_result"
    }
   ],
   "source": [
    "#We will not be removing any popular movie having runtime as null\n",
    "df_movies_metadata_bronze[df_movies_metadata_bronze.runtime.isnull() & df_movies_metadata_bronze.popularity > 1]"
   ]
  },
  {
   "cell_type": "code",
   "execution_count": 131,
   "metadata": {
    "gather": {
     "logged": 1619366527124
    },
    "jupyter": {
     "outputs_hidden": false,
     "source_hidden": false
    },
    "nteract": {
     "transient": {
      "deleting": false
     }
    },
    "scrolled": true
   },
   "outputs": [
    {
     "data": {
      "text/plain": [
       "budget                  0\n",
       "genres                  0\n",
       "id                      0\n",
       "original_language       0\n",
       "overview                0\n",
       "popularity              0\n",
       "production_companies    0\n",
       "production_countries    0\n",
       "release_date            0\n",
       "revenue                 0\n",
       "runtime                 0\n",
       "spoken_languages        0\n",
       "status                  0\n",
       "title                   0\n",
       "vote_average            0\n",
       "vote_count              0\n",
       "overview_cleaned        0\n",
       "dtype: int64"
      ]
     },
     "execution_count": 131,
     "metadata": {},
     "output_type": "execute_result"
    }
   ],
   "source": [
    "#Checking and there are no null values in the dataset\n",
    "df_movies_metadata_bronze.isnull().sum()"
   ]
  },
  {
   "cell_type": "markdown",
   "metadata": {
    "nteract": {
     "transient": {
      "deleting": false
     }
    }
   },
   "source": [
    "#### Step6.  Remove duplicates <a class=\"anchor\" id=\"S6\"></a>"
   ]
  },
  {
   "cell_type": "code",
   "execution_count": 78,
   "metadata": {
    "gather": {
     "logged": 1619304843904
    },
    "jupyter": {
     "outputs_hidden": false,
     "source_hidden": false
    },
    "nteract": {
     "transient": {
      "deleting": false
     }
    }
   },
   "outputs": [
    {
     "data": {
      "text/html": [
       "<div>\n",
       "<style scoped>\n",
       "    .dataframe tbody tr th:only-of-type {\n",
       "        vertical-align: middle;\n",
       "    }\n",
       "\n",
       "    .dataframe tbody tr th {\n",
       "        vertical-align: top;\n",
       "    }\n",
       "\n",
       "    .dataframe thead th {\n",
       "        text-align: right;\n",
       "    }\n",
       "</style>\n",
       "<table border=\"1\" class=\"dataframe\">\n",
       "  <thead>\n",
       "    <tr style=\"text-align: right;\">\n",
       "      <th></th>\n",
       "      <th>budget</th>\n",
       "      <th>genres</th>\n",
       "      <th>id</th>\n",
       "      <th>original_language</th>\n",
       "      <th>overview</th>\n",
       "      <th>popularity</th>\n",
       "      <th>production_companies</th>\n",
       "      <th>production_countries</th>\n",
       "      <th>release_date</th>\n",
       "      <th>revenue</th>\n",
       "      <th>runtime</th>\n",
       "      <th>spoken_languages</th>\n",
       "      <th>status</th>\n",
       "      <th>title</th>\n",
       "      <th>vote_average</th>\n",
       "      <th>vote_count</th>\n",
       "    </tr>\n",
       "  </thead>\n",
       "  <tbody>\n",
       "    <tr>\n",
       "      <th>1465</th>\n",
       "      <td>0</td>\n",
       "      <td>[{'id': 18, 'name': 'Drama'}, {'id': 10749, 'name': 'Romance'}]</td>\n",
       "      <td>105045</td>\n",
       "      <td>de</td>\n",
       "      <td>East-Berlin, 1961, shortly after the erection of the Wall. Konrad, Sophie and three of their friends plan a daring escape to Western Germany. The attempt is successful, except for Konrad, who remains behind. From then on, and for the next 28 years, Konrad and Sophie will attempt to meet again, in spite of the Iron Curtain. Konrad, who has become a reputed Astrophysicist, tries to take advantage of scientific congresses outside Eastern Germany to arrange encounters with Sophie. But in a country where the political police, the Stasi, monitors the moves of all suspicious people (such as Konrad's sister Barbara and her husband Harald), preserving one's privacy, ideals and self-respect becomes an exhausting fight, even as the Eastern block begins its long process of disintegration.</td>\n",
       "      <td>0.122178</td>\n",
       "      <td>[{'name': 'Studio Babelsberg', 'id': 264}, {'name': 'Centre National de la Cinématographie', 'id': 310}, {'name': 'Odessa Films', 'id': 1712}, {'name': 'Canal+', 'id': 5358}, {'name': 'Bioskop Film', 'id': 5982}, {'name': 'Westdeutscher Rundfunk (WDR)', 'id': 7025}]</td>\n",
       "      <td>[{'iso_3166_1': 'DE', 'name': 'Germany'}]</td>\n",
       "      <td>1995-02-16</td>\n",
       "      <td>0</td>\n",
       "      <td>115</td>\n",
       "      <td>[{'iso_639_1': 'de', 'name': 'Deutsch'}]</td>\n",
       "      <td>Released</td>\n",
       "      <td>The Promise</td>\n",
       "      <td>5.0</td>\n",
       "      <td>1</td>\n",
       "    </tr>\n",
       "    <tr>\n",
       "      <th>9165</th>\n",
       "      <td>0</td>\n",
       "      <td>[{'id': 80, 'name': 'Crime'}, {'id': 18, 'name': 'Drama'}, {'id': 53, 'name': 'Thriller'}]</td>\n",
       "      <td>5511</td>\n",
       "      <td>fr</td>\n",
       "      <td>Hitman Jef Costello is a perfectionist who always carefully plans his murders and who never gets caught.</td>\n",
       "      <td>9.091288</td>\n",
       "      <td>[{'name': 'Fida cinematografica', 'id': 73}, {'name': 'Compagnie Industrielle et Commerciale Cinématographique (CICC)', 'id': 11788}, {'name': 'TC Productions', 'id': 21777}, {'name': 'Filmel', 'id': 42182}]</td>\n",
       "      <td>[{'iso_3166_1': 'FR', 'name': 'France'}, {'iso_3166_1': 'IT', 'name': 'Italy'}]</td>\n",
       "      <td>1967-10-25</td>\n",
       "      <td>39481</td>\n",
       "      <td>105</td>\n",
       "      <td>[{'iso_639_1': 'fr', 'name': 'Français'}]</td>\n",
       "      <td>Released</td>\n",
       "      <td>Le Samouraï</td>\n",
       "      <td>7.9</td>\n",
       "      <td>187</td>\n",
       "    </tr>\n",
       "    <tr>\n",
       "      <th>9327</th>\n",
       "      <td>0</td>\n",
       "      <td>[{'id': 12, 'name': 'Adventure'}, {'id': 16, 'name': 'Animation'}, {'id': 18, 'name': 'Drama'}, {'id': 28, 'name': 'Action'}, {'id': 10769, 'name': 'Foreign'}]</td>\n",
       "      <td>23305</td>\n",
       "      <td>en</td>\n",
       "      <td>In feudal India, a warrior (Khan) who renounces his role as the longtime enforcer to a local lord becomes the prey in a murderous hunt through the Himalayan mountains.</td>\n",
       "      <td>1.967992</td>\n",
       "      <td>[{'name': 'Filmfour', 'id': 6705}]</td>\n",
       "      <td>[{'iso_3166_1': 'FR', 'name': 'France'}, {'iso_3166_1': 'DE', 'name': 'Germany'}, {'iso_3166_1': 'IN', 'name': 'India'}, {'iso_3166_1': 'GB', 'name': 'United Kingdom'}]</td>\n",
       "      <td>2001-09-23</td>\n",
       "      <td>0</td>\n",
       "      <td>86</td>\n",
       "      <td>[{'iso_639_1': 'hi', 'name': 'हिन्दी'}]</td>\n",
       "      <td>Released</td>\n",
       "      <td>The Warrior</td>\n",
       "      <td>6.3</td>\n",
       "      <td>15</td>\n",
       "    </tr>\n",
       "    <tr>\n",
       "      <th>13375</th>\n",
       "      <td>0</td>\n",
       "      <td>[{'id': 53, 'name': 'Thriller'}, {'id': 9648, 'name': 'Mystery'}]</td>\n",
       "      <td>141971</td>\n",
       "      <td>fi</td>\n",
       "      <td>Recovering from a nail gun shot to the head and 13 months of coma, doctor Pekka Valinta starts to unravel the mystery of his past, still suffering from total amnesia.</td>\n",
       "      <td>0.411949</td>\n",
       "      <td>[{'name': 'Filmiteollisuus Fine', 'id': 5166}]</td>\n",
       "      <td>[{'iso_3166_1': 'FI', 'name': 'Finland'}]</td>\n",
       "      <td>2008-12-26</td>\n",
       "      <td>0</td>\n",
       "      <td>108</td>\n",
       "      <td>[{'iso_639_1': 'fi', 'name': 'suomi'}]</td>\n",
       "      <td>Released</td>\n",
       "      <td>Blackout</td>\n",
       "      <td>6.7</td>\n",
       "      <td>3</td>\n",
       "    </tr>\n",
       "    <tr>\n",
       "      <th>16764</th>\n",
       "      <td>0</td>\n",
       "      <td>[{'id': 53, 'name': 'Thriller'}, {'id': 9648, 'name': 'Mystery'}]</td>\n",
       "      <td>141971</td>\n",
       "      <td>fi</td>\n",
       "      <td>Recovering from a nail gun shot to the head and 13 months of coma, doctor Pekka Valinta starts to unravel the mystery of his past, still suffering from total amnesia.</td>\n",
       "      <td>0.411949</td>\n",
       "      <td>[{'name': 'Filmiteollisuus Fine', 'id': 5166}]</td>\n",
       "      <td>[{'iso_3166_1': 'FI', 'name': 'Finland'}]</td>\n",
       "      <td>2008-12-26</td>\n",
       "      <td>0</td>\n",
       "      <td>108</td>\n",
       "      <td>[{'iso_639_1': 'fi', 'name': 'suomi'}]</td>\n",
       "      <td>Released</td>\n",
       "      <td>Blackout</td>\n",
       "      <td>6.7</td>\n",
       "      <td>3</td>\n",
       "    </tr>\n",
       "  </tbody>\n",
       "</table>\n",
       "</div>"
      ],
      "text/plain": [
       "       budget  \\\n",
       "1465   0        \n",
       "9165   0        \n",
       "9327   0        \n",
       "13375  0        \n",
       "16764  0        \n",
       "\n",
       "                                                                                                                                                                genres  \\\n",
       "1465   [{'id': 18, 'name': 'Drama'}, {'id': 10749, 'name': 'Romance'}]                                                                                                   \n",
       "9165   [{'id': 80, 'name': 'Crime'}, {'id': 18, 'name': 'Drama'}, {'id': 53, 'name': 'Thriller'}]                                                                        \n",
       "9327   [{'id': 12, 'name': 'Adventure'}, {'id': 16, 'name': 'Animation'}, {'id': 18, 'name': 'Drama'}, {'id': 28, 'name': 'Action'}, {'id': 10769, 'name': 'Foreign'}]   \n",
       "13375  [{'id': 53, 'name': 'Thriller'}, {'id': 9648, 'name': 'Mystery'}]                                                                                                 \n",
       "16764  [{'id': 53, 'name': 'Thriller'}, {'id': 9648, 'name': 'Mystery'}]                                                                                                 \n",
       "\n",
       "           id original_language  \\\n",
       "1465   105045  de                 \n",
       "9165   5511    fr                 \n",
       "9327   23305   en                 \n",
       "13375  141971  fi                 \n",
       "16764  141971  fi                 \n",
       "\n",
       "                                                                                                                                                                                                                                                                                                                                                                                                                                                                                                                                                                                                                                                                                                                                                                                                                  overview  \\\n",
       "1465   East-Berlin, 1961, shortly after the erection of the Wall. Konrad, Sophie and three of their friends plan a daring escape to Western Germany. The attempt is successful, except for Konrad, who remains behind. From then on, and for the next 28 years, Konrad and Sophie will attempt to meet again, in spite of the Iron Curtain. Konrad, who has become a reputed Astrophysicist, tries to take advantage of scientific congresses outside Eastern Germany to arrange encounters with Sophie. But in a country where the political police, the Stasi, monitors the moves of all suspicious people (such as Konrad's sister Barbara and her husband Harald), preserving one's privacy, ideals and self-respect becomes an exhausting fight, even as the Eastern block begins its long process of disintegration.   \n",
       "9165   Hitman Jef Costello is a perfectionist who always carefully plans his murders and who never gets caught.                                                                                                                                                                                                                                                                                                                                                                                                                                                                                                                                                                                                                                                                                                              \n",
       "9327   In feudal India, a warrior (Khan) who renounces his role as the longtime enforcer to a local lord becomes the prey in a murderous hunt through the Himalayan mountains.                                                                                                                                                                                                                                                                                                                                                                                                                                                                                                                                                                                                                                               \n",
       "13375  Recovering from a nail gun shot to the head and 13 months of coma, doctor Pekka Valinta starts to unravel the mystery of his past, still suffering from total amnesia.                                                                                                                                                                                                                                                                                                                                                                                                                                                                                                                                                                                                                                                \n",
       "16764  Recovering from a nail gun shot to the head and 13 months of coma, doctor Pekka Valinta starts to unravel the mystery of his past, still suffering from total amnesia.                                                                                                                                                                                                                                                                                                                                                                                                                                                                                                                                                                                                                                                \n",
       "\n",
       "       popularity  \\\n",
       "1465   0.122178     \n",
       "9165   9.091288     \n",
       "9327   1.967992     \n",
       "13375  0.411949     \n",
       "16764  0.411949     \n",
       "\n",
       "                                                                                                                                                                                                                                                             production_companies  \\\n",
       "1465   [{'name': 'Studio Babelsberg', 'id': 264}, {'name': 'Centre National de la Cinématographie', 'id': 310}, {'name': 'Odessa Films', 'id': 1712}, {'name': 'Canal+', 'id': 5358}, {'name': 'Bioskop Film', 'id': 5982}, {'name': 'Westdeutscher Rundfunk (WDR)', 'id': 7025}]   \n",
       "9165   [{'name': 'Fida cinematografica', 'id': 73}, {'name': 'Compagnie Industrielle et Commerciale Cinématographique (CICC)', 'id': 11788}, {'name': 'TC Productions', 'id': 21777}, {'name': 'Filmel', 'id': 42182}]                                                              \n",
       "9327   [{'name': 'Filmfour', 'id': 6705}]                                                                                                                                                                                                                                           \n",
       "13375  [{'name': 'Filmiteollisuus Fine', 'id': 5166}]                                                                                                                                                                                                                               \n",
       "16764  [{'name': 'Filmiteollisuus Fine', 'id': 5166}]                                                                                                                                                                                                                               \n",
       "\n",
       "                                                                                                                                                           production_countries  \\\n",
       "1465   [{'iso_3166_1': 'DE', 'name': 'Germany'}]                                                                                                                                  \n",
       "9165   [{'iso_3166_1': 'FR', 'name': 'France'}, {'iso_3166_1': 'IT', 'name': 'Italy'}]                                                                                            \n",
       "9327   [{'iso_3166_1': 'FR', 'name': 'France'}, {'iso_3166_1': 'DE', 'name': 'Germany'}, {'iso_3166_1': 'IN', 'name': 'India'}, {'iso_3166_1': 'GB', 'name': 'United Kingdom'}]   \n",
       "13375  [{'iso_3166_1': 'FI', 'name': 'Finland'}]                                                                                                                                  \n",
       "16764  [{'iso_3166_1': 'FI', 'name': 'Finland'}]                                                                                                                                  \n",
       "\n",
       "      release_date  revenue  runtime  \\\n",
       "1465   1995-02-16   0        115       \n",
       "9165   1967-10-25   39481    105       \n",
       "9327   2001-09-23   0        86        \n",
       "13375  2008-12-26   0        108       \n",
       "16764  2008-12-26   0        108       \n",
       "\n",
       "                                spoken_languages    status        title  \\\n",
       "1465   [{'iso_639_1': 'de', 'name': 'Deutsch'}]   Released  The Promise   \n",
       "9165   [{'iso_639_1': 'fr', 'name': 'Français'}]  Released  Le Samouraï   \n",
       "9327   [{'iso_639_1': 'hi', 'name': 'हिन्दी'}]    Released  The Warrior   \n",
       "13375  [{'iso_639_1': 'fi', 'name': 'suomi'}]     Released  Blackout      \n",
       "16764  [{'iso_639_1': 'fi', 'name': 'suomi'}]     Released  Blackout      \n",
       "\n",
       "       vote_average  vote_count  \n",
       "1465   5.0           1           \n",
       "9165   7.9           187         \n",
       "9327   6.3           15          \n",
       "13375  6.7           3           \n",
       "16764  6.7           3           "
      ]
     },
     "execution_count": 78,
     "metadata": {},
     "output_type": "execute_result"
    }
   ],
   "source": [
    "#Duplicate rows\n",
    "df_movies_metadata_bronze[df_movies_metadata_bronze.duplicated()].head()"
   ]
  },
  {
   "cell_type": "code",
   "execution_count": 77,
   "metadata": {
    "gather": {
     "logged": 1619304823905
    },
    "jupyter": {
     "outputs_hidden": false,
     "source_hidden": false
    },
    "nteract": {
     "transient": {
      "deleting": false
     }
    }
   },
   "outputs": [
    {
     "data": {
      "text/html": [
       "<div>\n",
       "<style scoped>\n",
       "    .dataframe tbody tr th:only-of-type {\n",
       "        vertical-align: middle;\n",
       "    }\n",
       "\n",
       "    .dataframe tbody tr th {\n",
       "        vertical-align: top;\n",
       "    }\n",
       "\n",
       "    .dataframe thead th {\n",
       "        text-align: right;\n",
       "    }\n",
       "</style>\n",
       "<table border=\"1\" class=\"dataframe\">\n",
       "  <thead>\n",
       "    <tr style=\"text-align: right;\">\n",
       "      <th></th>\n",
       "      <th>budget</th>\n",
       "      <th>genres</th>\n",
       "      <th>id</th>\n",
       "      <th>original_language</th>\n",
       "      <th>overview</th>\n",
       "      <th>popularity</th>\n",
       "      <th>production_companies</th>\n",
       "      <th>production_countries</th>\n",
       "      <th>release_date</th>\n",
       "      <th>revenue</th>\n",
       "      <th>runtime</th>\n",
       "      <th>spoken_languages</th>\n",
       "      <th>status</th>\n",
       "      <th>title</th>\n",
       "      <th>vote_average</th>\n",
       "      <th>vote_count</th>\n",
       "    </tr>\n",
       "  </thead>\n",
       "  <tbody>\n",
       "    <tr>\n",
       "      <th>676</th>\n",
       "      <td>0</td>\n",
       "      <td>[{'id': 18, 'name': 'Drama'}, {'id': 10749, 'name': 'Romance'}]</td>\n",
       "      <td>105045</td>\n",
       "      <td>de</td>\n",
       "      <td>East-Berlin, 1961, shortly after the erection of the Wall. Konrad, Sophie and three of their friends plan a daring escape to Western Germany. The attempt is successful, except for Konrad, who remains behind. From then on, and for the next 28 years, Konrad and Sophie will attempt to meet again, in spite of the Iron Curtain. Konrad, who has become a reputed Astrophysicist, tries to take advantage of scientific congresses outside Eastern Germany to arrange encounters with Sophie. But in a country where the political police, the Stasi, monitors the moves of all suspicious people (such as Konrad's sister Barbara and her husband Harald), preserving one's privacy, ideals and self-respect becomes an exhausting fight, even as the Eastern block begins its long process of disintegration.</td>\n",
       "      <td>0.122178</td>\n",
       "      <td>[{'name': 'Studio Babelsberg', 'id': 264}, {'name': 'Centre National de la Cinématographie', 'id': 310}, {'name': 'Odessa Films', 'id': 1712}, {'name': 'Canal+', 'id': 5358}, {'name': 'Bioskop Film', 'id': 5982}, {'name': 'Westdeutscher Rundfunk (WDR)', 'id': 7025}]</td>\n",
       "      <td>[{'iso_3166_1': 'DE', 'name': 'Germany'}]</td>\n",
       "      <td>1995-02-16</td>\n",
       "      <td>0</td>\n",
       "      <td>115</td>\n",
       "      <td>[{'iso_639_1': 'de', 'name': 'Deutsch'}]</td>\n",
       "      <td>Released</td>\n",
       "      <td>The Promise</td>\n",
       "      <td>5.0</td>\n",
       "      <td>1</td>\n",
       "    </tr>\n",
       "    <tr>\n",
       "      <th>1465</th>\n",
       "      <td>0</td>\n",
       "      <td>[{'id': 18, 'name': 'Drama'}, {'id': 10749, 'name': 'Romance'}]</td>\n",
       "      <td>105045</td>\n",
       "      <td>de</td>\n",
       "      <td>East-Berlin, 1961, shortly after the erection of the Wall. Konrad, Sophie and three of their friends plan a daring escape to Western Germany. The attempt is successful, except for Konrad, who remains behind. From then on, and for the next 28 years, Konrad and Sophie will attempt to meet again, in spite of the Iron Curtain. Konrad, who has become a reputed Astrophysicist, tries to take advantage of scientific congresses outside Eastern Germany to arrange encounters with Sophie. But in a country where the political police, the Stasi, monitors the moves of all suspicious people (such as Konrad's sister Barbara and her husband Harald), preserving one's privacy, ideals and self-respect becomes an exhausting fight, even as the Eastern block begins its long process of disintegration.</td>\n",
       "      <td>0.122178</td>\n",
       "      <td>[{'name': 'Studio Babelsberg', 'id': 264}, {'name': 'Centre National de la Cinématographie', 'id': 310}, {'name': 'Odessa Films', 'id': 1712}, {'name': 'Canal+', 'id': 5358}, {'name': 'Bioskop Film', 'id': 5982}, {'name': 'Westdeutscher Rundfunk (WDR)', 'id': 7025}]</td>\n",
       "      <td>[{'iso_3166_1': 'DE', 'name': 'Germany'}]</td>\n",
       "      <td>1995-02-16</td>\n",
       "      <td>0</td>\n",
       "      <td>115</td>\n",
       "      <td>[{'iso_639_1': 'de', 'name': 'Deutsch'}]</td>\n",
       "      <td>Released</td>\n",
       "      <td>The Promise</td>\n",
       "      <td>5.0</td>\n",
       "      <td>1</td>\n",
       "    </tr>\n",
       "  </tbody>\n",
       "</table>\n",
       "</div>"
      ],
      "text/plain": [
       "      budget                                                           genres  \\\n",
       "676   0       [{'id': 18, 'name': 'Drama'}, {'id': 10749, 'name': 'Romance'}]   \n",
       "1465  0       [{'id': 18, 'name': 'Drama'}, {'id': 10749, 'name': 'Romance'}]   \n",
       "\n",
       "          id original_language  \\\n",
       "676   105045  de                 \n",
       "1465  105045  de                 \n",
       "\n",
       "                                                                                                                                                                                                                                                                                                                                                                                                                                                                                                                                                                                                                                                                                                                                                                                                                 overview  \\\n",
       "676   East-Berlin, 1961, shortly after the erection of the Wall. Konrad, Sophie and three of their friends plan a daring escape to Western Germany. The attempt is successful, except for Konrad, who remains behind. From then on, and for the next 28 years, Konrad and Sophie will attempt to meet again, in spite of the Iron Curtain. Konrad, who has become a reputed Astrophysicist, tries to take advantage of scientific congresses outside Eastern Germany to arrange encounters with Sophie. But in a country where the political police, the Stasi, monitors the moves of all suspicious people (such as Konrad's sister Barbara and her husband Harald), preserving one's privacy, ideals and self-respect becomes an exhausting fight, even as the Eastern block begins its long process of disintegration.   \n",
       "1465  East-Berlin, 1961, shortly after the erection of the Wall. Konrad, Sophie and three of their friends plan a daring escape to Western Germany. The attempt is successful, except for Konrad, who remains behind. From then on, and for the next 28 years, Konrad and Sophie will attempt to meet again, in spite of the Iron Curtain. Konrad, who has become a reputed Astrophysicist, tries to take advantage of scientific congresses outside Eastern Germany to arrange encounters with Sophie. But in a country where the political police, the Stasi, monitors the moves of all suspicious people (such as Konrad's sister Barbara and her husband Harald), preserving one's privacy, ideals and self-respect becomes an exhausting fight, even as the Eastern block begins its long process of disintegration.   \n",
       "\n",
       "      popularity  \\\n",
       "676   0.122178     \n",
       "1465  0.122178     \n",
       "\n",
       "                                                                                                                                                                                                                                                            production_companies  \\\n",
       "676   [{'name': 'Studio Babelsberg', 'id': 264}, {'name': 'Centre National de la Cinématographie', 'id': 310}, {'name': 'Odessa Films', 'id': 1712}, {'name': 'Canal+', 'id': 5358}, {'name': 'Bioskop Film', 'id': 5982}, {'name': 'Westdeutscher Rundfunk (WDR)', 'id': 7025}]   \n",
       "1465  [{'name': 'Studio Babelsberg', 'id': 264}, {'name': 'Centre National de la Cinématographie', 'id': 310}, {'name': 'Odessa Films', 'id': 1712}, {'name': 'Canal+', 'id': 5358}, {'name': 'Bioskop Film', 'id': 5982}, {'name': 'Westdeutscher Rundfunk (WDR)', 'id': 7025}]   \n",
       "\n",
       "                           production_countries release_date  revenue  \\\n",
       "676   [{'iso_3166_1': 'DE', 'name': 'Germany'}]  1995-02-16   0         \n",
       "1465  [{'iso_3166_1': 'DE', 'name': 'Germany'}]  1995-02-16   0         \n",
       "\n",
       "      runtime                          spoken_languages    status  \\\n",
       "676   115      [{'iso_639_1': 'de', 'name': 'Deutsch'}]  Released   \n",
       "1465  115      [{'iso_639_1': 'de', 'name': 'Deutsch'}]  Released   \n",
       "\n",
       "            title  vote_average  vote_count  \n",
       "676   The Promise  5.0           1           \n",
       "1465  The Promise  5.0           1           "
      ]
     },
     "execution_count": 77,
     "metadata": {},
     "output_type": "execute_result"
    }
   ],
   "source": [
    "df_movies_metadata_bronze[df_movies_metadata_bronze.id==105045]"
   ]
  },
  {
   "cell_type": "markdown",
   "metadata": {
    "nteract": {
     "transient": {
      "deleting": false
     }
    }
   },
   "source": [
    "As a matter of fact we found a few duplicate rows."
   ]
  },
  {
   "cell_type": "code",
   "execution_count": 80,
   "metadata": {
    "gather": {
     "logged": 1619304903894
    },
    "jupyter": {
     "outputs_hidden": false,
     "source_hidden": false
    },
    "nteract": {
     "transient": {
      "deleting": false
     }
    }
   },
   "outputs": [
    {
     "data": {
      "text/plain": [
       "(45042, 16)"
      ]
     },
     "execution_count": 80,
     "metadata": {},
     "output_type": "execute_result"
    }
   ],
   "source": [
    "df_movies_metadata_bronze.shape"
   ]
  },
  {
   "cell_type": "code",
   "execution_count": 81,
   "metadata": {
    "collapsed": true,
    "gather": {
     "logged": 1619304979356
    },
    "jupyter": {
     "outputs_hidden": false,
     "source_hidden": false
    },
    "nteract": {
     "transient": {
      "deleting": false
     }
    }
   },
   "outputs": [],
   "source": [
    "df_movies_metadata_bronze.drop_duplicates(inplace=True)"
   ]
  },
  {
   "cell_type": "code",
   "execution_count": 82,
   "metadata": {
    "gather": {
     "logged": 1619304984052
    },
    "jupyter": {
     "outputs_hidden": false,
     "source_hidden": false
    },
    "nteract": {
     "transient": {
      "deleting": false
     }
    }
   },
   "outputs": [
    {
     "data": {
      "text/plain": [
       "(45026, 16)"
      ]
     },
     "execution_count": 82,
     "metadata": {},
     "output_type": "execute_result"
    }
   ],
   "source": [
    "df_movies_metadata_bronze.shape"
   ]
  },
  {
   "cell_type": "code",
   "execution_count": 87,
   "metadata": {
    "gather": {
     "logged": 1619305146277
    },
    "jupyter": {
     "outputs_hidden": false,
     "source_hidden": false
    },
    "nteract": {
     "transient": {
      "deleting": false
     }
    }
   },
   "outputs": [
    {
     "data": {
      "text/html": [
       "<div>\n",
       "<style scoped>\n",
       "    .dataframe tbody tr th:only-of-type {\n",
       "        vertical-align: middle;\n",
       "    }\n",
       "\n",
       "    .dataframe tbody tr th {\n",
       "        vertical-align: top;\n",
       "    }\n",
       "\n",
       "    .dataframe thead th {\n",
       "        text-align: right;\n",
       "    }\n",
       "</style>\n",
       "<table border=\"1\" class=\"dataframe\">\n",
       "  <thead>\n",
       "    <tr style=\"text-align: right;\">\n",
       "      <th></th>\n",
       "      <th>budget</th>\n",
       "      <th>genres</th>\n",
       "      <th>id</th>\n",
       "      <th>original_language</th>\n",
       "      <th>overview</th>\n",
       "      <th>popularity</th>\n",
       "      <th>production_companies</th>\n",
       "      <th>production_countries</th>\n",
       "      <th>release_date</th>\n",
       "      <th>revenue</th>\n",
       "      <th>runtime</th>\n",
       "      <th>spoken_languages</th>\n",
       "      <th>status</th>\n",
       "      <th>title</th>\n",
       "      <th>vote_average</th>\n",
       "      <th>vote_count</th>\n",
       "    </tr>\n",
       "  </thead>\n",
       "  <tbody>\n",
       "    <tr>\n",
       "      <th>12066</th>\n",
       "      <td>1600000</td>\n",
       "      <td>[{'id': 18, 'name': 'Drama'}, {'id': 80, 'name': 'Crime'}, {'id': 9648, 'name': 'Mystery'}]</td>\n",
       "      <td>14788</td>\n",
       "      <td>en</td>\n",
       "      <td>Set against the backdrop of a decaying Midwestern town, a murder becomes the focal point of three people who work in a doll factory.</td>\n",
       "      <td>3.008299</td>\n",
       "      <td>[{'name': 'Magnolia Pictures', 'id': 1030}, {'name': 'Extension 765', 'id': 8850}]</td>\n",
       "      <td>[{'iso_3166_1': 'US', 'name': 'United States of America'}]</td>\n",
       "      <td>2005-09-03</td>\n",
       "      <td>0</td>\n",
       "      <td>73</td>\n",
       "      <td>[{'iso_639_1': 'en', 'name': 'English'}]</td>\n",
       "      <td>Released</td>\n",
       "      <td>Bubble</td>\n",
       "      <td>6.4</td>\n",
       "      <td>36</td>\n",
       "    </tr>\n",
       "    <tr>\n",
       "      <th>15074</th>\n",
       "      <td>4</td>\n",
       "      <td>[{'id': 18, 'name': 'Drama'}, {'id': 10749, 'name': 'Romance'}, {'id': 10752, 'name': 'War'}]</td>\n",
       "      <td>22649</td>\n",
       "      <td>en</td>\n",
       "      <td>British nurse Catherine Barkley (Helen Hayes) and American Lieutenant Frederic Henry (Gary Cooper) fall in love during the First World War in Italy. Eventually separated by Frederic's transfer, tremendous challenges and difficult decisions face each, as the war rages on. Academy Awards winner for Best Cinematography and for Best Sound, Recording. Nominated for Best Picture and for Best Art Direction.</td>\n",
       "      <td>2.411191</td>\n",
       "      <td>[{'name': 'Paramount Pictures', 'id': 4}]</td>\n",
       "      <td>[{'iso_3166_1': 'US', 'name': 'United States of America'}]</td>\n",
       "      <td>1932-12-08</td>\n",
       "      <td>25</td>\n",
       "      <td>89</td>\n",
       "      <td>[{'iso_639_1': 'en', 'name': 'English'}]</td>\n",
       "      <td>Released</td>\n",
       "      <td>A Farewell to Arms</td>\n",
       "      <td>6.2</td>\n",
       "      <td>29</td>\n",
       "    </tr>\n",
       "    <tr>\n",
       "      <th>15765</th>\n",
       "      <td>2500</td>\n",
       "      <td>[{'id': 18, 'name': 'Drama'}, {'id': 35, 'name': 'Comedy'}, {'id': 10769, 'name': 'Foreign'}]</td>\n",
       "      <td>13209</td>\n",
       "      <td>fa</td>\n",
       "      <td>Since women are banned from soccer matches, Iranian females masquerade as males so they can slip into Tehran's stadium to see the game between Iran and Bahrain. The ones who are caught and arrested are taken to a holding area and guarded by soldiers. One sympathetic soldier agrees to watch the game through a peephole and recount the action to the impatient fans.</td>\n",
       "      <td>1.529879</td>\n",
       "      <td>[{'name': 'Jafar Panahi Film Productions', 'id': 2835}]</td>\n",
       "      <td>[{'iso_3166_1': 'IR', 'name': 'Iran'}]</td>\n",
       "      <td>2006-05-26</td>\n",
       "      <td>0</td>\n",
       "      <td>93</td>\n",
       "      <td>[{'iso_639_1': 'fa', 'name': 'فارسی'}]</td>\n",
       "      <td>Released</td>\n",
       "      <td>Offside</td>\n",
       "      <td>6.7</td>\n",
       "      <td>27</td>\n",
       "    </tr>\n",
       "    <tr>\n",
       "      <th>20843</th>\n",
       "      <td>40000000</td>\n",
       "      <td>[{'id': 12, 'name': 'Adventure'}, {'id': 18, 'name': 'Drama'}]</td>\n",
       "      <td>77221</td>\n",
       "      <td>en</td>\n",
       "      <td>On the Arabian Peninsula in the 1930s, two warring leaders come face to face. The victorious Nesib, Emir of Hobeika, lays down his peace terms to rival Amar, Sultan of Salmaah. The two men agree that neither can lay claim to the area of no man’s land between them called The Yellow Belt. In return, Nesib adopts Amar’s two boys Saleeh and Auda as a guarantee against invasion. Twelve years later, Saleeh and Auda have grown into young men. Saleeh, the warrior, itches to escape his gilded cage and return to his father’s land. Auda cares only for books and the pursuit of knowledge. One day, their adopted father Nesib is visited by an American from Texas. He tells the Emir that his land is blessed with oil and promises him riches beyond his wildest imagination. Nesib imagines a realm of infinite possibility, a kingdom with roads, schools and hospitals all paid for by the black gold beneath the barren sand. There is only one problem. The precious oil is located in the Yellow Belt.</td>\n",
       "      <td>6.475665</td>\n",
       "      <td>[{'name': 'France 2 Cinéma', 'id': 83}, {'name': 'Quinta Communications', 'id': 6370}, {'name': 'Carthago Films S.a.r.l.', 'id': 20395}, {'name': 'Prima TV', 'id': 60229}, {'name': 'Doha Film Institute, The', 'id': 72917}]</td>\n",
       "      <td>[{'iso_3166_1': 'FR', 'name': 'France'}, {'iso_3166_1': 'IT', 'name': 'Italy'}, {'iso_3166_1': 'QA', 'name': 'Qatar'}, {'iso_3166_1': 'TN', 'name': 'Tunisia'}]</td>\n",
       "      <td>2011-12-21</td>\n",
       "      <td>5446000</td>\n",
       "      <td>130</td>\n",
       "      <td>[{'iso_639_1': 'en', 'name': 'English'}]</td>\n",
       "      <td>Released</td>\n",
       "      <td>Black Gold</td>\n",
       "      <td>5.9</td>\n",
       "      <td>77</td>\n",
       "    </tr>\n",
       "    <tr>\n",
       "      <th>20899</th>\n",
       "      <td>0</td>\n",
       "      <td>[{'id': 18, 'name': 'Drama'}]</td>\n",
       "      <td>109962</td>\n",
       "      <td>en</td>\n",
       "      <td>Two literary women compete for 20 years: one writes for the critics; the other one, to get rich.</td>\n",
       "      <td>10.396878</td>\n",
       "      <td>[{'name': 'Metro-Goldwyn-Mayer (MGM)', 'id': 8411}, {'name': 'Jaquet', 'id': 16778}]</td>\n",
       "      <td>[{'iso_3166_1': 'US', 'name': 'United States of America'}]</td>\n",
       "      <td>1981-09-23</td>\n",
       "      <td>0</td>\n",
       "      <td>115</td>\n",
       "      <td>[{'iso_639_1': 'en', 'name': 'English'}]</td>\n",
       "      <td>Released</td>\n",
       "      <td>Rich and Famous</td>\n",
       "      <td>4.9</td>\n",
       "      <td>7</td>\n",
       "    </tr>\n",
       "  </tbody>\n",
       "</table>\n",
       "</div>"
      ],
      "text/plain": [
       "         budget  \\\n",
       "12066  1600000    \n",
       "15074  4          \n",
       "15765  2500       \n",
       "20843  40000000   \n",
       "20899  0          \n",
       "\n",
       "                                                                                              genres  \\\n",
       "12066  [{'id': 18, 'name': 'Drama'}, {'id': 80, 'name': 'Crime'}, {'id': 9648, 'name': 'Mystery'}]     \n",
       "15074  [{'id': 18, 'name': 'Drama'}, {'id': 10749, 'name': 'Romance'}, {'id': 10752, 'name': 'War'}]   \n",
       "15765  [{'id': 18, 'name': 'Drama'}, {'id': 35, 'name': 'Comedy'}, {'id': 10769, 'name': 'Foreign'}]   \n",
       "20843  [{'id': 12, 'name': 'Adventure'}, {'id': 18, 'name': 'Drama'}]                                  \n",
       "20899  [{'id': 18, 'name': 'Drama'}]                                                                   \n",
       "\n",
       "           id original_language  \\\n",
       "12066  14788   en                 \n",
       "15074  22649   en                 \n",
       "15765  13209   fa                 \n",
       "20843  77221   en                 \n",
       "20899  109962  en                 \n",
       "\n",
       "                                                                                                                                                                                                                                                                                                                                                                                                                                                                                                                                                                                                                                                                                                                                                                                                                                                                                                                                                                                                                          overview  \\\n",
       "12066  Set against the backdrop of a decaying Midwestern town, a murder becomes the focal point of three people who work in a doll factory.                                                                                                                                                                                                                                                                                                                                                                                                                                                                                                                                                                                                                                                                                                                                                                                                                                                                                          \n",
       "15074  British nurse Catherine Barkley (Helen Hayes) and American Lieutenant Frederic Henry (Gary Cooper) fall in love during the First World War in Italy. Eventually separated by Frederic's transfer, tremendous challenges and difficult decisions face each, as the war rages on. Academy Awards winner for Best Cinematography and for Best Sound, Recording. Nominated for Best Picture and for Best Art Direction.                                                                                                                                                                                                                                                                                                                                                                                                                                                                                                                                                                                                           \n",
       "15765  Since women are banned from soccer matches, Iranian females masquerade as males so they can slip into Tehran's stadium to see the game between Iran and Bahrain. The ones who are caught and arrested are taken to a holding area and guarded by soldiers. One sympathetic soldier agrees to watch the game through a peephole and recount the action to the impatient fans.                                                                                                                                                                                                                                                                                                                                                                                                                                                                                                                                                                                                                                                  \n",
       "20843  On the Arabian Peninsula in the 1930s, two warring leaders come face to face. The victorious Nesib, Emir of Hobeika, lays down his peace terms to rival Amar, Sultan of Salmaah. The two men agree that neither can lay claim to the area of no man’s land between them called The Yellow Belt. In return, Nesib adopts Amar’s two boys Saleeh and Auda as a guarantee against invasion. Twelve years later, Saleeh and Auda have grown into young men. Saleeh, the warrior, itches to escape his gilded cage and return to his father’s land. Auda cares only for books and the pursuit of knowledge. One day, their adopted father Nesib is visited by an American from Texas. He tells the Emir that his land is blessed with oil and promises him riches beyond his wildest imagination. Nesib imagines a realm of infinite possibility, a kingdom with roads, schools and hospitals all paid for by the black gold beneath the barren sand. There is only one problem. The precious oil is located in the Yellow Belt.   \n",
       "20899  Two literary women compete for 20 years: one writes for the critics; the other one, to get rich.                                                                                                                                                                                                                                                                                                                                                                                                                                                                                                                                                                                                                                                                                                                                                                                                                                                                                                                              \n",
       "\n",
       "       popularity  \\\n",
       "12066  3.008299     \n",
       "15074  2.411191     \n",
       "15765  1.529879     \n",
       "20843  6.475665     \n",
       "20899  10.396878    \n",
       "\n",
       "                                                                                                                                                                                                                 production_companies  \\\n",
       "12066  [{'name': 'Magnolia Pictures', 'id': 1030}, {'name': 'Extension 765', 'id': 8850}]                                                                                                                                               \n",
       "15074  [{'name': 'Paramount Pictures', 'id': 4}]                                                                                                                                                                                        \n",
       "15765  [{'name': 'Jafar Panahi Film Productions', 'id': 2835}]                                                                                                                                                                          \n",
       "20843  [{'name': 'France 2 Cinéma', 'id': 83}, {'name': 'Quinta Communications', 'id': 6370}, {'name': 'Carthago Films S.a.r.l.', 'id': 20395}, {'name': 'Prima TV', 'id': 60229}, {'name': 'Doha Film Institute, The', 'id': 72917}]   \n",
       "20899  [{'name': 'Metro-Goldwyn-Mayer (MGM)', 'id': 8411}, {'name': 'Jaquet', 'id': 16778}]                                                                                                                                             \n",
       "\n",
       "                                                                                                                                                  production_countries  \\\n",
       "12066  [{'iso_3166_1': 'US', 'name': 'United States of America'}]                                                                                                        \n",
       "15074  [{'iso_3166_1': 'US', 'name': 'United States of America'}]                                                                                                        \n",
       "15765  [{'iso_3166_1': 'IR', 'name': 'Iran'}]                                                                                                                            \n",
       "20843  [{'iso_3166_1': 'FR', 'name': 'France'}, {'iso_3166_1': 'IT', 'name': 'Italy'}, {'iso_3166_1': 'QA', 'name': 'Qatar'}, {'iso_3166_1': 'TN', 'name': 'Tunisia'}]   \n",
       "20899  [{'iso_3166_1': 'US', 'name': 'United States of America'}]                                                                                                        \n",
       "\n",
       "      release_date  revenue  runtime  \\\n",
       "12066  2005-09-03   0        73        \n",
       "15074  1932-12-08   25       89        \n",
       "15765  2006-05-26   0        93        \n",
       "20843  2011-12-21   5446000  130       \n",
       "20899  1981-09-23   0        115       \n",
       "\n",
       "                               spoken_languages    status               title  \\\n",
       "12066  [{'iso_639_1': 'en', 'name': 'English'}]  Released  Bubble               \n",
       "15074  [{'iso_639_1': 'en', 'name': 'English'}]  Released  A Farewell to Arms   \n",
       "15765  [{'iso_639_1': 'fa', 'name': 'فارسی'}]    Released  Offside              \n",
       "20843  [{'iso_639_1': 'en', 'name': 'English'}]  Released  Black Gold           \n",
       "20899  [{'iso_639_1': 'en', 'name': 'English'}]  Released  Rich and Famous      \n",
       "\n",
       "       vote_average  vote_count  \n",
       "12066  6.4           36          \n",
       "15074  6.2           29          \n",
       "15765  6.7           27          \n",
       "20843  5.9           77          \n",
       "20899  4.9           7           "
      ]
     },
     "execution_count": 87,
     "metadata": {},
     "output_type": "execute_result"
    }
   ],
   "source": [
    "#To become certain I would like to check the duplicate again but on id field since it acts as a primary key\n",
    "df_movies_metadata_bronze[df_movies_metadata_bronze.duplicated(subset=['id'])].head()"
   ]
  },
  {
   "cell_type": "code",
   "execution_count": 88,
   "metadata": {
    "gather": {
     "logged": 1619305152900
    },
    "jupyter": {
     "outputs_hidden": false,
     "source_hidden": false
    },
    "nteract": {
     "transient": {
      "deleting": false
     }
    }
   },
   "outputs": [
    {
     "data": {
      "text/plain": [
       "budget                  13\n",
       "genres                  13\n",
       "id                      13\n",
       "original_language       13\n",
       "overview                13\n",
       "popularity              13\n",
       "production_companies    13\n",
       "production_countries    13\n",
       "release_date            13\n",
       "revenue                 13\n",
       "runtime                 13\n",
       "spoken_languages        13\n",
       "status                  13\n",
       "title                   13\n",
       "vote_average            13\n",
       "vote_count              13\n",
       "dtype: int64"
      ]
     },
     "execution_count": 88,
     "metadata": {},
     "output_type": "execute_result"
    }
   ],
   "source": [
    "df_movies_metadata_bronze[df_movies_metadata_bronze.duplicated(subset=['id'])].count()"
   ]
  },
  {
   "cell_type": "code",
   "execution_count": 89,
   "metadata": {
    "gather": {
     "logged": 1619305177686
    },
    "jupyter": {
     "outputs_hidden": false,
     "source_hidden": false
    },
    "nteract": {
     "transient": {
      "deleting": false
     }
    }
   },
   "outputs": [
    {
     "data": {
      "text/html": [
       "<div>\n",
       "<style scoped>\n",
       "    .dataframe tbody tr th:only-of-type {\n",
       "        vertical-align: middle;\n",
       "    }\n",
       "\n",
       "    .dataframe tbody tr th {\n",
       "        vertical-align: top;\n",
       "    }\n",
       "\n",
       "    .dataframe thead th {\n",
       "        text-align: right;\n",
       "    }\n",
       "</style>\n",
       "<table border=\"1\" class=\"dataframe\">\n",
       "  <thead>\n",
       "    <tr style=\"text-align: right;\">\n",
       "      <th></th>\n",
       "      <th>budget</th>\n",
       "      <th>genres</th>\n",
       "      <th>id</th>\n",
       "      <th>original_language</th>\n",
       "      <th>overview</th>\n",
       "      <th>popularity</th>\n",
       "      <th>production_companies</th>\n",
       "      <th>production_countries</th>\n",
       "      <th>release_date</th>\n",
       "      <th>revenue</th>\n",
       "      <th>runtime</th>\n",
       "      <th>spoken_languages</th>\n",
       "      <th>status</th>\n",
       "      <th>title</th>\n",
       "      <th>vote_average</th>\n",
       "      <th>vote_count</th>\n",
       "    </tr>\n",
       "  </thead>\n",
       "  <tbody>\n",
       "    <tr>\n",
       "      <th>10419</th>\n",
       "      <td>1600000</td>\n",
       "      <td>[{'id': 18, 'name': 'Drama'}, {'id': 80, 'name': 'Crime'}, {'id': 9648, 'name': 'Mystery'}]</td>\n",
       "      <td>14788</td>\n",
       "      <td>en</td>\n",
       "      <td>Set against the backdrop of a decaying Midwestern town, a murder becomes the focal point of three people who work in a doll factory.</td>\n",
       "      <td>3.185256</td>\n",
       "      <td>[{'name': 'Magnolia Pictures', 'id': 1030}, {'name': 'Extension 765', 'id': 8850}]</td>\n",
       "      <td>[{'iso_3166_1': 'US', 'name': 'United States of America'}]</td>\n",
       "      <td>2005-09-03</td>\n",
       "      <td>0</td>\n",
       "      <td>73</td>\n",
       "      <td>[{'iso_639_1': 'en', 'name': 'English'}]</td>\n",
       "      <td>Released</td>\n",
       "      <td>Bubble</td>\n",
       "      <td>6.4</td>\n",
       "      <td>36</td>\n",
       "    </tr>\n",
       "    <tr>\n",
       "      <th>12066</th>\n",
       "      <td>1600000</td>\n",
       "      <td>[{'id': 18, 'name': 'Drama'}, {'id': 80, 'name': 'Crime'}, {'id': 9648, 'name': 'Mystery'}]</td>\n",
       "      <td>14788</td>\n",
       "      <td>en</td>\n",
       "      <td>Set against the backdrop of a decaying Midwestern town, a murder becomes the focal point of three people who work in a doll factory.</td>\n",
       "      <td>3.008299</td>\n",
       "      <td>[{'name': 'Magnolia Pictures', 'id': 1030}, {'name': 'Extension 765', 'id': 8850}]</td>\n",
       "      <td>[{'iso_3166_1': 'US', 'name': 'United States of America'}]</td>\n",
       "      <td>2005-09-03</td>\n",
       "      <td>0</td>\n",
       "      <td>73</td>\n",
       "      <td>[{'iso_639_1': 'en', 'name': 'English'}]</td>\n",
       "      <td>Released</td>\n",
       "      <td>Bubble</td>\n",
       "      <td>6.4</td>\n",
       "      <td>36</td>\n",
       "    </tr>\n",
       "  </tbody>\n",
       "</table>\n",
       "</div>"
      ],
      "text/plain": [
       "        budget  \\\n",
       "10419  1600000   \n",
       "12066  1600000   \n",
       "\n",
       "                                                                                            genres  \\\n",
       "10419  [{'id': 18, 'name': 'Drama'}, {'id': 80, 'name': 'Crime'}, {'id': 9648, 'name': 'Mystery'}]   \n",
       "12066  [{'id': 18, 'name': 'Drama'}, {'id': 80, 'name': 'Crime'}, {'id': 9648, 'name': 'Mystery'}]   \n",
       "\n",
       "          id original_language  \\\n",
       "10419  14788  en                 \n",
       "12066  14788  en                 \n",
       "\n",
       "                                                                                                                                   overview  \\\n",
       "10419  Set against the backdrop of a decaying Midwestern town, a murder becomes the focal point of three people who work in a doll factory.   \n",
       "12066  Set against the backdrop of a decaying Midwestern town, a murder becomes the focal point of three people who work in a doll factory.   \n",
       "\n",
       "       popularity  \\\n",
       "10419  3.185256     \n",
       "12066  3.008299     \n",
       "\n",
       "                                                                     production_companies  \\\n",
       "10419  [{'name': 'Magnolia Pictures', 'id': 1030}, {'name': 'Extension 765', 'id': 8850}]   \n",
       "12066  [{'name': 'Magnolia Pictures', 'id': 1030}, {'name': 'Extension 765', 'id': 8850}]   \n",
       "\n",
       "                                             production_countries  \\\n",
       "10419  [{'iso_3166_1': 'US', 'name': 'United States of America'}]   \n",
       "12066  [{'iso_3166_1': 'US', 'name': 'United States of America'}]   \n",
       "\n",
       "      release_date  revenue  runtime  \\\n",
       "10419  2005-09-03   0        73        \n",
       "12066  2005-09-03   0        73        \n",
       "\n",
       "                               spoken_languages    status   title  \\\n",
       "10419  [{'iso_639_1': 'en', 'name': 'English'}]  Released  Bubble   \n",
       "12066  [{'iso_639_1': 'en', 'name': 'English'}]  Released  Bubble   \n",
       "\n",
       "       vote_average  vote_count  \n",
       "10419  6.4           36          \n",
       "12066  6.4           36          "
      ]
     },
     "execution_count": 89,
     "metadata": {},
     "output_type": "execute_result"
    }
   ],
   "source": [
    "df_movies_metadata_bronze[df_movies_metadata_bronze.id==14788]"
   ]
  },
  {
   "cell_type": "markdown",
   "metadata": {
    "nteract": {
     "transient": {
      "deleting": false
     }
    }
   },
   "source": [
    "Indeed we have duplicates on movie id column. We will remove them as well."
   ]
  },
  {
   "cell_type": "code",
   "execution_count": 90,
   "metadata": {
    "gather": {
     "logged": 1619305301291
    },
    "jupyter": {
     "outputs_hidden": false,
     "source_hidden": false
    },
    "nteract": {
     "transient": {
      "deleting": false
     }
    }
   },
   "outputs": [
    {
     "data": {
      "text/plain": [
       "(45026, 16)"
      ]
     },
     "execution_count": 90,
     "metadata": {},
     "output_type": "execute_result"
    }
   ],
   "source": [
    "df_movies_metadata_bronze.shape"
   ]
  },
  {
   "cell_type": "code",
   "execution_count": 91,
   "metadata": {
    "collapsed": true,
    "gather": {
     "logged": 1619305303683
    },
    "jupyter": {
     "outputs_hidden": false,
     "source_hidden": false
    },
    "nteract": {
     "transient": {
      "deleting": false
     }
    }
   },
   "outputs": [],
   "source": [
    "#Remove 13 movie id duplicates from the dataset\n",
    "df_movies_metadata_bronze.drop_duplicates(subset=['id'],inplace=True)"
   ]
  },
  {
   "cell_type": "code",
   "execution_count": 92,
   "metadata": {
    "gather": {
     "logged": 1619305311613
    },
    "jupyter": {
     "outputs_hidden": false,
     "source_hidden": false
    },
    "nteract": {
     "transient": {
      "deleting": false
     }
    }
   },
   "outputs": [
    {
     "data": {
      "text/plain": [
       "(45013, 16)"
      ]
     },
     "execution_count": 92,
     "metadata": {},
     "output_type": "execute_result"
    }
   ],
   "source": [
    "df_movies_metadata_bronze.shape"
   ]
  },
  {
   "cell_type": "markdown",
   "metadata": {
    "nteract": {
     "transient": {
      "deleting": false
     }
    }
   },
   "source": [
    "Interestingly different movies can have same title for example the remakes.. So we will have to keep them."
   ]
  },
  {
   "cell_type": "code",
   "execution_count": 93,
   "metadata": {
    "gather": {
     "logged": 1619305484261
    },
    "jupyter": {
     "outputs_hidden": false,
     "source_hidden": false
    },
    "nteract": {
     "transient": {
      "deleting": false
     }
    }
   },
   "outputs": [
    {
     "data": {
      "text/plain": [
       "budget                  3105\n",
       "genres                  3105\n",
       "id                      3105\n",
       "original_language       3105\n",
       "overview                3069\n",
       "popularity              3105\n",
       "production_companies    3105\n",
       "production_countries    3105\n",
       "release_date            3105\n",
       "revenue                 3105\n",
       "runtime                 3098\n",
       "spoken_languages        3105\n",
       "status                  3105\n",
       "title                   3105\n",
       "vote_average            3105\n",
       "vote_count              3105\n",
       "dtype: int64"
      ]
     },
     "execution_count": 93,
     "metadata": {},
     "output_type": "execute_result"
    }
   ],
   "source": [
    "df_movies_metadata_bronze[df_movies_metadata_bronze.duplicated(subset=['title'])].count()"
   ]
  },
  {
   "cell_type": "code",
   "execution_count": 105,
   "metadata": {
    "gather": {
     "logged": 1619305711540
    },
    "jupyter": {
     "outputs_hidden": false,
     "source_hidden": false
    },
    "nteract": {
     "transient": {
      "deleting": false
     }
    }
   },
   "outputs": [
    {
     "data": {
      "text/html": [
       "<div>\n",
       "<style scoped>\n",
       "    .dataframe tbody tr th:only-of-type {\n",
       "        vertical-align: middle;\n",
       "    }\n",
       "\n",
       "    .dataframe tbody tr th {\n",
       "        vertical-align: top;\n",
       "    }\n",
       "\n",
       "    .dataframe thead th {\n",
       "        text-align: right;\n",
       "    }\n",
       "</style>\n",
       "<table border=\"1\" class=\"dataframe\">\n",
       "  <thead>\n",
       "    <tr style=\"text-align: right;\">\n",
       "      <th></th>\n",
       "      <th>budget</th>\n",
       "      <th>genres</th>\n",
       "      <th>id</th>\n",
       "      <th>original_language</th>\n",
       "      <th>overview</th>\n",
       "      <th>popularity</th>\n",
       "      <th>production_companies</th>\n",
       "      <th>production_countries</th>\n",
       "      <th>release_date</th>\n",
       "      <th>revenue</th>\n",
       "      <th>runtime</th>\n",
       "      <th>spoken_languages</th>\n",
       "      <th>status</th>\n",
       "      <th>title</th>\n",
       "      <th>vote_average</th>\n",
       "      <th>vote_count</th>\n",
       "    </tr>\n",
       "  </thead>\n",
       "  <tbody>\n",
       "    <tr>\n",
       "      <th>888</th>\n",
       "      <td>2238813</td>\n",
       "      <td>[{'id': 35, 'name': 'Comedy'}, {'id': 18, 'name': 'Drama'}, {'id': 10749, 'name': 'Romance'}]</td>\n",
       "      <td>6620</td>\n",
       "      <td>en</td>\n",
       "      <td>Linus and David Larrabee are the two sons of a very wealthy family. Linus is all work -- busily running the family corporate empire, he has no time for a wife and family. David is all play -- technically he is employed by the family business, but never shows up for work, spends all his time entertaining, and has been married and divorced three times. Meanwhile, Sabrina Fairchild is the young, shy, and awkward daughter of the household chauffeur, who has been infatuated with David all her life, but David hardly notices her -- \"doesn't even know I exist\" -- until she goes away to Paris for two years, and returns an elegant, sophisticated, beautiful woman. Suddenly, she finds that she has captured David's attention, but just as she does so, she finds herself falling in love with Linus, and she finds that Linus is also falling in love with her.</td>\n",
       "      <td>7.359741</td>\n",
       "      <td>[{'name': 'Paramount Pictures', 'id': 4}]</td>\n",
       "      <td>[{'iso_3166_1': 'US', 'name': 'United States of America'}]</td>\n",
       "      <td>1954-09-28</td>\n",
       "      <td>10000000</td>\n",
       "      <td>113</td>\n",
       "      <td>[{'iso_639_1': 'en', 'name': 'English'}, {'iso_639_1': 'it', 'name': 'Italiano'}]</td>\n",
       "      <td>Released</td>\n",
       "      <td>Sabrina</td>\n",
       "      <td>7.4</td>\n",
       "      <td>284</td>\n",
       "    </tr>\n",
       "    <tr>\n",
       "      <th>930</th>\n",
       "      <td>0</td>\n",
       "      <td>[{'id': 18, 'name': 'Drama'}]</td>\n",
       "      <td>85638</td>\n",
       "      <td>en</td>\n",
       "      <td>In Puritan Boston, seamstress Hester Prynne is punished for playing on the Sabbath day; but kindly minister Arthur Dimmesdale takes pity on her. The two fall in love, but their relationship cannot be: Hester is already married to Roger Prynne, a physician who has been missing seven years. Dimmesdale has to go away to England; when he returns, he finds Hester pregnant with their child, and the focus of the town's censure. In a humiliating public ceremony, she is forced to don the scarlet letter A - for adultery - and wear it the rest of her life.</td>\n",
       "      <td>0.284522</td>\n",
       "      <td>[{'name': 'Metro-Goldwyn-Mayer (MGM)', 'id': 8411}]</td>\n",
       "      <td>[{'iso_3166_1': 'US', 'name': 'United States of America'}]</td>\n",
       "      <td>1926-08-09</td>\n",
       "      <td>0</td>\n",
       "      <td>115</td>\n",
       "      <td>[{'iso_639_1': 'en', 'name': 'English'}]</td>\n",
       "      <td>Released</td>\n",
       "      <td>The Scarlet Letter</td>\n",
       "      <td>8.3</td>\n",
       "      <td>4</td>\n",
       "    </tr>\n",
       "    <tr>\n",
       "      <th>1296</th>\n",
       "      <td>0</td>\n",
       "      <td>[{'id': 18, 'name': 'Drama'}, {'id': 53, 'name': 'Thriller'}]</td>\n",
       "      <td>11349</td>\n",
       "      <td>en</td>\n",
       "      <td>Sam Bowden witnesses a rape committed by Max Cady and testifies against him. When released after 8 years in prison, Cady begins stalking Bowden and his family but is always clever enough not to violate the law.</td>\n",
       "      <td>7.583191</td>\n",
       "      <td>[{'name': 'Melville-Talbot Productions', 'id': 11390}]</td>\n",
       "      <td>[{'iso_3166_1': 'US', 'name': 'United States of America'}]</td>\n",
       "      <td>1962-04-12</td>\n",
       "      <td>0</td>\n",
       "      <td>105</td>\n",
       "      <td>[{'iso_639_1': 'en', 'name': 'English'}]</td>\n",
       "      <td>Released</td>\n",
       "      <td>Cape Fear</td>\n",
       "      <td>7.2</td>\n",
       "      <td>125</td>\n",
       "    </tr>\n",
       "    <tr>\n",
       "      <th>1644</th>\n",
       "      <td>80000000</td>\n",
       "      <td>[{'id': 18, 'name': 'Drama'}, {'id': 12, 'name': 'Adventure'}]</td>\n",
       "      <td>9922</td>\n",
       "      <td>en</td>\n",
       "      <td>In 2013 there are no highways, no I-ways, no dreams of a better tomorrow, only scattered survivors across what was once the Unites States. Into this apocalyptic wasteland comes an enigmatic drifter with a mule, a knack for Shakespeare and something yet undiscovered: the power to inspire hope.</td>\n",
       "      <td>6.537407</td>\n",
       "      <td>[{'name': 'Tig Productions', 'id': 335}, {'name': 'Warner Bros.', 'id': 6194}]</td>\n",
       "      <td>[{'iso_3166_1': 'US', 'name': 'United States of America'}]</td>\n",
       "      <td>1997-12-25</td>\n",
       "      <td>17626234</td>\n",
       "      <td>177</td>\n",
       "      <td>[{'iso_639_1': 'en', 'name': 'English'}, {'iso_639_1': 'fr', 'name': 'Français'}]</td>\n",
       "      <td>Released</td>\n",
       "      <td>The Postman</td>\n",
       "      <td>6.1</td>\n",
       "      <td>306</td>\n",
       "    </tr>\n",
       "    <tr>\n",
       "      <th>1832</th>\n",
       "      <td>750000</td>\n",
       "      <td>[{'id': 18, 'name': 'Drama'}]</td>\n",
       "      <td>23383</td>\n",
       "      <td>en</td>\n",
       "      <td>Winner of four Academy Awards, including Best Picture and Best Actor, Sir Laurence Olivier’s Hamlet continues to be the most compelling version of Shakespeare’s beloved tragedy. Olivier is at his most inspired—both as director and as the melancholy Dane himself—as he breathes new life into the words of one of the world’s greatest dramatists.</td>\n",
       "      <td>3.188067</td>\n",
       "      <td>[{'name': 'Two Cities Films', 'id': 4006}]</td>\n",
       "      <td>[{'iso_3166_1': 'GB', 'name': 'United Kingdom'}]</td>\n",
       "      <td>1948-03-25</td>\n",
       "      <td>0</td>\n",
       "      <td>155</td>\n",
       "      <td>[{'iso_639_1': 'en', 'name': 'English'}]</td>\n",
       "      <td>Released</td>\n",
       "      <td>Hamlet</td>\n",
       "      <td>7.1</td>\n",
       "      <td>48</td>\n",
       "    </tr>\n",
       "  </tbody>\n",
       "</table>\n",
       "</div>"
      ],
      "text/plain": [
       "        budget  \\\n",
       "888   2238813    \n",
       "930   0          \n",
       "1296  0          \n",
       "1644  80000000   \n",
       "1832  750000     \n",
       "\n",
       "                                                                                             genres  \\\n",
       "888   [{'id': 35, 'name': 'Comedy'}, {'id': 18, 'name': 'Drama'}, {'id': 10749, 'name': 'Romance'}]   \n",
       "930   [{'id': 18, 'name': 'Drama'}]                                                                   \n",
       "1296  [{'id': 18, 'name': 'Drama'}, {'id': 53, 'name': 'Thriller'}]                                   \n",
       "1644  [{'id': 18, 'name': 'Drama'}, {'id': 12, 'name': 'Adventure'}]                                  \n",
       "1832  [{'id': 18, 'name': 'Drama'}]                                                                   \n",
       "\n",
       "         id original_language  \\\n",
       "888   6620   en                 \n",
       "930   85638  en                 \n",
       "1296  11349  en                 \n",
       "1644  9922   en                 \n",
       "1832  23383  en                 \n",
       "\n",
       "                                                                                                                                                                                                                                                                                                                                                                                                                                                                                                                                                                                                                                                                                                                                                                                                                                                                                  overview  \\\n",
       "888   Linus and David Larrabee are the two sons of a very wealthy family. Linus is all work -- busily running the family corporate empire, he has no time for a wife and family. David is all play -- technically he is employed by the family business, but never shows up for work, spends all his time entertaining, and has been married and divorced three times. Meanwhile, Sabrina Fairchild is the young, shy, and awkward daughter of the household chauffeur, who has been infatuated with David all her life, but David hardly notices her -- \"doesn't even know I exist\" -- until she goes away to Paris for two years, and returns an elegant, sophisticated, beautiful woman. Suddenly, she finds that she has captured David's attention, but just as she does so, she finds herself falling in love with Linus, and she finds that Linus is also falling in love with her.   \n",
       "930   In Puritan Boston, seamstress Hester Prynne is punished for playing on the Sabbath day; but kindly minister Arthur Dimmesdale takes pity on her. The two fall in love, but their relationship cannot be: Hester is already married to Roger Prynne, a physician who has been missing seven years. Dimmesdale has to go away to England; when he returns, he finds Hester pregnant with their child, and the focus of the town's censure. In a humiliating public ceremony, she is forced to don the scarlet letter A - for adultery - and wear it the rest of her life.                                                                                                                                                                                                                                                                                                                \n",
       "1296  Sam Bowden witnesses a rape committed by Max Cady and testifies against him. When released after 8 years in prison, Cady begins stalking Bowden and his family but is always clever enough not to violate the law.                                                                                                                                                                                                                                                                                                                                                                                                                                                                                                                                                                                                                                                                     \n",
       "1644  In 2013 there are no highways, no I-ways, no dreams of a better tomorrow, only scattered survivors across what was once the Unites States. Into this apocalyptic wasteland comes an enigmatic drifter with a mule, a knack for Shakespeare and something yet undiscovered: the power to inspire hope.                                                                                                                                                                                                                                                                                                                                                                                                                                                                                                                                                                                  \n",
       "1832  Winner of four Academy Awards, including Best Picture and Best Actor, Sir Laurence Olivier’s Hamlet continues to be the most compelling version of Shakespeare’s beloved tragedy. Olivier is at his most inspired—both as director and as the melancholy Dane himself—as he breathes new life into the words of one of the world’s greatest dramatists.                                                                                                                                                                                                                                                                                                                                                                                                                                                                                                                                \n",
       "\n",
       "      popularity  \\\n",
       "888   7.359741     \n",
       "930   0.284522     \n",
       "1296  7.583191     \n",
       "1644  6.537407     \n",
       "1832  3.188067     \n",
       "\n",
       "                                                                production_companies  \\\n",
       "888   [{'name': 'Paramount Pictures', 'id': 4}]                                        \n",
       "930   [{'name': 'Metro-Goldwyn-Mayer (MGM)', 'id': 8411}]                              \n",
       "1296  [{'name': 'Melville-Talbot Productions', 'id': 11390}]                           \n",
       "1644  [{'name': 'Tig Productions', 'id': 335}, {'name': 'Warner Bros.', 'id': 6194}]   \n",
       "1832  [{'name': 'Two Cities Films', 'id': 4006}]                                       \n",
       "\n",
       "                                            production_countries release_date  \\\n",
       "888   [{'iso_3166_1': 'US', 'name': 'United States of America'}]  1954-09-28    \n",
       "930   [{'iso_3166_1': 'US', 'name': 'United States of America'}]  1926-08-09    \n",
       "1296  [{'iso_3166_1': 'US', 'name': 'United States of America'}]  1962-04-12    \n",
       "1644  [{'iso_3166_1': 'US', 'name': 'United States of America'}]  1997-12-25    \n",
       "1832  [{'iso_3166_1': 'GB', 'name': 'United Kingdom'}]            1948-03-25    \n",
       "\n",
       "       revenue  runtime  \\\n",
       "888   10000000  113       \n",
       "930   0         115       \n",
       "1296  0         105       \n",
       "1644  17626234  177       \n",
       "1832  0         155       \n",
       "\n",
       "                                                                       spoken_languages  \\\n",
       "888   [{'iso_639_1': 'en', 'name': 'English'}, {'iso_639_1': 'it', 'name': 'Italiano'}]   \n",
       "930   [{'iso_639_1': 'en', 'name': 'English'}]                                            \n",
       "1296  [{'iso_639_1': 'en', 'name': 'English'}]                                            \n",
       "1644  [{'iso_639_1': 'en', 'name': 'English'}, {'iso_639_1': 'fr', 'name': 'Français'}]   \n",
       "1832  [{'iso_639_1': 'en', 'name': 'English'}]                                            \n",
       "\n",
       "        status               title  vote_average  vote_count  \n",
       "888   Released  Sabrina             7.4           284         \n",
       "930   Released  The Scarlet Letter  8.3           4           \n",
       "1296  Released  Cape Fear           7.2           125         \n",
       "1644  Released  The Postman         6.1           306         \n",
       "1832  Released  Hamlet              7.1           48          "
      ]
     },
     "execution_count": 105,
     "metadata": {},
     "output_type": "execute_result"
    }
   ],
   "source": [
    "df_movies_metadata_bronze[df_movies_metadata_bronze.duplicated(subset=['title']) & df_movies_metadata_bronze.popularity > .05].head()"
   ]
  },
  {
   "cell_type": "code",
   "execution_count": 107,
   "metadata": {
    "gather": {
     "logged": 1619305769578
    },
    "jupyter": {
     "outputs_hidden": false,
     "source_hidden": false
    },
    "nteract": {
     "transient": {
      "deleting": false
     }
    }
   },
   "outputs": [
    {
     "data": {
      "text/html": [
       "<div>\n",
       "<style scoped>\n",
       "    .dataframe tbody tr th:only-of-type {\n",
       "        vertical-align: middle;\n",
       "    }\n",
       "\n",
       "    .dataframe tbody tr th {\n",
       "        vertical-align: top;\n",
       "    }\n",
       "\n",
       "    .dataframe thead th {\n",
       "        text-align: right;\n",
       "    }\n",
       "</style>\n",
       "<table border=\"1\" class=\"dataframe\">\n",
       "  <thead>\n",
       "    <tr style=\"text-align: right;\">\n",
       "      <th></th>\n",
       "      <th>budget</th>\n",
       "      <th>genres</th>\n",
       "      <th>id</th>\n",
       "      <th>original_language</th>\n",
       "      <th>overview</th>\n",
       "      <th>popularity</th>\n",
       "      <th>production_companies</th>\n",
       "      <th>production_countries</th>\n",
       "      <th>release_date</th>\n",
       "      <th>revenue</th>\n",
       "      <th>runtime</th>\n",
       "      <th>spoken_languages</th>\n",
       "      <th>status</th>\n",
       "      <th>title</th>\n",
       "      <th>vote_average</th>\n",
       "      <th>vote_count</th>\n",
       "    </tr>\n",
       "  </thead>\n",
       "  <tbody>\n",
       "    <tr>\n",
       "      <th>1295</th>\n",
       "      <td>35000000</td>\n",
       "      <td>[{'id': 80, 'name': 'Crime'}, {'id': 53, 'name': 'Thriller'}]</td>\n",
       "      <td>1598</td>\n",
       "      <td>en</td>\n",
       "      <td>Sam Bowden is a small-town corporate attorney. Max Cady is a tattooed, cigar-smoking, bible-quoting, psychotic rapist. What do they have in common? Fourteen years ago, Sam was a public defender assigned to Max Cady's rape trial, and he made a serious error: he hid a document from his illiterate client that could have gotten him acquitted. Now, the cagey, bibliophile Cady has been released, and he intends to teach Sam Bowden and his family a thing or two about loss.</td>\n",
       "      <td>10.302735</td>\n",
       "      <td>[{'name': 'Universal Pictures', 'id': 33}, {'name': 'Amblin Entertainment', 'id': 56}, {'name': 'Cappa Productions', 'id': 691}, {'name': 'Tribeca Productions', 'id': 11391}]</td>\n",
       "      <td>[{'iso_3166_1': 'US', 'name': 'United States of America'}]</td>\n",
       "      <td>1991-11-15</td>\n",
       "      <td>182300000</td>\n",
       "      <td>128</td>\n",
       "      <td>[{'iso_639_1': 'en', 'name': 'English'}]</td>\n",
       "      <td>Released</td>\n",
       "      <td>Cape Fear</td>\n",
       "      <td>7.0</td>\n",
       "      <td>692</td>\n",
       "    </tr>\n",
       "    <tr>\n",
       "      <th>1296</th>\n",
       "      <td>0</td>\n",
       "      <td>[{'id': 18, 'name': 'Drama'}, {'id': 53, 'name': 'Thriller'}]</td>\n",
       "      <td>11349</td>\n",
       "      <td>en</td>\n",
       "      <td>Sam Bowden witnesses a rape committed by Max Cady and testifies against him. When released after 8 years in prison, Cady begins stalking Bowden and his family but is always clever enough not to violate the law.</td>\n",
       "      <td>7.583191</td>\n",
       "      <td>[{'name': 'Melville-Talbot Productions', 'id': 11390}]</td>\n",
       "      <td>[{'iso_3166_1': 'US', 'name': 'United States of America'}]</td>\n",
       "      <td>1962-04-12</td>\n",
       "      <td>0</td>\n",
       "      <td>105</td>\n",
       "      <td>[{'iso_639_1': 'en', 'name': 'English'}]</td>\n",
       "      <td>Released</td>\n",
       "      <td>Cape Fear</td>\n",
       "      <td>7.2</td>\n",
       "      <td>125</td>\n",
       "    </tr>\n",
       "  </tbody>\n",
       "</table>\n",
       "</div>"
      ],
      "text/plain": [
       "        budget                                                         genres  \\\n",
       "1295  35000000  [{'id': 80, 'name': 'Crime'}, {'id': 53, 'name': 'Thriller'}]   \n",
       "1296  0         [{'id': 18, 'name': 'Drama'}, {'id': 53, 'name': 'Thriller'}]   \n",
       "\n",
       "         id original_language  \\\n",
       "1295  1598   en                 \n",
       "1296  11349  en                 \n",
       "\n",
       "                                                                                                                                                                                                                                                                                                                                                                                                                                                                                   overview  \\\n",
       "1295  Sam Bowden is a small-town corporate attorney. Max Cady is a tattooed, cigar-smoking, bible-quoting, psychotic rapist. What do they have in common? Fourteen years ago, Sam was a public defender assigned to Max Cady's rape trial, and he made a serious error: he hid a document from his illiterate client that could have gotten him acquitted. Now, the cagey, bibliophile Cady has been released, and he intends to teach Sam Bowden and his family a thing or two about loss.   \n",
       "1296  Sam Bowden witnesses a rape committed by Max Cady and testifies against him. When released after 8 years in prison, Cady begins stalking Bowden and his family but is always clever enough not to violate the law.                                                                                                                                                                                                                                                                      \n",
       "\n",
       "      popularity  \\\n",
       "1295  10.302735    \n",
       "1296  7.583191     \n",
       "\n",
       "                                                                                                                                                                production_companies  \\\n",
       "1295  [{'name': 'Universal Pictures', 'id': 33}, {'name': 'Amblin Entertainment', 'id': 56}, {'name': 'Cappa Productions', 'id': 691}, {'name': 'Tribeca Productions', 'id': 11391}]   \n",
       "1296  [{'name': 'Melville-Talbot Productions', 'id': 11390}]                                                                                                                           \n",
       "\n",
       "                                            production_countries release_date  \\\n",
       "1295  [{'iso_3166_1': 'US', 'name': 'United States of America'}]  1991-11-15    \n",
       "1296  [{'iso_3166_1': 'US', 'name': 'United States of America'}]  1962-04-12    \n",
       "\n",
       "        revenue  runtime                          spoken_languages    status  \\\n",
       "1295  182300000  128      [{'iso_639_1': 'en', 'name': 'English'}]  Released   \n",
       "1296  0          105      [{'iso_639_1': 'en', 'name': 'English'}]  Released   \n",
       "\n",
       "          title  vote_average  vote_count  \n",
       "1295  Cape Fear  7.0           692         \n",
       "1296  Cape Fear  7.2           125         "
      ]
     },
     "execution_count": 107,
     "metadata": {},
     "output_type": "execute_result"
    }
   ],
   "source": [
    "df_movies_metadata_bronze[df_movies_metadata_bronze.title == 'Cape Fear']"
   ]
  },
  {
   "cell_type": "markdown",
   "metadata": {
    "nteract": {
     "transient": {
      "deleting": false
     }
    }
   },
   "source": [
    "#### Step7.  Fix casing <a class=\"anchor\" id=\"S7\"></a>"
   ]
  },
  {
   "cell_type": "code",
   "execution_count": 109,
   "metadata": {
    "gather": {
     "logged": 1619364458587
    },
    "jupyter": {
     "outputs_hidden": false,
     "source_hidden": false
    },
    "nteract": {
     "transient": {
      "deleting": false
     }
    }
   },
   "outputs": [
    {
     "data": {
      "text/plain": [
       "0    Toy Story       \n",
       "1    Jumanji         \n",
       "2    Grumpier Old Men\n",
       "Name: title, dtype: string"
      ]
     },
     "execution_count": 109,
     "metadata": {},
     "output_type": "execute_result"
    }
   ],
   "source": [
    "#Initcap each word in the title\n",
    "#test\n",
    "df_movies_metadata_bronze.title.str.title().head(3)"
   ]
  },
  {
   "cell_type": "code",
   "execution_count": 110,
   "metadata": {
    "collapsed": true,
    "gather": {
     "logged": 1619364559538
    },
    "jupyter": {
     "outputs_hidden": false,
     "source_hidden": false
    },
    "nteract": {
     "transient": {
      "deleting": false
     }
    }
   },
   "outputs": [],
   "source": [
    "#Initcap each word in the title\n",
    "#run\n",
    "df_movies_metadata_bronze['title']  = df_movies_metadata_bronze.title.str.title()"
   ]
  },
  {
   "cell_type": "code",
   "execution_count": 111,
   "metadata": {
    "gather": {
     "logged": 1619364590766
    },
    "jupyter": {
     "outputs_hidden": false,
     "source_hidden": false
    },
    "nteract": {
     "transient": {
      "deleting": false
     }
    }
   },
   "outputs": [
    {
     "data": {
      "text/html": [
       "<div>\n",
       "<style scoped>\n",
       "    .dataframe tbody tr th:only-of-type {\n",
       "        vertical-align: middle;\n",
       "    }\n",
       "\n",
       "    .dataframe tbody tr th {\n",
       "        vertical-align: top;\n",
       "    }\n",
       "\n",
       "    .dataframe thead th {\n",
       "        text-align: right;\n",
       "    }\n",
       "</style>\n",
       "<table border=\"1\" class=\"dataframe\">\n",
       "  <thead>\n",
       "    <tr style=\"text-align: right;\">\n",
       "      <th></th>\n",
       "      <th>0</th>\n",
       "      <th>1</th>\n",
       "      <th>2</th>\n",
       "    </tr>\n",
       "  </thead>\n",
       "  <tbody>\n",
       "    <tr>\n",
       "      <th>budget</th>\n",
       "      <td>30000000</td>\n",
       "      <td>65000000</td>\n",
       "      <td>0</td>\n",
       "    </tr>\n",
       "    <tr>\n",
       "      <th>genres</th>\n",
       "      <td>[{'id': 16, 'name': 'Animation'}, {'id': 35, 'name': 'Comedy'}, {'id': 10751, 'name': 'Family'}]</td>\n",
       "      <td>[{'id': 12, 'name': 'Adventure'}, {'id': 14, 'name': 'Fantasy'}, {'id': 10751, 'name': 'Family'}]</td>\n",
       "      <td>[{'id': 10749, 'name': 'Romance'}, {'id': 35, 'name': 'Comedy'}]</td>\n",
       "    </tr>\n",
       "    <tr>\n",
       "      <th>id</th>\n",
       "      <td>862</td>\n",
       "      <td>8844</td>\n",
       "      <td>15602</td>\n",
       "    </tr>\n",
       "    <tr>\n",
       "      <th>original_language</th>\n",
       "      <td>en</td>\n",
       "      <td>en</td>\n",
       "      <td>en</td>\n",
       "    </tr>\n",
       "    <tr>\n",
       "      <th>overview</th>\n",
       "      <td>Led by Woody, Andy's toys live happily in his room until Andy's birthday brings Buzz Lightyear onto the scene. Afraid of losing his place in Andy's heart, Woody plots against Buzz. But when circumstances separate Buzz and Woody from their owner, the duo eventually learns to put aside their differences.</td>\n",
       "      <td>When siblings Judy and Peter discover an enchanted board game that opens the door to a magical world, they unwittingly invite Alan -- an adult who's been trapped inside the game for 26 years -- into their living room. Alan's only hope for freedom is to finish the game, which proves risky as all three find themselves running from giant rhinoceroses, evil monkeys and other terrifying creatures.</td>\n",
       "      <td>A family wedding reignites the ancient feud between next-door neighbors and fishing buddies John and Max. Meanwhile, a sultry Italian divorcée opens a restaurant at the local bait shop, alarming the locals who worry she'll scare the fish away. But she's less interested in seafood than she is in cooking up a hot time with Max.</td>\n",
       "    </tr>\n",
       "    <tr>\n",
       "      <th>popularity</th>\n",
       "      <td>21.9469</td>\n",
       "      <td>17.0155</td>\n",
       "      <td>11.7129</td>\n",
       "    </tr>\n",
       "    <tr>\n",
       "      <th>production_companies</th>\n",
       "      <td>[{'name': 'Pixar Animation Studios', 'id': 3}]</td>\n",
       "      <td>[{'name': 'TriStar Pictures', 'id': 559}, {'name': 'Teitler Film', 'id': 2550}, {'name': 'Interscope Communications', 'id': 10201}]</td>\n",
       "      <td>[{'name': 'Warner Bros.', 'id': 6194}, {'name': 'Lancaster Gate', 'id': 19464}]</td>\n",
       "    </tr>\n",
       "    <tr>\n",
       "      <th>production_countries</th>\n",
       "      <td>[{'iso_3166_1': 'US', 'name': 'United States of America'}]</td>\n",
       "      <td>[{'iso_3166_1': 'US', 'name': 'United States of America'}]</td>\n",
       "      <td>[{'iso_3166_1': 'US', 'name': 'United States of America'}]</td>\n",
       "    </tr>\n",
       "    <tr>\n",
       "      <th>release_date</th>\n",
       "      <td>1995-10-30</td>\n",
       "      <td>1995-12-15</td>\n",
       "      <td>1995-12-22</td>\n",
       "    </tr>\n",
       "    <tr>\n",
       "      <th>revenue</th>\n",
       "      <td>373554033</td>\n",
       "      <td>262797249</td>\n",
       "      <td>0</td>\n",
       "    </tr>\n",
       "    <tr>\n",
       "      <th>runtime</th>\n",
       "      <td>81</td>\n",
       "      <td>104</td>\n",
       "      <td>101</td>\n",
       "    </tr>\n",
       "    <tr>\n",
       "      <th>spoken_languages</th>\n",
       "      <td>[{'iso_639_1': 'en', 'name': 'English'}]</td>\n",
       "      <td>[{'iso_639_1': 'en', 'name': 'English'}, {'iso_639_1': 'fr', 'name': 'Français'}]</td>\n",
       "      <td>[{'iso_639_1': 'en', 'name': 'English'}]</td>\n",
       "    </tr>\n",
       "    <tr>\n",
       "      <th>status</th>\n",
       "      <td>Released</td>\n",
       "      <td>Released</td>\n",
       "      <td>Released</td>\n",
       "    </tr>\n",
       "    <tr>\n",
       "      <th>title</th>\n",
       "      <td>Toy Story</td>\n",
       "      <td>Jumanji</td>\n",
       "      <td>Grumpier Old Men</td>\n",
       "    </tr>\n",
       "    <tr>\n",
       "      <th>vote_average</th>\n",
       "      <td>7.7</td>\n",
       "      <td>6.9</td>\n",
       "      <td>6.5</td>\n",
       "    </tr>\n",
       "    <tr>\n",
       "      <th>vote_count</th>\n",
       "      <td>5415</td>\n",
       "      <td>2413</td>\n",
       "      <td>92</td>\n",
       "    </tr>\n",
       "  </tbody>\n",
       "</table>\n",
       "</div>"
      ],
      "text/plain": [
       "                                                                                                                                                                                                                                                                                                                                    0  \\\n",
       "budget                30000000                                                                                                                                                                                                                                                                                                          \n",
       "genres                [{'id': 16, 'name': 'Animation'}, {'id': 35, 'name': 'Comedy'}, {'id': 10751, 'name': 'Family'}]                                                                                                                                                                                                                  \n",
       "id                    862                                                                                                                                                                                                                                                                                                               \n",
       "original_language     en                                                                                                                                                                                                                                                                                                                \n",
       "overview              Led by Woody, Andy's toys live happily in his room until Andy's birthday brings Buzz Lightyear onto the scene. Afraid of losing his place in Andy's heart, Woody plots against Buzz. But when circumstances separate Buzz and Woody from their owner, the duo eventually learns to put aside their differences.   \n",
       "popularity            21.9469                                                                                                                                                                                                                                                                                                           \n",
       "production_companies  [{'name': 'Pixar Animation Studios', 'id': 3}]                                                                                                                                                                                                                                                                    \n",
       "production_countries  [{'iso_3166_1': 'US', 'name': 'United States of America'}]                                                                                                                                                                                                                                                        \n",
       "release_date          1995-10-30                                                                                                                                                                                                                                                                                                        \n",
       "revenue               373554033                                                                                                                                                                                                                                                                                                         \n",
       "runtime               81                                                                                                                                                                                                                                                                                                                \n",
       "spoken_languages      [{'iso_639_1': 'en', 'name': 'English'}]                                                                                                                                                                                                                                                                          \n",
       "status                Released                                                                                                                                                                                                                                                                                                          \n",
       "title                 Toy Story                                                                                                                                                                                                                                                                                                         \n",
       "vote_average          7.7                                                                                                                                                                                                                                                                                                               \n",
       "vote_count            5415                                                                                                                                                                                                                                                                                                              \n",
       "\n",
       "                                                                                                                                                                                                                                                                                                                                                                                                                                1  \\\n",
       "budget                65000000                                                                                                                                                                                                                                                                                                                                                                                                      \n",
       "genres                [{'id': 12, 'name': 'Adventure'}, {'id': 14, 'name': 'Fantasy'}, {'id': 10751, 'name': 'Family'}]                                                                                                                                                                                                                                                                                                             \n",
       "id                    8844                                                                                                                                                                                                                                                                                                                                                                                                          \n",
       "original_language     en                                                                                                                                                                                                                                                                                                                                                                                                            \n",
       "overview              When siblings Judy and Peter discover an enchanted board game that opens the door to a magical world, they unwittingly invite Alan -- an adult who's been trapped inside the game for 26 years -- into their living room. Alan's only hope for freedom is to finish the game, which proves risky as all three find themselves running from giant rhinoceroses, evil monkeys and other terrifying creatures.   \n",
       "popularity            17.0155                                                                                                                                                                                                                                                                                                                                                                                                       \n",
       "production_companies  [{'name': 'TriStar Pictures', 'id': 559}, {'name': 'Teitler Film', 'id': 2550}, {'name': 'Interscope Communications', 'id': 10201}]                                                                                                                                                                                                                                                                           \n",
       "production_countries  [{'iso_3166_1': 'US', 'name': 'United States of America'}]                                                                                                                                                                                                                                                                                                                                                    \n",
       "release_date          1995-12-15                                                                                                                                                                                                                                                                                                                                                                                                    \n",
       "revenue               262797249                                                                                                                                                                                                                                                                                                                                                                                                     \n",
       "runtime               104                                                                                                                                                                                                                                                                                                                                                                                                           \n",
       "spoken_languages      [{'iso_639_1': 'en', 'name': 'English'}, {'iso_639_1': 'fr', 'name': 'Français'}]                                                                                                                                                                                                                                                                                                                             \n",
       "status                Released                                                                                                                                                                                                                                                                                                                                                                                                      \n",
       "title                 Jumanji                                                                                                                                                                                                                                                                                                                                                                                                       \n",
       "vote_average          6.9                                                                                                                                                                                                                                                                                                                                                                                                           \n",
       "vote_count            2413                                                                                                                                                                                                                                                                                                                                                                                                          \n",
       "\n",
       "                                                                                                                                                                                                                                                                                                                                                            2  \n",
       "budget                0                                                                                                                                                                                                                                                                                                                                        \n",
       "genres                [{'id': 10749, 'name': 'Romance'}, {'id': 35, 'name': 'Comedy'}]                                                                                                                                                                                                                                                                         \n",
       "id                    15602                                                                                                                                                                                                                                                                                                                                    \n",
       "original_language     en                                                                                                                                                                                                                                                                                                                                       \n",
       "overview              A family wedding reignites the ancient feud between next-door neighbors and fishing buddies John and Max. Meanwhile, a sultry Italian divorcée opens a restaurant at the local bait shop, alarming the locals who worry she'll scare the fish away. But she's less interested in seafood than she is in cooking up a hot time with Max.  \n",
       "popularity            11.7129                                                                                                                                                                                                                                                                                                                                  \n",
       "production_companies  [{'name': 'Warner Bros.', 'id': 6194}, {'name': 'Lancaster Gate', 'id': 19464}]                                                                                                                                                                                                                                                          \n",
       "production_countries  [{'iso_3166_1': 'US', 'name': 'United States of America'}]                                                                                                                                                                                                                                                                               \n",
       "release_date          1995-12-22                                                                                                                                                                                                                                                                                                                               \n",
       "revenue               0                                                                                                                                                                                                                                                                                                                                        \n",
       "runtime               101                                                                                                                                                                                                                                                                                                                                      \n",
       "spoken_languages      [{'iso_639_1': 'en', 'name': 'English'}]                                                                                                                                                                                                                                                                                                 \n",
       "status                Released                                                                                                                                                                                                                                                                                                                                 \n",
       "title                 Grumpier Old Men                                                                                                                                                                                                                                                                                                                         \n",
       "vote_average          6.5                                                                                                                                                                                                                                                                                                                                      \n",
       "vote_count            92                                                                                                                                                                                                                                                                                                                                       "
      ]
     },
     "execution_count": 111,
     "metadata": {},
     "output_type": "execute_result"
    }
   ],
   "source": [
    "#It is easier to view the data if we transpose\n",
    "df_movies_metadata_bronze.head(3).transpose()"
   ]
  },
  {
   "cell_type": "markdown",
   "metadata": {
    "nteract": {
     "transient": {
      "deleting": false
     }
    }
   },
   "source": [
    "#### Step8.  Text data clean (NLP): Clean up the overview attribute and add another column 'overview_cleaned' <a class=\"anchor\" id=\"S8\"></a>"
   ]
  },
  {
   "cell_type": "code",
   "execution_count": 112,
   "metadata": {
    "collapsed": true,
    "gather": {
     "logged": 1619364806290
    },
    "jupyter": {
     "outputs_hidden": false,
     "source_hidden": false
    },
    "nteract": {
     "transient": {
      "deleting": false
     }
    }
   },
   "outputs": [],
   "source": [
    "#Build punctuation dictionary\n",
    "import unicodedata\n",
    "import sys\n",
    "\n",
    "# Create a dictionary of punctuation characters\n",
    "punctuation = dict.fromkeys(i for i in range(sys.maxunicode)\n",
    "                            if unicodedata.category(chr(i)).startswith('P'))\n",
    "# Add the backtick/ Grave accent character\n",
    "punctuation.update({96:None})"
   ]
  },
  {
   "cell_type": "code",
   "execution_count": 118,
   "metadata": {
    "collapsed": true,
    "gather": {
     "logged": 1619365112897
    },
    "jupyter": {
     "outputs_hidden": false,
     "source_hidden": false
    },
    "nteract": {
     "transient": {
      "deleting": false
     }
    }
   },
   "outputs": [],
   "source": [
    "#Let us clean up and make the data ready\n",
    "# As we are going to use words as features so we can use some text formatting techniques which will help us in feature extraction\n",
    "#  including removing punctuation marks/digits ,and also stop-words. In addition, the implementation of lemmatization words using NLTK\n",
    "#       Tokenization is the last step to break reviews up into words and other meaningful tokens.\n",
    "\n",
    "import re \n",
    "import string\n",
    "#pip install nltk\n",
    "import nltk\n",
    "#nltk.download('stopwords')\n",
    "from nltk.stem import WordNetLemmatizer\n",
    "\n",
    "from nltk.corpus import stopwords \n",
    "ENGLISH_STOP_WORDS = stopwords.words('english')\n",
    "\n",
    "def function_clean_stop(text):\n",
    "    #convert into lowercase\n",
    "    text = text.lower()\n",
    "\n",
    "    #removing the URL Http\n",
    "    text = re.sub(r\"http\\S+\", \"\", text) \n",
    "\n",
    "    # Removal of mentions\n",
    "    #text = re.sub(\"@[^\\s]*\", \"\", text) -> Taken care if in the punctuations. But I want to keep the word.\n",
    "\n",
    "    # Removal of hashtags\n",
    "    #text = re.sub(\"#[^\\s]*\", \"\", text) -> Taken care if in the punctuations. But I want to keep the word.\n",
    "\n",
    "    # Removal of numbers\n",
    "    text = re.sub('[0-9]*[+-:]*[0-9]+', '', text)\n",
    "    text = re.sub(\"'s\", \"\", text)   \n",
    "\n",
    "    #remove all punctuation from the text.\n",
    "    text = str(text.translate(punctuation))\n",
    "    \n",
    "    listofwords = text.strip().split()          # to remove any space from beginning and the end of text\n",
    "    tokenized_words = []    \n",
    "    for word in listofwords:\n",
    "        if not word in ENGLISH_STOP_WORDS:\n",
    "            lemm_word = WordNetLemmatizer().lemmatize(word)\n",
    "            if len(lemm_word)>0:\n",
    "                tokenized_words.append(lemm_word)\n",
    "    return_str = ' '.join([str(elem) for elem in tokenized_words])             \n",
    "    return(return_str)"
   ]
  },
  {
   "cell_type": "code",
   "execution_count": 121,
   "metadata": {
    "collapsed": true,
    "gather": {
     "logged": 1619365476284
    },
    "jupyter": {
     "outputs_hidden": false,
     "source_hidden": false
    },
    "nteract": {
     "transient": {
      "deleting": false
     }
    }
   },
   "outputs": [],
   "source": [
    "# applying the cleaning function to text column\n",
    "df_movies_metadata_bronze['overview_cleaned'] = df_movies_metadata_bronze['overview'].apply(lambda overview: function_clean_stop(overview))"
   ]
  },
  {
   "cell_type": "code",
   "execution_count": 123,
   "metadata": {
    "gather": {
     "logged": 1619365518686
    },
    "jupyter": {
     "outputs_hidden": false,
     "source_hidden": false
    },
    "nteract": {
     "transient": {
      "deleting": false
     }
    }
   },
   "outputs": [
    {
     "data": {
      "text/html": [
       "<div>\n",
       "<style scoped>\n",
       "    .dataframe tbody tr th:only-of-type {\n",
       "        vertical-align: middle;\n",
       "    }\n",
       "\n",
       "    .dataframe tbody tr th {\n",
       "        vertical-align: top;\n",
       "    }\n",
       "\n",
       "    .dataframe thead th {\n",
       "        text-align: right;\n",
       "    }\n",
       "</style>\n",
       "<table border=\"1\" class=\"dataframe\">\n",
       "  <thead>\n",
       "    <tr style=\"text-align: right;\">\n",
       "      <th></th>\n",
       "      <th>overview</th>\n",
       "      <th>overview_cleaned</th>\n",
       "    </tr>\n",
       "  </thead>\n",
       "  <tbody>\n",
       "    <tr>\n",
       "      <th>0</th>\n",
       "      <td>Led by Woody, Andy's toys live happily in his room until Andy's birthday brings Buzz Lightyear onto the scene. Afraid of losing his place in Andy's heart, Woody plots against Buzz. But when circumstances separate Buzz and Woody from their owner, the duo eventually learns to put aside their differences.</td>\n",
       "      <td>led woody andy toy live happily room andy birthday brings buzz lightyear onto scene afraid losing place andy heart woody plot buzz circumstance separate buzz woody owner duo eventually learns put aside difference</td>\n",
       "    </tr>\n",
       "    <tr>\n",
       "      <th>1</th>\n",
       "      <td>When siblings Judy and Peter discover an enchanted board game that opens the door to a magical world, they unwittingly invite Alan -- an adult who's been trapped inside the game for 26 years -- into their living room. Alan's only hope for freedom is to finish the game, which proves risky as all three find themselves running from giant rhinoceroses, evil monkeys and other terrifying creatures.</td>\n",
       "      <td>sibling judy peter discover enchanted board game open door magical world unwittingly invite alan adult trapped inside game year living room alan hope freedom finish game prof risky three find running giant rhinoceros evil monkey terrifying creature</td>\n",
       "    </tr>\n",
       "    <tr>\n",
       "      <th>2</th>\n",
       "      <td>A family wedding reignites the ancient feud between next-door neighbors and fishing buddies John and Max. Meanwhile, a sultry Italian divorcée opens a restaurant at the local bait shop, alarming the locals who worry she'll scare the fish away. But she's less interested in seafood than she is in cooking up a hot time with Max.</td>\n",
       "      <td>family wedding reignites ancient feud nextdoor neighbor fishing buddy john max meanwhile sultry italian divorcée open restaurant local bait shop alarming local worry shell scare fish away le interested seafood cooking hot time max</td>\n",
       "    </tr>\n",
       "    <tr>\n",
       "      <th>3</th>\n",
       "      <td>Cheated on, mistreated and stepped on, the women are holding their breath, waiting for the elusive \"good man\" to break a string of less-than-stellar lovers. Friends and confidants Vannah, Bernie, Glo and Robin talk it all out, determined to find a better way to breathe.</td>\n",
       "      <td>cheated mistreated stepped woman holding breath waiting elusive good man break string lessthanstellar lover friend confidant vannah bernie glo robin talk determined find better way breathe</td>\n",
       "    </tr>\n",
       "    <tr>\n",
       "      <th>4</th>\n",
       "      <td>Just when George Banks has recovered from his daughter's wedding, he receives the news that she's pregnant ... and that George's wife, Nina, is expecting too. He was planning on selling their home, but that's a plan that -- like George -- will have to change with the arrival of both a grandchild and a kid of his own.</td>\n",
       "      <td>george bank recovered daughter wedding receives news pregnant george wife nina expecting planning selling home plan like george change arrival grandchild kid</td>\n",
       "    </tr>\n",
       "  </tbody>\n",
       "</table>\n",
       "</div>"
      ],
      "text/plain": [
       "                                                                                                                                                                                                                                                                                                                                                                                                      overview  \\\n",
       "0  Led by Woody, Andy's toys live happily in his room until Andy's birthday brings Buzz Lightyear onto the scene. Afraid of losing his place in Andy's heart, Woody plots against Buzz. But when circumstances separate Buzz and Woody from their owner, the duo eventually learns to put aside their differences.                                                                                               \n",
       "1  When siblings Judy and Peter discover an enchanted board game that opens the door to a magical world, they unwittingly invite Alan -- an adult who's been trapped inside the game for 26 years -- into their living room. Alan's only hope for freedom is to finish the game, which proves risky as all three find themselves running from giant rhinoceroses, evil monkeys and other terrifying creatures.   \n",
       "2  A family wedding reignites the ancient feud between next-door neighbors and fishing buddies John and Max. Meanwhile, a sultry Italian divorcée opens a restaurant at the local bait shop, alarming the locals who worry she'll scare the fish away. But she's less interested in seafood than she is in cooking up a hot time with Max.                                                                       \n",
       "3  Cheated on, mistreated and stepped on, the women are holding their breath, waiting for the elusive \"good man\" to break a string of less-than-stellar lovers. Friends and confidants Vannah, Bernie, Glo and Robin talk it all out, determined to find a better way to breathe.                                                                                                                                \n",
       "4  Just when George Banks has recovered from his daughter's wedding, he receives the news that she's pregnant ... and that George's wife, Nina, is expecting too. He was planning on selling their home, but that's a plan that -- like George -- will have to change with the arrival of both a grandchild and a kid of his own.                                                                                \n",
       "\n",
       "                                                                                                                                                                                                                                           overview_cleaned  \n",
       "0  led woody andy toy live happily room andy birthday brings buzz lightyear onto scene afraid losing place andy heart woody plot buzz circumstance separate buzz woody owner duo eventually learns put aside difference                                      \n",
       "1  sibling judy peter discover enchanted board game open door magical world unwittingly invite alan adult trapped inside game year living room alan hope freedom finish game prof risky three find running giant rhinoceros evil monkey terrifying creature  \n",
       "2  family wedding reignites ancient feud nextdoor neighbor fishing buddy john max meanwhile sultry italian divorcée open restaurant local bait shop alarming local worry shell scare fish away le interested seafood cooking hot time max                    \n",
       "3  cheated mistreated stepped woman holding breath waiting elusive good man break string lessthanstellar lover friend confidant vannah bernie glo robin talk determined find better way breathe                                                              \n",
       "4  george bank recovered daughter wedding receives news pregnant george wife nina expecting planning selling home plan like george change arrival grandchild kid                                                                                             "
      ]
     },
     "execution_count": 123,
     "metadata": {},
     "output_type": "execute_result"
    }
   ],
   "source": [
    "df_movies_metadata_bronze[['overview','overview_cleaned']].head()"
   ]
  },
  {
   "cell_type": "code",
   "execution_count": 124,
   "metadata": {
    "gather": {
     "logged": 1619365564896
    },
    "jupyter": {
     "outputs_hidden": false,
     "source_hidden": false
    },
    "nteract": {
     "transient": {
      "deleting": false
     }
    }
   },
   "outputs": [
    {
     "data": {
      "text/plain": [
       "budget                  Int32  \n",
       "genres                  string \n",
       "id                      Int64  \n",
       "original_language       string \n",
       "overview                string \n",
       "popularity              float64\n",
       "production_companies    string \n",
       "production_countries    string \n",
       "release_date            string \n",
       "revenue                 Int64  \n",
       "runtime                 Int64  \n",
       "spoken_languages        string \n",
       "status                  string \n",
       "title                   string \n",
       "vote_average            float64\n",
       "vote_count              Int64  \n",
       "overview_cleaned        object \n",
       "dtype: object"
      ]
     },
     "execution_count": 124,
     "metadata": {},
     "output_type": "execute_result"
    }
   ],
   "source": [
    "df_movies_metadata_bronze.dtypes"
   ]
  },
  {
   "cell_type": "markdown",
   "metadata": {
    "nteract": {
     "transient": {
      "deleting": false
     }
    }
   },
   "source": [
    "#### Step9. Identify outliers and bad data <a class=\"anchor\" id=\"S9\"></a>"
   ]
  },
  {
   "cell_type": "code",
   "execution_count": 127,
   "metadata": {
    "gather": {
     "logged": 1619366251299
    },
    "jupyter": {
     "outputs_hidden": false,
     "source_hidden": false
    },
    "nteract": {
     "transient": {
      "deleting": false
     }
    }
   },
   "outputs": [
    {
     "data": {
      "text/plain": [
       "{'whiskers': [<matplotlib.lines.Line2D at 0x7f911e9b1278>,\n",
       "  <matplotlib.lines.Line2D at 0x7f911e9b15f8>],\n",
       " 'caps': [<matplotlib.lines.Line2D at 0x7f911e9b1978>,\n",
       "  <matplotlib.lines.Line2D at 0x7f911e9b1cf8>],\n",
       " 'boxes': [<matplotlib.lines.Line2D at 0x7f911e9a3f28>],\n",
       " 'medians': [<matplotlib.lines.Line2D at 0x7f911e9c50b8>],\n",
       " 'fliers': [<matplotlib.lines.Line2D at 0x7f911e9c5438>],\n",
       " 'means': []}"
      ]
     },
     "execution_count": 127,
     "metadata": {},
     "output_type": "execute_result"
    },
    {
     "data": {
      "image/png": "[encoded data removed]",
      "text/plain": [
       "<Figure size 432x288 with 1 Axes>"
      ]
     },
     "metadata": {
      "needs_background": "light"
     },
     "output_type": "display_data"
    }
   ],
   "source": [
    "#Get rid of the outliers in vote_average column\n",
    "plt.boxplot(df_movies_metadata_bronze.vote_average, notch=True)"
   ]
  },
  {
   "cell_type": "code",
   "execution_count": 134,
   "metadata": {
    "gather": {
     "logged": 1619366711011
    },
    "jupyter": {
     "outputs_hidden": false,
     "source_hidden": false
    },
    "nteract": {
     "transient": {
      "deleting": false
     }
    }
   },
   "outputs": [
    {
     "data": {
      "text/html": [
       "<div>\n",
       "<style scoped>\n",
       "    .dataframe tbody tr th:only-of-type {\n",
       "        vertical-align: middle;\n",
       "    }\n",
       "\n",
       "    .dataframe tbody tr th {\n",
       "        vertical-align: top;\n",
       "    }\n",
       "\n",
       "    .dataframe thead th {\n",
       "        text-align: right;\n",
       "    }\n",
       "</style>\n",
       "<table border=\"1\" class=\"dataframe\">\n",
       "  <thead>\n",
       "    <tr style=\"text-align: right;\">\n",
       "      <th></th>\n",
       "      <th>budget</th>\n",
       "      <th>genres</th>\n",
       "      <th>id</th>\n",
       "      <th>original_language</th>\n",
       "      <th>overview</th>\n",
       "      <th>popularity</th>\n",
       "      <th>production_companies</th>\n",
       "      <th>production_countries</th>\n",
       "      <th>release_date</th>\n",
       "      <th>revenue</th>\n",
       "      <th>runtime</th>\n",
       "      <th>spoken_languages</th>\n",
       "      <th>status</th>\n",
       "      <th>title</th>\n",
       "      <th>vote_average</th>\n",
       "      <th>vote_count</th>\n",
       "      <th>overview_cleaned</th>\n",
       "    </tr>\n",
       "  </thead>\n",
       "  <tbody>\n",
       "  </tbody>\n",
       "</table>\n",
       "</div>"
      ],
      "text/plain": [
       "Empty DataFrame\n",
       "Columns: [budget, genres, id, original_language, overview, popularity, production_companies, production_countries, release_date, revenue, runtime, spoken_languages, status, title, vote_average, vote_count, overview_cleaned]\n",
       "Index: []"
      ]
     },
     "execution_count": 134,
     "metadata": {},
     "output_type": "execute_result"
    }
   ],
   "source": [
    "#There are no outliers on the vote_average column\n",
    "df_movies_metadata_bronze[(df_movies_metadata_bronze['vote_average'] < 0) | (df_movies_metadata_bronze['vote_average'] > 10)]"
   ]
  },
  {
   "cell_type": "code",
   "execution_count": 132,
   "metadata": {
    "gather": {
     "logged": 1619366570531
    },
    "jupyter": {
     "outputs_hidden": false,
     "source_hidden": false
    },
    "nteract": {
     "transient": {
      "deleting": false
     }
    }
   },
   "outputs": [
    {
     "data": {
      "text/plain": [
       "{'whiskers': [<matplotlib.lines.Line2D at 0x7f911e4f8710>,\n",
       "  <matplotlib.lines.Line2D at 0x7f911e4f8a90>],\n",
       " 'caps': [<matplotlib.lines.Line2D at 0x7f911e4f8e10>,\n",
       "  <matplotlib.lines.Line2D at 0x7f911e5031d0>],\n",
       " 'boxes': [<matplotlib.lines.Line2D at 0x7f911e4f8400>],\n",
       " 'medians': [<matplotlib.lines.Line2D at 0x7f911e503550>],\n",
       " 'fliers': [<matplotlib.lines.Line2D at 0x7f911e5038d0>],\n",
       " 'means': []}"
      ]
     },
     "execution_count": 132,
     "metadata": {},
     "output_type": "execute_result"
    },
    {
     "data": {
      "image/png": "[encoded data removed]",
      "text/plain": [
       "<Figure size 432x288 with 1 Axes>"
      ]
     },
     "metadata": {
      "needs_background": "light"
     },
     "output_type": "display_data"
    }
   ],
   "source": [
    "#Get rid of the outliers in runtime column\n",
    "plt.boxplot(df_movies_metadata_bronze.runtime, notch=True)"
   ]
  },
  {
   "cell_type": "markdown",
   "metadata": {
    "nteract": {
     "transient": {
      "deleting": false
     }
    }
   },
   "source": [
    "Looking at the data I will be getting rid of the movies with runtime > 900 minutes(>15 hours) and lesser than 0"
   ]
  },
  {
   "cell_type": "code",
   "execution_count": 135,
   "metadata": {
    "gather": {
     "logged": 1619366719400
    },
    "jupyter": {
     "outputs_hidden": false,
     "source_hidden": false
    },
    "nteract": {
     "transient": {
      "deleting": false
     }
    }
   },
   "outputs": [
    {
     "data": {
      "text/html": [
       "<div>\n",
       "<style scoped>\n",
       "    .dataframe tbody tr th:only-of-type {\n",
       "        vertical-align: middle;\n",
       "    }\n",
       "\n",
       "    .dataframe tbody tr th {\n",
       "        vertical-align: top;\n",
       "    }\n",
       "\n",
       "    .dataframe thead th {\n",
       "        text-align: right;\n",
       "    }\n",
       "</style>\n",
       "<table border=\"1\" class=\"dataframe\">\n",
       "  <thead>\n",
       "    <tr style=\"text-align: right;\">\n",
       "      <th></th>\n",
       "      <th>budget</th>\n",
       "      <th>genres</th>\n",
       "      <th>id</th>\n",
       "      <th>original_language</th>\n",
       "      <th>overview</th>\n",
       "      <th>popularity</th>\n",
       "      <th>production_companies</th>\n",
       "      <th>production_countries</th>\n",
       "      <th>release_date</th>\n",
       "      <th>revenue</th>\n",
       "      <th>runtime</th>\n",
       "      <th>spoken_languages</th>\n",
       "      <th>status</th>\n",
       "      <th>title</th>\n",
       "      <th>vote_average</th>\n",
       "      <th>vote_count</th>\n",
       "      <th>overview_cleaned</th>\n",
       "    </tr>\n",
       "  </thead>\n",
       "  <tbody>\n",
       "    <tr>\n",
       "      <th>13767</th>\n",
       "      <td>0</td>\n",
       "      <td>[{'id': 18, 'name': 'Drama'}]</td>\n",
       "      <td>45560</td>\n",
       "      <td>de</td>\n",
       "      <td>Berlin Alexanderplatz, originally broadcast in 1980, is a 14-part television film adapted and directed by Rainer Werner Fassbinder from the Alfred Döblin novel of the same name, and stars Günter Lamprecht, Hanna Schygulla, Barbara Sukowa, Elisabeth Trissenaar and Gottfried John. The complete film is 15½ hours long.</td>\n",
       "      <td>2.255785</td>\n",
       "      <td>[{'name': 'Bavaria Film', 'id': 1704}, {'name': 'Westdeutscher Rundfunk (WDR)', 'id': 7025}, {'name': 'RAI Radiotelevisione Italiana', 'id': 20091}]</td>\n",
       "      <td>[{'iso_3166_1': 'DE', 'name': 'Germany'}, {'iso_3166_1': 'IT', 'name': 'Italy'}]</td>\n",
       "      <td>1980-08-28</td>\n",
       "      <td>0</td>\n",
       "      <td>931</td>\n",
       "      <td>[{'iso_639_1': 'de', 'name': 'Deutsch'}]</td>\n",
       "      <td>Released</td>\n",
       "      <td>Berlin Alexanderplatz</td>\n",
       "      <td>8.4</td>\n",
       "      <td>5</td>\n",
       "      <td>berlin alexanderplatz originally broadcast part television film adapted directed rainer werner fassbinder alfred döblin novel name star günter lamprecht hanna schygulla barbara sukowa elisabeth trissenaar gottfried john complete film ½ hour long</td>\n",
       "    </tr>\n",
       "    <tr>\n",
       "      <th>13953</th>\n",
       "      <td>0</td>\n",
       "      <td>[{'id': 18, 'name': 'Drama'}, {'id': 36, 'name': 'History'}]</td>\n",
       "      <td>67463</td>\n",
       "      <td>de</td>\n",
       "      <td>This epic tale of a family and their rural life in a small German village is told against the changing backdrop of a country's turbulent history from 1919 to 1982. From the aftermath of the First World War, economic hardship, the rise and fall of Nazism, the Second World War and the decades that followed, life in the village goes on and the values and aspirations of the people at its heart are wonderfully brought to life in this gripping saga of an ordinary family living through extraordinary times.</td>\n",
       "      <td>0.016204</td>\n",
       "      <td>[]</td>\n",
       "      <td>[{'iso_3166_1': 'DE', 'name': 'Germany'}]</td>\n",
       "      <td>1984-09-16</td>\n",
       "      <td>0</td>\n",
       "      <td>925</td>\n",
       "      <td>[]</td>\n",
       "      <td>Released</td>\n",
       "      <td>Heimat: A Chronicle Of Germany</td>\n",
       "      <td>9.0</td>\n",
       "      <td>1</td>\n",
       "      <td>epic tale family rural life small german village told changing backdrop country turbulent history aftermath first world war economic hardship rise fall nazism second world war decade followed life village go value aspiration people heart wonderfully brought life gripping saga ordinary family living extraordinary time</td>\n",
       "    </tr>\n",
       "    <tr>\n",
       "      <th>19965</th>\n",
       "      <td>0</td>\n",
       "      <td>[{'id': 99, 'name': 'Documentary'}]</td>\n",
       "      <td>142051</td>\n",
       "      <td>en</td>\n",
       "      <td>A survey of the musical form's history and major talents.</td>\n",
       "      <td>1.507756</td>\n",
       "      <td>[]</td>\n",
       "      <td>[]</td>\n",
       "      <td>2001-01-09</td>\n",
       "      <td>0</td>\n",
       "      <td>1140</td>\n",
       "      <td>[]</td>\n",
       "      <td>Released</td>\n",
       "      <td>Jazz</td>\n",
       "      <td>5.7</td>\n",
       "      <td>3</td>\n",
       "      <td>survey musical form history major talent</td>\n",
       "    </tr>\n",
       "    <tr>\n",
       "      <th>24178</th>\n",
       "      <td>0</td>\n",
       "      <td>[{'id': 18, 'name': 'Drama'}, {'id': 36, 'name': 'History'}]</td>\n",
       "      <td>67493</td>\n",
       "      <td>en</td>\n",
       "      <td>The economic and cultural growth of Colorado spanning two centuries from the mid-1700s to the late-1970s.</td>\n",
       "      <td>0.664727</td>\n",
       "      <td>[{'name': 'Universal Television', 'id': 26727}]</td>\n",
       "      <td>[{'iso_3166_1': 'US', 'name': 'United States of America'}]</td>\n",
       "      <td>1978-10-01</td>\n",
       "      <td>0</td>\n",
       "      <td>1256</td>\n",
       "      <td>[]</td>\n",
       "      <td>Released</td>\n",
       "      <td>Centennial</td>\n",
       "      <td>7.9</td>\n",
       "      <td>8</td>\n",
       "      <td>economic cultural growth colorado spanning two century mids lates</td>\n",
       "    </tr>\n",
       "    <tr>\n",
       "      <th>40938</th>\n",
       "      <td>0</td>\n",
       "      <td>[{'id': 99, 'name': 'Documentary'}]</td>\n",
       "      <td>126820</td>\n",
       "      <td>en</td>\n",
       "      <td>Chronicles the sport's signature people, places and events as well as its deep-rooted relationship to American culture. The pastime's century-and-a-half history unfolds over ten nostalgic, informative \"innings\" which delve into baseball's spiritual resonance with the entire nation.</td>\n",
       "      <td>0.145073</td>\n",
       "      <td>[]</td>\n",
       "      <td>[]</td>\n",
       "      <td>1994-09-18</td>\n",
       "      <td>0</td>\n",
       "      <td>1140</td>\n",
       "      <td>[{'iso_639_1': 'en', 'name': 'English'}]</td>\n",
       "      <td>Released</td>\n",
       "      <td>Baseball</td>\n",
       "      <td>8.5</td>\n",
       "      <td>4</td>\n",
       "      <td>chronicle sport signature people place event well deeprooted relationship american culture pastime centuryandahalf history unfolds ten nostalgic informative inning delve baseball spiritual resonance entire nation</td>\n",
       "    </tr>\n",
       "  </tbody>\n",
       "</table>\n",
       "</div>"
      ],
      "text/plain": [
       "       budget                                                        genres  \\\n",
       "13767  0       [{'id': 18, 'name': 'Drama'}]                                  \n",
       "13953  0       [{'id': 18, 'name': 'Drama'}, {'id': 36, 'name': 'History'}]   \n",
       "19965  0       [{'id': 99, 'name': 'Documentary'}]                            \n",
       "24178  0       [{'id': 18, 'name': 'Drama'}, {'id': 36, 'name': 'History'}]   \n",
       "40938  0       [{'id': 99, 'name': 'Documentary'}]                            \n",
       "\n",
       "           id original_language  \\\n",
       "13767  45560   de                 \n",
       "13953  67463   de                 \n",
       "19965  142051  en                 \n",
       "24178  67493   en                 \n",
       "40938  126820  en                 \n",
       "\n",
       "                                                                                                                                                                                                                                                                                                                                                                                                                                                                                                                       overview  \\\n",
       "13767  Berlin Alexanderplatz, originally broadcast in 1980, is a 14-part television film adapted and directed by Rainer Werner Fassbinder from the Alfred Döblin novel of the same name, and stars Günter Lamprecht, Hanna Schygulla, Barbara Sukowa, Elisabeth Trissenaar and Gottfried John. The complete film is 15½ hours long.                                                                                                                                                                                               \n",
       "13953  This epic tale of a family and their rural life in a small German village is told against the changing backdrop of a country's turbulent history from 1919 to 1982. From the aftermath of the First World War, economic hardship, the rise and fall of Nazism, the Second World War and the decades that followed, life in the village goes on and the values and aspirations of the people at its heart are wonderfully brought to life in this gripping saga of an ordinary family living through extraordinary times.   \n",
       "19965  A survey of the musical form's history and major talents.                                                                                                                                                                                                                                                                                                                                                                                                                                                                  \n",
       "24178  The economic and cultural growth of Colorado spanning two centuries from the mid-1700s to the late-1970s.                                                                                                                                                                                                                                                                                                                                                                                                                  \n",
       "40938  Chronicles the sport's signature people, places and events as well as its deep-rooted relationship to American culture. The pastime's century-and-a-half history unfolds over ten nostalgic, informative \"innings\" which delve into baseball's spiritual resonance with the entire nation.                                                                                                                                                                                                                                 \n",
       "\n",
       "       popularity  \\\n",
       "13767  2.255785     \n",
       "13953  0.016204     \n",
       "19965  1.507756     \n",
       "24178  0.664727     \n",
       "40938  0.145073     \n",
       "\n",
       "                                                                                                                                       production_companies  \\\n",
       "13767  [{'name': 'Bavaria Film', 'id': 1704}, {'name': 'Westdeutscher Rundfunk (WDR)', 'id': 7025}, {'name': 'RAI Radiotelevisione Italiana', 'id': 20091}]   \n",
       "13953  []                                                                                                                                                     \n",
       "19965  []                                                                                                                                                     \n",
       "24178  [{'name': 'Universal Television', 'id': 26727}]                                                                                                        \n",
       "40938  []                                                                                                                                                     \n",
       "\n",
       "                                                                   production_countries  \\\n",
       "13767  [{'iso_3166_1': 'DE', 'name': 'Germany'}, {'iso_3166_1': 'IT', 'name': 'Italy'}]   \n",
       "13953  [{'iso_3166_1': 'DE', 'name': 'Germany'}]                                          \n",
       "19965  []                                                                                 \n",
       "24178  [{'iso_3166_1': 'US', 'name': 'United States of America'}]                         \n",
       "40938  []                                                                                 \n",
       "\n",
       "      release_date  revenue  runtime  \\\n",
       "13767  1980-08-28   0        931       \n",
       "13953  1984-09-16   0        925       \n",
       "19965  2001-01-09   0        1140      \n",
       "24178  1978-10-01   0        1256      \n",
       "40938  1994-09-18   0        1140      \n",
       "\n",
       "                               spoken_languages    status  \\\n",
       "13767  [{'iso_639_1': 'de', 'name': 'Deutsch'}]  Released   \n",
       "13953  []                                        Released   \n",
       "19965  []                                        Released   \n",
       "24178  []                                        Released   \n",
       "40938  [{'iso_639_1': 'en', 'name': 'English'}]  Released   \n",
       "\n",
       "                                title  vote_average  vote_count  \\\n",
       "13767  Berlin Alexanderplatz           8.4           5            \n",
       "13953  Heimat: A Chronicle Of Germany  9.0           1            \n",
       "19965  Jazz                            5.7           3            \n",
       "24178  Centennial                      7.9           8            \n",
       "40938  Baseball                        8.5           4            \n",
       "\n",
       "                                                                                                                                                                                                                                                                                                                     overview_cleaned  \n",
       "13767  berlin alexanderplatz originally broadcast part television film adapted directed rainer werner fassbinder alfred döblin novel name star günter lamprecht hanna schygulla barbara sukowa elisabeth trissenaar gottfried john complete film ½ hour long                                                                           \n",
       "13953  epic tale family rural life small german village told changing backdrop country turbulent history aftermath first world war economic hardship rise fall nazism second world war decade followed life village go value aspiration people heart wonderfully brought life gripping saga ordinary family living extraordinary time  \n",
       "19965  survey musical form history major talent                                                                                                                                                                                                                                                                                        \n",
       "24178  economic cultural growth colorado spanning two century mids lates                                                                                                                                                                                                                                                               \n",
       "40938  chronicle sport signature people place event well deeprooted relationship american culture pastime centuryandahalf history unfolds ten nostalgic informative inning delve baseball spiritual resonance entire nation                                                                                                            "
      ]
     },
     "execution_count": 135,
     "metadata": {},
     "output_type": "execute_result"
    }
   ],
   "source": [
    "#Finding the outliers on the runtime column\n",
    "df_movies_metadata_bronze[(df_movies_metadata_bronze['runtime'] < 0) | (df_movies_metadata_bronze['runtime'] > 900)]"
   ]
  },
  {
   "cell_type": "code",
   "execution_count": 136,
   "metadata": {
    "gather": {
     "logged": 1619366824033
    },
    "jupyter": {
     "outputs_hidden": false,
     "source_hidden": false
    },
    "nteract": {
     "transient": {
      "deleting": false
     }
    }
   },
   "outputs": [
    {
     "data": {
      "text/html": [
       "<div>\n",
       "<style scoped>\n",
       "    .dataframe tbody tr th:only-of-type {\n",
       "        vertical-align: middle;\n",
       "    }\n",
       "\n",
       "    .dataframe tbody tr th {\n",
       "        vertical-align: top;\n",
       "    }\n",
       "\n",
       "    .dataframe thead th {\n",
       "        text-align: right;\n",
       "    }\n",
       "</style>\n",
       "<table border=\"1\" class=\"dataframe\">\n",
       "  <thead>\n",
       "    <tr style=\"text-align: right;\">\n",
       "      <th></th>\n",
       "      <th>budget</th>\n",
       "      <th>genres</th>\n",
       "      <th>id</th>\n",
       "      <th>original_language</th>\n",
       "      <th>overview</th>\n",
       "      <th>popularity</th>\n",
       "      <th>production_companies</th>\n",
       "      <th>production_countries</th>\n",
       "      <th>release_date</th>\n",
       "      <th>revenue</th>\n",
       "      <th>runtime</th>\n",
       "      <th>spoken_languages</th>\n",
       "      <th>status</th>\n",
       "      <th>title</th>\n",
       "      <th>vote_average</th>\n",
       "      <th>vote_count</th>\n",
       "      <th>overview_cleaned</th>\n",
       "    </tr>\n",
       "  </thead>\n",
       "  <tbody>\n",
       "  </tbody>\n",
       "</table>\n",
       "</div>"
      ],
      "text/plain": [
       "Empty DataFrame\n",
       "Columns: [budget, genres, id, original_language, overview, popularity, production_companies, production_countries, release_date, revenue, runtime, spoken_languages, status, title, vote_average, vote_count, overview_cleaned]\n",
       "Index: []"
      ]
     },
     "execution_count": 136,
     "metadata": {},
     "output_type": "execute_result"
    }
   ],
   "source": [
    "#We will not be removing any popular movie having runtime as outlier\n",
    "df_movies_metadata_bronze[((df_movies_metadata_bronze['runtime'] < 0) | (df_movies_metadata_bronze['runtime'] > 900)) & df_movies_metadata_bronze.popularity > 1]"
   ]
  },
  {
   "cell_type": "code",
   "execution_count": 138,
   "metadata": {
    "collapsed": true,
    "gather": {
     "logged": 1619367258705
    },
    "jupyter": {
     "outputs_hidden": false,
     "source_hidden": false
    },
    "nteract": {
     "transient": {
      "deleting": false
     }
    }
   },
   "outputs": [],
   "source": [
    "# get names of indexes for which\n",
    "# df_movies_metadata_bronze['runtime'] < 0 or df_movies_metadata_bronze['runtime'] > 900\n",
    "index_names = df_movies_metadata_bronze[(df_movies_metadata_bronze['runtime'] < 0) | (df_movies_metadata_bronze['runtime'] > 900)].index"
   ]
  },
  {
   "cell_type": "code",
   "execution_count": 139,
   "metadata": {
    "gather": {
     "logged": 1619367294542
    },
    "jupyter": {
     "outputs_hidden": false,
     "source_hidden": false
    },
    "nteract": {
     "transient": {
      "deleting": false
     }
    }
   },
   "outputs": [
    {
     "data": {
      "text/plain": [
       "(44771, 17)"
      ]
     },
     "execution_count": 139,
     "metadata": {},
     "output_type": "execute_result"
    }
   ],
   "source": [
    "df_movies_metadata_bronze.shape"
   ]
  },
  {
   "cell_type": "code",
   "execution_count": 140,
   "metadata": {
    "collapsed": true,
    "gather": {
     "logged": 1619367298295
    },
    "jupyter": {
     "outputs_hidden": false,
     "source_hidden": false
    },
    "nteract": {
     "transient": {
      "deleting": false
     }
    }
   },
   "outputs": [],
   "source": [
    " # drop these row indexes\n",
    "# from dataFrame\n",
    "df_movies_metadata_bronze.drop(index_names, inplace = True)"
   ]
  },
  {
   "cell_type": "code",
   "execution_count": 141,
   "metadata": {
    "gather": {
     "logged": 1619367304579
    },
    "jupyter": {
     "outputs_hidden": false,
     "source_hidden": false
    },
    "nteract": {
     "transient": {
      "deleting": false
     }
    }
   },
   "outputs": [
    {
     "data": {
      "text/plain": [
       "(44766, 17)"
      ]
     },
     "execution_count": 141,
     "metadata": {},
     "output_type": "execute_result"
    }
   ],
   "source": [
    "df_movies_metadata_bronze.shape"
   ]
  },
  {
   "cell_type": "markdown",
   "metadata": {
    "nteract": {
     "transient": {
      "deleting": false
     }
    }
   },
   "source": [
    "### Put Data (Silver) <a class=\"anchor\" id=\"PS\"></a>\n",
    "- Raw data extraction for the file, API based and web datasets. Let us call this __Bronze Layer__.\n",
    "- Data transformation using python from Raw to Processed stage. We will call this __Silver Layer__.\n",
    "- Finally store the processed data using standard taxonomy in a SQL based serving layer. We will call this __Gold Layer__."
   ]
  },
  {
   "cell_type": "markdown",
   "metadata": {
    "nteract": {
     "transient": {
      "deleting": false
     }
    }
   },
   "source": [
    "#### Write the transformed dataframe to the silver zone <a class=\"anchor\" id=\"WS\"></a>"
   ]
  },
  {
   "cell_type": "code",
   "execution_count": 143,
   "metadata": {
    "collapsed": true,
    "gather": {
     "logged": 1619367748435
    },
    "jupyter": {
     "outputs_hidden": false,
     "source_hidden": false
    },
    "nteract": {
     "transient": {
      "deleting": false
     }
    }
   },
   "outputs": [],
   "source": [
    "silver_file_name = silver_data_folder + \"movies_metadata.csv\"\n",
    "df_movies_metadata_bronze.to_csv(silver_file_name, index=False)"
   ]
  },
  {
   "cell_type": "markdown",
   "metadata": {
    "nteract": {
     "transient": {
      "deleting": false
     }
    }
   },
   "source": [
    "#### Read silver zone movies file <a class=\"anchor\" id=\"RS\"></a>"
   ]
  },
  {
   "cell_type": "code",
   "execution_count": 144,
   "metadata": {
    "gather": {
     "logged": 1619367871758
    },
    "jupyter": {
     "outputs_hidden": false,
     "source_hidden": false
    },
    "nteract": {
     "transient": {
      "deleting": false
     }
    }
   },
   "outputs": [
    {
     "data": {
      "text/html": [
       "<div>\n",
       "<style scoped>\n",
       "    .dataframe tbody tr th:only-of-type {\n",
       "        vertical-align: middle;\n",
       "    }\n",
       "\n",
       "    .dataframe tbody tr th {\n",
       "        vertical-align: top;\n",
       "    }\n",
       "\n",
       "    .dataframe thead th {\n",
       "        text-align: right;\n",
       "    }\n",
       "</style>\n",
       "<table border=\"1\" class=\"dataframe\">\n",
       "  <thead>\n",
       "    <tr style=\"text-align: right;\">\n",
       "      <th></th>\n",
       "      <th>0</th>\n",
       "      <th>1</th>\n",
       "      <th>2</th>\n",
       "    </tr>\n",
       "  </thead>\n",
       "  <tbody>\n",
       "    <tr>\n",
       "      <th>budget</th>\n",
       "      <td>30000000</td>\n",
       "      <td>65000000</td>\n",
       "      <td>0</td>\n",
       "    </tr>\n",
       "    <tr>\n",
       "      <th>genres</th>\n",
       "      <td>[{'id': 16, 'name': 'Animation'}, {'id': 35, 'name': 'Comedy'}, {'id': 10751, 'name': 'Family'}]</td>\n",
       "      <td>[{'id': 12, 'name': 'Adventure'}, {'id': 14, 'name': 'Fantasy'}, {'id': 10751, 'name': 'Family'}]</td>\n",
       "      <td>[{'id': 10749, 'name': 'Romance'}, {'id': 35, 'name': 'Comedy'}]</td>\n",
       "    </tr>\n",
       "    <tr>\n",
       "      <th>id</th>\n",
       "      <td>862</td>\n",
       "      <td>8844</td>\n",
       "      <td>15602</td>\n",
       "    </tr>\n",
       "    <tr>\n",
       "      <th>original_language</th>\n",
       "      <td>en</td>\n",
       "      <td>en</td>\n",
       "      <td>en</td>\n",
       "    </tr>\n",
       "    <tr>\n",
       "      <th>overview</th>\n",
       "      <td>Led by Woody, Andy's toys live happily in his room until Andy's birthday brings Buzz Lightyear onto the scene. Afraid of losing his place in Andy's heart, Woody plots against Buzz. But when circumstances separate Buzz and Woody from their owner, the duo eventually learns to put aside their differences.</td>\n",
       "      <td>When siblings Judy and Peter discover an enchanted board game that opens the door to a magical world, they unwittingly invite Alan -- an adult who's been trapped inside the game for 26 years -- into their living room. Alan's only hope for freedom is to finish the game, which proves risky as all three find themselves running from giant rhinoceroses, evil monkeys and other terrifying creatures.</td>\n",
       "      <td>A family wedding reignites the ancient feud between next-door neighbors and fishing buddies John and Max. Meanwhile, a sultry Italian divorcée opens a restaurant at the local bait shop, alarming the locals who worry she'll scare the fish away. But she's less interested in seafood than she is in cooking up a hot time with Max.</td>\n",
       "    </tr>\n",
       "    <tr>\n",
       "      <th>popularity</th>\n",
       "      <td>21.9469</td>\n",
       "      <td>17.0155</td>\n",
       "      <td>11.7129</td>\n",
       "    </tr>\n",
       "    <tr>\n",
       "      <th>production_companies</th>\n",
       "      <td>[{'name': 'Pixar Animation Studios', 'id': 3}]</td>\n",
       "      <td>[{'name': 'TriStar Pictures', 'id': 559}, {'name': 'Teitler Film', 'id': 2550}, {'name': 'Interscope Communications', 'id': 10201}]</td>\n",
       "      <td>[{'name': 'Warner Bros.', 'id': 6194}, {'name': 'Lancaster Gate', 'id': 19464}]</td>\n",
       "    </tr>\n",
       "    <tr>\n",
       "      <th>production_countries</th>\n",
       "      <td>[{'iso_3166_1': 'US', 'name': 'United States of America'}]</td>\n",
       "      <td>[{'iso_3166_1': 'US', 'name': 'United States of America'}]</td>\n",
       "      <td>[{'iso_3166_1': 'US', 'name': 'United States of America'}]</td>\n",
       "    </tr>\n",
       "    <tr>\n",
       "      <th>release_date</th>\n",
       "      <td>1995-10-30</td>\n",
       "      <td>1995-12-15</td>\n",
       "      <td>1995-12-22</td>\n",
       "    </tr>\n",
       "    <tr>\n",
       "      <th>revenue</th>\n",
       "      <td>373554033</td>\n",
       "      <td>262797249</td>\n",
       "      <td>0</td>\n",
       "    </tr>\n",
       "    <tr>\n",
       "      <th>runtime</th>\n",
       "      <td>81</td>\n",
       "      <td>104</td>\n",
       "      <td>101</td>\n",
       "    </tr>\n",
       "    <tr>\n",
       "      <th>spoken_languages</th>\n",
       "      <td>[{'iso_639_1': 'en', 'name': 'English'}]</td>\n",
       "      <td>[{'iso_639_1': 'en', 'name': 'English'}, {'iso_639_1': 'fr', 'name': 'Français'}]</td>\n",
       "      <td>[{'iso_639_1': 'en', 'name': 'English'}]</td>\n",
       "    </tr>\n",
       "    <tr>\n",
       "      <th>status</th>\n",
       "      <td>Released</td>\n",
       "      <td>Released</td>\n",
       "      <td>Released</td>\n",
       "    </tr>\n",
       "    <tr>\n",
       "      <th>title</th>\n",
       "      <td>Toy Story</td>\n",
       "      <td>Jumanji</td>\n",
       "      <td>Grumpier Old Men</td>\n",
       "    </tr>\n",
       "    <tr>\n",
       "      <th>vote_average</th>\n",
       "      <td>7.7</td>\n",
       "      <td>6.9</td>\n",
       "      <td>6.5</td>\n",
       "    </tr>\n",
       "    <tr>\n",
       "      <th>vote_count</th>\n",
       "      <td>5415</td>\n",
       "      <td>2413</td>\n",
       "      <td>92</td>\n",
       "    </tr>\n",
       "    <tr>\n",
       "      <th>overview_cleaned</th>\n",
       "      <td>led woody andy toy live happily room andy birthday brings buzz lightyear onto scene afraid losing place andy heart woody plot buzz circumstance separate buzz woody owner duo eventually learns put aside difference</td>\n",
       "      <td>sibling judy peter discover enchanted board game open door magical world unwittingly invite alan adult trapped inside game year living room alan hope freedom finish game prof risky three find running giant rhinoceros evil monkey terrifying creature</td>\n",
       "      <td>family wedding reignites ancient feud nextdoor neighbor fishing buddy john max meanwhile sultry italian divorcée open restaurant local bait shop alarming local worry shell scare fish away le interested seafood cooking hot time max</td>\n",
       "    </tr>\n",
       "  </tbody>\n",
       "</table>\n",
       "</div>"
      ],
      "text/plain": [
       "                                                                                                                                                                                                                                                                                                                                    0  \\\n",
       "budget                30000000                                                                                                                                                                                                                                                                                                          \n",
       "genres                [{'id': 16, 'name': 'Animation'}, {'id': 35, 'name': 'Comedy'}, {'id': 10751, 'name': 'Family'}]                                                                                                                                                                                                                  \n",
       "id                    862                                                                                                                                                                                                                                                                                                               \n",
       "original_language     en                                                                                                                                                                                                                                                                                                                \n",
       "overview              Led by Woody, Andy's toys live happily in his room until Andy's birthday brings Buzz Lightyear onto the scene. Afraid of losing his place in Andy's heart, Woody plots against Buzz. But when circumstances separate Buzz and Woody from their owner, the duo eventually learns to put aside their differences.   \n",
       "popularity            21.9469                                                                                                                                                                                                                                                                                                           \n",
       "production_companies  [{'name': 'Pixar Animation Studios', 'id': 3}]                                                                                                                                                                                                                                                                    \n",
       "production_countries  [{'iso_3166_1': 'US', 'name': 'United States of America'}]                                                                                                                                                                                                                                                        \n",
       "release_date          1995-10-30                                                                                                                                                                                                                                                                                                        \n",
       "revenue               373554033                                                                                                                                                                                                                                                                                                         \n",
       "runtime               81                                                                                                                                                                                                                                                                                                                \n",
       "spoken_languages      [{'iso_639_1': 'en', 'name': 'English'}]                                                                                                                                                                                                                                                                          \n",
       "status                Released                                                                                                                                                                                                                                                                                                          \n",
       "title                 Toy Story                                                                                                                                                                                                                                                                                                         \n",
       "vote_average          7.7                                                                                                                                                                                                                                                                                                               \n",
       "vote_count            5415                                                                                                                                                                                                                                                                                                              \n",
       "overview_cleaned      led woody andy toy live happily room andy birthday brings buzz lightyear onto scene afraid losing place andy heart woody plot buzz circumstance separate buzz woody owner duo eventually learns put aside difference                                                                                              \n",
       "\n",
       "                                                                                                                                                                                                                                                                                                                                                                                                                                1  \\\n",
       "budget                65000000                                                                                                                                                                                                                                                                                                                                                                                                      \n",
       "genres                [{'id': 12, 'name': 'Adventure'}, {'id': 14, 'name': 'Fantasy'}, {'id': 10751, 'name': 'Family'}]                                                                                                                                                                                                                                                                                                             \n",
       "id                    8844                                                                                                                                                                                                                                                                                                                                                                                                          \n",
       "original_language     en                                                                                                                                                                                                                                                                                                                                                                                                            \n",
       "overview              When siblings Judy and Peter discover an enchanted board game that opens the door to a magical world, they unwittingly invite Alan -- an adult who's been trapped inside the game for 26 years -- into their living room. Alan's only hope for freedom is to finish the game, which proves risky as all three find themselves running from giant rhinoceroses, evil monkeys and other terrifying creatures.   \n",
       "popularity            17.0155                                                                                                                                                                                                                                                                                                                                                                                                       \n",
       "production_companies  [{'name': 'TriStar Pictures', 'id': 559}, {'name': 'Teitler Film', 'id': 2550}, {'name': 'Interscope Communications', 'id': 10201}]                                                                                                                                                                                                                                                                           \n",
       "production_countries  [{'iso_3166_1': 'US', 'name': 'United States of America'}]                                                                                                                                                                                                                                                                                                                                                    \n",
       "release_date          1995-12-15                                                                                                                                                                                                                                                                                                                                                                                                    \n",
       "revenue               262797249                                                                                                                                                                                                                                                                                                                                                                                                     \n",
       "runtime               104                                                                                                                                                                                                                                                                                                                                                                                                           \n",
       "spoken_languages      [{'iso_639_1': 'en', 'name': 'English'}, {'iso_639_1': 'fr', 'name': 'Français'}]                                                                                                                                                                                                                                                                                                                             \n",
       "status                Released                                                                                                                                                                                                                                                                                                                                                                                                      \n",
       "title                 Jumanji                                                                                                                                                                                                                                                                                                                                                                                                       \n",
       "vote_average          6.9                                                                                                                                                                                                                                                                                                                                                                                                           \n",
       "vote_count            2413                                                                                                                                                                                                                                                                                                                                                                                                          \n",
       "overview_cleaned      sibling judy peter discover enchanted board game open door magical world unwittingly invite alan adult trapped inside game year living room alan hope freedom finish game prof risky three find running giant rhinoceros evil monkey terrifying creature                                                                                                                                                      \n",
       "\n",
       "                                                                                                                                                                                                                                                                                                                                                            2  \n",
       "budget                0                                                                                                                                                                                                                                                                                                                                        \n",
       "genres                [{'id': 10749, 'name': 'Romance'}, {'id': 35, 'name': 'Comedy'}]                                                                                                                                                                                                                                                                         \n",
       "id                    15602                                                                                                                                                                                                                                                                                                                                    \n",
       "original_language     en                                                                                                                                                                                                                                                                                                                                       \n",
       "overview              A family wedding reignites the ancient feud between next-door neighbors and fishing buddies John and Max. Meanwhile, a sultry Italian divorcée opens a restaurant at the local bait shop, alarming the locals who worry she'll scare the fish away. But she's less interested in seafood than she is in cooking up a hot time with Max.  \n",
       "popularity            11.7129                                                                                                                                                                                                                                                                                                                                  \n",
       "production_companies  [{'name': 'Warner Bros.', 'id': 6194}, {'name': 'Lancaster Gate', 'id': 19464}]                                                                                                                                                                                                                                                          \n",
       "production_countries  [{'iso_3166_1': 'US', 'name': 'United States of America'}]                                                                                                                                                                                                                                                                               \n",
       "release_date          1995-12-22                                                                                                                                                                                                                                                                                                                               \n",
       "revenue               0                                                                                                                                                                                                                                                                                                                                        \n",
       "runtime               101                                                                                                                                                                                                                                                                                                                                      \n",
       "spoken_languages      [{'iso_639_1': 'en', 'name': 'English'}]                                                                                                                                                                                                                                                                                                 \n",
       "status                Released                                                                                                                                                                                                                                                                                                                                 \n",
       "title                 Grumpier Old Men                                                                                                                                                                                                                                                                                                                         \n",
       "vote_average          6.5                                                                                                                                                                                                                                                                                                                                      \n",
       "vote_count            92                                                                                                                                                                                                                                                                                                                                       \n",
       "overview_cleaned      family wedding reignites ancient feud nextdoor neighbor fishing buddy john max meanwhile sultry italian divorcée open restaurant local bait shop alarming local worry shell scare fish away le interested seafood cooking hot time max                                                                                                   "
      ]
     },
     "execution_count": 144,
     "metadata": {},
     "output_type": "execute_result"
    }
   ],
   "source": [
    "df_movies_metadata_silver = pd.read_csv(silver_file_name)\n",
    "df_movies_metadata_silver.head(3).transpose()"
   ]
  }
 ],
 "metadata": {
  "kernel_info": {
   "name": "python3-azureml"
  },
  "kernelspec": {
   "display_name": "Python 3",
   "language": "python",
   "name": "python3"
  },
  "language_info": {
   "codemirror_mode": {
    "name": "ipython",
    "version": 3
   },
   "file_extension": ".py",
   "mimetype": "text/x-python",
   "name": "python",
   "nbconvert_exporter": "python",
   "pygments_lexer": "ipython3",
   "version": "3.8.6"
  },
  "microsoft": {
   "host": {
    "AzureML": {
     "notebookHasBeenCompleted": true
    }
   }
  },
  "nteract": {
   "version": "nteract-front-end@1.0.0"
  }
 },
 "nbformat": 4,
 "nbformat_minor": 2
}
